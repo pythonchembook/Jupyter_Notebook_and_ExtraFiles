{
 "cells": [
  {
   "cell_type": "markdown",
   "metadata": {},
   "source": [
    "# Capítulo 14: Química forense: Quem roubou as cerâmicas?\n",
    "\n",
    "Livro: Aprendendo Química com Python, Rodrigo Q. de Albuquerque & Gerd B. da Rocha, 2021, Amazon Book.\n",
    "\n",
    "E-Mail: learn.chem.python@gmail.com"
   ]
  },
  {
   "cell_type": "markdown",
   "metadata": {},
   "source": [
    "### Versão do Python usada"
   ]
  },
  {
   "cell_type": "code",
   "execution_count": 1,
   "metadata": {},
   "outputs": [
    {
     "name": "stdout",
     "output_type": "stream",
     "text": [
      "3.7.10 | packaged by conda-forge | (default, Feb 19 2021, 16:07:37) \n",
      "[GCC 9.3.0]\n"
     ]
    }
   ],
   "source": [
    "import sys\n",
    "print(sys.version)"
   ]
  },
  {
   "cell_type": "markdown",
   "metadata": {},
   "source": [
    "### Caixa de sessão interativa 47: Importando arquivos .csv com Pandas"
   ]
  },
  {
   "cell_type": "code",
   "execution_count": 1,
   "metadata": {},
   "outputs": [],
   "source": [
    "import pandas as pd\n",
    "from sklearn.decomposition import PCA\n",
    "import matplotlib.pyplot as plt"
   ]
  },
  {
   "cell_type": "code",
   "execution_count": 2,
   "metadata": {},
   "outputs": [
    {
     "data": {
      "text/html": [
       "<div>\n",
       "<style scoped>\n",
       "    .dataframe tbody tr th:only-of-type {\n",
       "        vertical-align: middle;\n",
       "    }\n",
       "\n",
       "    .dataframe tbody tr th {\n",
       "        vertical-align: top;\n",
       "    }\n",
       "\n",
       "    .dataframe thead th {\n",
       "        text-align: right;\n",
       "    }\n",
       "</style>\n",
       "<table border=\"1\" class=\"dataframe\">\n",
       "  <thead>\n",
       "    <tr style=\"text-align: right;\">\n",
       "      <th></th>\n",
       "      <th>Suspect</th>\n",
       "      <th>Na2O</th>\n",
       "      <th>MgO</th>\n",
       "      <th>Al2O3</th>\n",
       "      <th>SiO2</th>\n",
       "      <th>K2O</th>\n",
       "      <th>CaO</th>\n",
       "    </tr>\n",
       "  </thead>\n",
       "  <tbody>\n",
       "    <tr>\n",
       "      <th>0</th>\n",
       "      <td>A</td>\n",
       "      <td>62.3250</td>\n",
       "      <td>88.5290</td>\n",
       "      <td>56.4340</td>\n",
       "      <td>55.5349</td>\n",
       "      <td>12.3505</td>\n",
       "      <td>67.6042</td>\n",
       "    </tr>\n",
       "    <tr>\n",
       "      <th>1</th>\n",
       "      <td>B</td>\n",
       "      <td>52.2787</td>\n",
       "      <td>14.3208</td>\n",
       "      <td>56.4533</td>\n",
       "      <td>49.3661</td>\n",
       "      <td>79.0053</td>\n",
       "      <td>45.0288</td>\n",
       "    </tr>\n",
       "    <tr>\n",
       "      <th>2</th>\n",
       "      <td>C</td>\n",
       "      <td>57.9784</td>\n",
       "      <td>48.1847</td>\n",
       "      <td>94.4986</td>\n",
       "      <td>50.9542</td>\n",
       "      <td>48.8107</td>\n",
       "      <td>53.8675</td>\n",
       "    </tr>\n",
       "  </tbody>\n",
       "</table>\n",
       "</div>"
      ],
      "text/plain": [
       "  Suspect     Na2O      MgO    Al2O3     SiO2      K2O      CaO\n",
       "0       A  62.3250  88.5290  56.4340  55.5349  12.3505  67.6042\n",
       "1       B  52.2787  14.3208  56.4533  49.3661  79.0053  45.0288\n",
       "2       C  57.9784  48.1847  94.4986  50.9542  48.8107  53.8675"
      ]
     },
     "execution_count": 2,
     "metadata": {},
     "output_type": "execute_result"
    }
   ],
   "source": [
    "suspects = pd.read_csv('suspects.csv')\n",
    "suspects"
   ]
  },
  {
   "cell_type": "code",
   "execution_count": 3,
   "metadata": {},
   "outputs": [
    {
     "data": {
      "text/html": [
       "<div>\n",
       "<style scoped>\n",
       "    .dataframe tbody tr th:only-of-type {\n",
       "        vertical-align: middle;\n",
       "    }\n",
       "\n",
       "    .dataframe tbody tr th {\n",
       "        vertical-align: top;\n",
       "    }\n",
       "\n",
       "    .dataframe thead th {\n",
       "        text-align: right;\n",
       "    }\n",
       "</style>\n",
       "<table border=\"1\" class=\"dataframe\">\n",
       "  <thead>\n",
       "    <tr style=\"text-align: right;\">\n",
       "      <th></th>\n",
       "      <th>Expositor</th>\n",
       "      <th>Na2O</th>\n",
       "      <th>MgO</th>\n",
       "      <th>Al2O3</th>\n",
       "      <th>SiO2</th>\n",
       "      <th>K2O</th>\n",
       "      <th>CaO</th>\n",
       "    </tr>\n",
       "  </thead>\n",
       "  <tbody>\n",
       "    <tr>\n",
       "      <th>0</th>\n",
       "      <td>Sarah Gordon</td>\n",
       "      <td>61.0848</td>\n",
       "      <td>22.5785</td>\n",
       "      <td>46.5764</td>\n",
       "      <td>45.4828</td>\n",
       "      <td>56.8108</td>\n",
       "      <td>32.8381</td>\n",
       "    </tr>\n",
       "    <tr>\n",
       "      <th>1</th>\n",
       "      <td>John Smith</td>\n",
       "      <td>45.0248</td>\n",
       "      <td>73.9207</td>\n",
       "      <td>50.8347</td>\n",
       "      <td>81.9649</td>\n",
       "      <td>44.0979</td>\n",
       "      <td>39.8057</td>\n",
       "    </tr>\n",
       "    <tr>\n",
       "      <th>2</th>\n",
       "      <td>John Smith</td>\n",
       "      <td>32.4749</td>\n",
       "      <td>48.4776</td>\n",
       "      <td>66.3689</td>\n",
       "      <td>78.5381</td>\n",
       "      <td>23.4227</td>\n",
       "      <td>100.1000</td>\n",
       "    </tr>\n",
       "    <tr>\n",
       "      <th>3</th>\n",
       "      <td>John Smith</td>\n",
       "      <td>19.6655</td>\n",
       "      <td>89.7197</td>\n",
       "      <td>59.5002</td>\n",
       "      <td>84.5850</td>\n",
       "      <td>32.6948</td>\n",
       "      <td>72.5226</td>\n",
       "    </tr>\n",
       "    <tr>\n",
       "      <th>4</th>\n",
       "      <td>John Smith</td>\n",
       "      <td>24.8823</td>\n",
       "      <td>66.8630</td>\n",
       "      <td>86.3564</td>\n",
       "      <td>77.5906</td>\n",
       "      <td>39.0820</td>\n",
       "      <td>54.4464</td>\n",
       "    </tr>\n",
       "    <tr>\n",
       "      <th>...</th>\n",
       "      <td>...</td>\n",
       "      <td>...</td>\n",
       "      <td>...</td>\n",
       "      <td>...</td>\n",
       "      <td>...</td>\n",
       "      <td>...</td>\n",
       "      <td>...</td>\n",
       "    </tr>\n",
       "    <tr>\n",
       "      <th>95</th>\n",
       "      <td>John Smith</td>\n",
       "      <td>23.5325</td>\n",
       "      <td>62.6577</td>\n",
       "      <td>81.1289</td>\n",
       "      <td>84.3023</td>\n",
       "      <td>13.5579</td>\n",
       "      <td>85.8585</td>\n",
       "    </tr>\n",
       "    <tr>\n",
       "      <th>96</th>\n",
       "      <td>John Smith</td>\n",
       "      <td>23.4855</td>\n",
       "      <td>69.1654</td>\n",
       "      <td>21.3812</td>\n",
       "      <td>65.9542</td>\n",
       "      <td>20.1392</td>\n",
       "      <td>58.4875</td>\n",
       "    </tr>\n",
       "    <tr>\n",
       "      <th>97</th>\n",
       "      <td>Sarah Gordon</td>\n",
       "      <td>46.5608</td>\n",
       "      <td>7.4845</td>\n",
       "      <td>93.8832</td>\n",
       "      <td>20.1160</td>\n",
       "      <td>75.5314</td>\n",
       "      <td>41.7696</td>\n",
       "    </tr>\n",
       "    <tr>\n",
       "      <th>98</th>\n",
       "      <td>John Smith</td>\n",
       "      <td>15.6147</td>\n",
       "      <td>63.5472</td>\n",
       "      <td>77.8860</td>\n",
       "      <td>78.5308</td>\n",
       "      <td>49.0811</td>\n",
       "      <td>78.7692</td>\n",
       "    </tr>\n",
       "    <tr>\n",
       "      <th>99</th>\n",
       "      <td>John Smith</td>\n",
       "      <td>15.6706</td>\n",
       "      <td>92.0984</td>\n",
       "      <td>54.8415</td>\n",
       "      <td>63.6131</td>\n",
       "      <td>36.5561</td>\n",
       "      <td>51.2947</td>\n",
       "    </tr>\n",
       "  </tbody>\n",
       "</table>\n",
       "<p>100 rows × 7 columns</p>\n",
       "</div>"
      ],
      "text/plain": [
       "       Expositor     Na2O      MgO    Al2O3     SiO2      K2O       CaO\n",
       "0   Sarah Gordon  61.0848  22.5785  46.5764  45.4828  56.8108   32.8381\n",
       "1     John Smith  45.0248  73.9207  50.8347  81.9649  44.0979   39.8057\n",
       "2     John Smith  32.4749  48.4776  66.3689  78.5381  23.4227  100.1000\n",
       "3     John Smith  19.6655  89.7197  59.5002  84.5850  32.6948   72.5226\n",
       "4     John Smith  24.8823  66.8630  86.3564  77.5906  39.0820   54.4464\n",
       "..           ...      ...      ...      ...      ...      ...       ...\n",
       "95    John Smith  23.5325  62.6577  81.1289  84.3023  13.5579   85.8585\n",
       "96    John Smith  23.4855  69.1654  21.3812  65.9542  20.1392   58.4875\n",
       "97  Sarah Gordon  46.5608   7.4845  93.8832  20.1160  75.5314   41.7696\n",
       "98    John Smith  15.6147  63.5472  77.8860  78.5308  49.0811   78.7692\n",
       "99    John Smith  15.6706  92.0984  54.8415  63.6131  36.5561   51.2947\n",
       "\n",
       "[100 rows x 7 columns]"
      ]
     },
     "execution_count": 3,
     "metadata": {},
     "output_type": "execute_result"
    }
   ],
   "source": [
    "data = pd.read_csv('dataset.csv')\n",
    "data"
   ]
  },
  {
   "cell_type": "markdown",
   "metadata": {},
   "source": [
    "### "
   ]
  },
  {
   "cell_type": "code",
   "execution_count": 4,
   "metadata": {},
   "outputs": [
    {
     "data": {
      "text/html": [
       "<div>\n",
       "<style scoped>\n",
       "    .dataframe tbody tr th:only-of-type {\n",
       "        vertical-align: middle;\n",
       "    }\n",
       "\n",
       "    .dataframe tbody tr th {\n",
       "        vertical-align: top;\n",
       "    }\n",
       "\n",
       "    .dataframe thead th {\n",
       "        text-align: right;\n",
       "    }\n",
       "</style>\n",
       "<table border=\"1\" class=\"dataframe\">\n",
       "  <thead>\n",
       "    <tr style=\"text-align: right;\">\n",
       "      <th></th>\n",
       "      <th>Na2O</th>\n",
       "      <th>MgO</th>\n",
       "      <th>Al2O3</th>\n",
       "      <th>SiO2</th>\n",
       "      <th>K2O</th>\n",
       "      <th>CaO</th>\n",
       "    </tr>\n",
       "  </thead>\n",
       "  <tbody>\n",
       "    <tr>\n",
       "      <th>count</th>\n",
       "      <td>100.000000</td>\n",
       "      <td>100.000000</td>\n",
       "      <td>100.000000</td>\n",
       "      <td>100.000000</td>\n",
       "      <td>100.000000</td>\n",
       "      <td>100.000000</td>\n",
       "    </tr>\n",
       "    <tr>\n",
       "      <th>mean</th>\n",
       "      <td>41.518716</td>\n",
       "      <td>47.739194</td>\n",
       "      <td>56.516911</td>\n",
       "      <td>53.431247</td>\n",
       "      <td>50.258311</td>\n",
       "      <td>49.908181</td>\n",
       "    </tr>\n",
       "    <tr>\n",
       "      <th>std</th>\n",
       "      <td>23.807219</td>\n",
       "      <td>25.496401</td>\n",
       "      <td>20.819292</td>\n",
       "      <td>24.965526</td>\n",
       "      <td>21.068675</td>\n",
       "      <td>23.149488</td>\n",
       "    </tr>\n",
       "    <tr>\n",
       "      <th>min</th>\n",
       "      <td>0.100000</td>\n",
       "      <td>0.100000</td>\n",
       "      <td>0.100000</td>\n",
       "      <td>0.100000</td>\n",
       "      <td>0.100000</td>\n",
       "      <td>0.100000</td>\n",
       "    </tr>\n",
       "    <tr>\n",
       "      <th>25%</th>\n",
       "      <td>21.594500</td>\n",
       "      <td>25.420500</td>\n",
       "      <td>44.042825</td>\n",
       "      <td>30.323300</td>\n",
       "      <td>33.383900</td>\n",
       "      <td>32.813600</td>\n",
       "    </tr>\n",
       "    <tr>\n",
       "      <th>50%</th>\n",
       "      <td>41.830100</td>\n",
       "      <td>49.437050</td>\n",
       "      <td>54.625700</td>\n",
       "      <td>49.790000</td>\n",
       "      <td>51.617300</td>\n",
       "      <td>52.085100</td>\n",
       "    </tr>\n",
       "    <tr>\n",
       "      <th>75%</th>\n",
       "      <td>60.188150</td>\n",
       "      <td>69.230475</td>\n",
       "      <td>73.041025</td>\n",
       "      <td>77.825650</td>\n",
       "      <td>67.125150</td>\n",
       "      <td>68.388975</td>\n",
       "    </tr>\n",
       "    <tr>\n",
       "      <th>max</th>\n",
       "      <td>100.100000</td>\n",
       "      <td>100.100000</td>\n",
       "      <td>100.100000</td>\n",
       "      <td>100.100000</td>\n",
       "      <td>100.100000</td>\n",
       "      <td>100.100000</td>\n",
       "    </tr>\n",
       "  </tbody>\n",
       "</table>\n",
       "</div>"
      ],
      "text/plain": [
       "             Na2O         MgO       Al2O3        SiO2         K2O         CaO\n",
       "count  100.000000  100.000000  100.000000  100.000000  100.000000  100.000000\n",
       "mean    41.518716   47.739194   56.516911   53.431247   50.258311   49.908181\n",
       "std     23.807219   25.496401   20.819292   24.965526   21.068675   23.149488\n",
       "min      0.100000    0.100000    0.100000    0.100000    0.100000    0.100000\n",
       "25%     21.594500   25.420500   44.042825   30.323300   33.383900   32.813600\n",
       "50%     41.830100   49.437050   54.625700   49.790000   51.617300   52.085100\n",
       "75%     60.188150   69.230475   73.041025   77.825650   67.125150   68.388975\n",
       "max    100.100000  100.100000  100.100000  100.100000  100.100000  100.100000"
      ]
     },
     "execution_count": 4,
     "metadata": {},
     "output_type": "execute_result"
    }
   ],
   "source": [
    "data.describe()"
   ]
  },
  {
   "cell_type": "code",
   "execution_count": 5,
   "metadata": {},
   "outputs": [
    {
     "data": {
      "image/png": "[encoded data removed]",
      "text/plain": [
       "<Figure size 432x288 with 6 Axes>"
      ]
     },
     "metadata": {
      "needs_background": "light"
     },
     "output_type": "display_data"
    }
   ],
   "source": [
    "data.hist(bins = 20)\n",
    "plt.tight_layout()\n",
    "plt.show()"
   ]
  },
  {
   "cell_type": "code",
   "execution_count": 6,
   "metadata": {},
   "outputs": [
    {
     "data": {
      "image/png": "[encoded data removed]",
      "text/plain": [
       "<Figure size 432x288 with 1 Axes>"
      ]
     },
     "metadata": {
      "needs_background": "light"
     },
     "output_type": "display_data"
    }
   ],
   "source": [
    "import seaborn as sns\n",
    "sns.histplot\n",
    "sns.histplot(data['MgO'], bins = 20, kde = True)\n",
    "plt.show()"
   ]
  },
  {
   "cell_type": "markdown",
   "metadata": {},
   "source": [
    "### Caixa de código 36: Preparação dos dados"
   ]
  },
  {
   "cell_type": "code",
   "execution_count": 7,
   "metadata": {},
   "outputs": [],
   "source": [
    "# NOTA: as bibliotecas e dados foram importados anteriormente\n",
    "X = data.drop(['Expositor'], axis = 1)      # var/expositores\n",
    "y = data['Expositor']                 # nomes dos expositores\n",
    "X_susp = suspects.drop(['Suspect'], axis = 1)     # suspeitos\n",
    "labels = []\n",
    "for i in range(y.shape[0]):\n",
    "    if y[i] == 'Sarah Gordon':\n",
    "        labels.append('red')                    # expositor 1\n",
    "    else:\n",
    "        labels.append('blue')                   # expositor 2\n",
    "from sklearn.preprocessing import StandardScaler\n",
    "scaler = StandardScaler()     # objeto para pré-processamento\n",
    "X = scaler.fit_transform(X)                  # X é redefinido\n",
    "X_susp = scaler.transform(X_susp)       # X_susp é redefinido"
   ]
  },
  {
   "cell_type": "markdown",
   "metadata": {},
   "source": [
    "### Caixa de sessão interativa 48: Análise de componentes principais das amostras dos expositores"
   ]
  },
  {
   "cell_type": "code",
   "execution_count": 8,
   "metadata": {},
   "outputs": [],
   "source": [
    "model = PCA(5)       # 5 componentes principais serão geradas\n",
    "model.fit(X)       # calcule as componentes principais para X\n",
    "scores = model.transform(X)   # novas coordenadas (PC1 a PC5)\n",
    "pc1 = scores[:,0]  # novas coordenadas (PC1) das 100 amostras"
   ]
  },
  {
   "cell_type": "code",
   "execution_count": 9,
   "metadata": {},
   "outputs": [
    {
     "data": {
      "text/plain": [
       "1.4343597099676173"
      ]
     },
     "execution_count": 9,
     "metadata": {},
     "output_type": "execute_result"
    }
   ],
   "source": [
    "pc1[0]    # nova coordenada (PC1) da primeira amostra somente"
   ]
  },
  {
   "cell_type": "code",
   "execution_count": 10,
   "metadata": {},
   "outputs": [],
   "source": [
    "pc2 = scores[:,1]  # novas coordenadas (PC2) das 100 amostras"
   ]
  },
  {
   "cell_type": "code",
   "execution_count": 11,
   "metadata": {},
   "outputs": [
    {
     "name": "stdout",
     "output_type": "stream",
     "text": [
      "Na2O  ==> +0.43\n",
      "MgO   ==> -0.45\n",
      "Al2O3 ==> -0.03\n",
      "SiO2  ==> -0.48\n",
      "K2O   ==> +0.44\n",
      "CaO   ==> -0.43\n"
     ]
    }
   ],
   "source": [
    "weight1 = model.components_[0]   # loadings da componente PC1\n",
    "for i in range(weight1.shape[0]):\n",
    "    print(f'{data.columns[i+1]:<5} ==> {weight1[i]:+.2f}')"
   ]
  },
  {
   "cell_type": "code",
   "execution_count": 12,
   "metadata": {},
   "outputs": [
    {
     "data": {
      "image/png": "[encoded data removed]",
      "text/plain": [
       "<Figure size 432x288 with 1 Axes>"
      ]
     },
     "metadata": {
      "needs_background": "light"
     },
     "output_type": "display_data"
    }
   ],
   "source": [
    "plt.scatter(pc1, pc2, c = labels)\n",
    "plt.title('Blue = John Smith    |    Red = Sarah Gordon')\n",
    "plt.xlabel('PC1')\n",
    "plt.ylabel('PC2')\n",
    "plt.show()"
   ]
  },
  {
   "cell_type": "markdown",
   "metadata": {},
   "source": [
    "### Caixa de código 37: Inclusão das amostras dos suspeitos no modelo anterior"
   ]
  },
  {
   "cell_type": "code",
   "execution_count": 13,
   "metadata": {},
   "outputs": [
    {
     "data": {
      "image/png": "[encoded data removed]",
      "text/plain": [
       "<Figure size 432x288 with 1 Axes>"
      ]
     },
     "metadata": {
      "needs_background": "light"
     },
     "output_type": "display_data"
    }
   ],
   "source": [
    "scores_s = model.transform(X_susp)\n",
    "plt.scatter(pc1, pc2, c = labels)\n",
    "plt.plot(scores_s[0,0], scores_s[0,1], 'k^', ms = 10, label='A')\n",
    "plt.plot(scores_s[1,0], scores_s[1,1], 'ks', ms = 10, label='B')\n",
    "plt.plot(scores_s[2,0], scores_s[2,1], 'ko', ms = 10, label='C')\n",
    "plt.legend(loc = 2, ncol = 3)\n",
    "plt.title('Blue = John Smith    |    Red = Sarah Gordon')\n",
    "plt.xlabel('PC1')\n",
    "plt.ylabel('PC2')\n",
    "plt.show()"
   ]
  }
 ],
 "metadata": {
  "kernelspec": {
   "display_name": "Python 3",
   "language": "python",
   "name": "python3"
  },
  "language_info": {
   "codemirror_mode": {
    "name": "ipython",
    "version": 3
   },
   "file_extension": ".py",
   "mimetype": "text/x-python",
   "name": "python",
   "nbconvert_exporter": "python",
   "pygments_lexer": "ipython3",
   "version": "3.8.11"
  }
 },
 "nbformat": 4,
 "nbformat_minor": 5
}

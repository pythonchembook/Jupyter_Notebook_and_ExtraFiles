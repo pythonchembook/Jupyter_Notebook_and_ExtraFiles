{
 "cells": [
  {
   "cell_type": "markdown",
   "metadata": {},
   "source": [
    "# Capítulo 9: Editando e executando arquivos externos\n",
    "\n",
    "Livro: Aprendendo Química com Python, Rodrigo Q. de Albuquerque & Gerd B. da Rocha, 2021, Amazon Book.\n",
    "\n",
    "E-Mail: learn.chem.python@gmail.com"
   ]
  },
  {
   "cell_type": "markdown",
   "metadata": {},
   "source": [
    "### Versão do Python usada"
   ]
  },
  {
   "cell_type": "code",
   "execution_count": 88,
   "metadata": {},
   "outputs": [
    {
     "name": "stdout",
     "output_type": "stream",
     "text": [
      "3.7.10 | packaged by conda-forge | (default, Feb 19 2021, 16:07:37) \n",
      "[GCC 9.3.0]\n"
     ]
    }
   ],
   "source": [
    "import sys\n",
    "print(sys.version)"
   ]
  },
  {
   "cell_type": "markdown",
   "metadata": {},
   "source": [
    "### Caixa de sessão interativa 38: Extraindo informação de arquivo"
   ]
  },
  {
   "cell_type": "code",
   "execution_count": 89,
   "metadata": {},
   "outputs": [
    {
     "name": "stdout",
     "output_type": "stream",
     "text": [
      "Overwriting file.txt\n"
     ]
    }
   ],
   "source": [
    "%%file file.txt\n",
    "Total repulsion energy = 23.435238 a.u.\n",
    "Total energy for this iteration = 22.694720 a.u.\n",
    "Final geometry:\n",
    "= = = = = = = = = = = = = = = = =\n",
    "   X      Y      Z\n",
    "H 0.0000 0.0000 0.0000\n",
    "H 0.0000 0.0000 0.7400\n",
    "Wall time: 1.321 seconds"
   ]
  },
  {
   "cell_type": "code",
   "execution_count": 90,
   "metadata": {},
   "outputs": [],
   "source": [
    "with open('file.txt') as f:     # arquivo vai pro objeto 'f'\n",
    "    f.readline()                # linha 1 é mostrada na tela\n",
    "    f.readline()                # linha 2 é mostrada na tela"
   ]
  },
  {
   "cell_type": "code",
   "execution_count": 91,
   "metadata": {},
   "outputs": [
    {
     "data": {
      "text/plain": [
       "<_io.TextIOWrapper name='file.txt' mode='r' encoding='UTF-8'>"
      ]
     },
     "execution_count": 91,
     "metadata": {},
     "output_type": "execute_result"
    }
   ],
   "source": [
    "f"
   ]
  },
  {
   "cell_type": "code",
   "execution_count": 92,
   "metadata": {},
   "outputs": [],
   "source": [
    "with open('file.txt') as f:\n",
    "    line = f.readline()      # a linha 1 é salva como 'line'"
   ]
  },
  {
   "cell_type": "code",
   "execution_count": 93,
   "metadata": {},
   "outputs": [
    {
     "data": {
      "text/plain": [
       "'Total repulsion energy = 23.435238 a.u.\\n'"
      ]
     },
     "execution_count": 93,
     "metadata": {},
     "output_type": "execute_result"
    }
   ],
   "source": [
    "line"
   ]
  },
  {
   "cell_type": "code",
   "execution_count": 94,
   "metadata": {},
   "outputs": [
    {
     "data": {
      "text/plain": [
       "'Total re'"
      ]
     },
     "execution_count": 94,
     "metadata": {},
     "output_type": "execute_result"
    }
   ],
   "source": [
    "line[:8]        # mostre os primeiros 8 caracteres de 'line'"
   ]
  },
  {
   "cell_type": "code",
   "execution_count": 95,
   "metadata": {},
   "outputs": [
    {
     "data": {
      "text/plain": [
       "['Total', 'repulsion', 'energy', '=', '23.435238', 'a.u.']"
      ]
     },
     "execution_count": 95,
     "metadata": {},
     "output_type": "execute_result"
    }
   ],
   "source": [
    "line.split()                     # elimine '\\n' e gere lista"
   ]
  },
  {
   "cell_type": "code",
   "execution_count": 96,
   "metadata": {},
   "outputs": [],
   "source": [
    "newline = line.split()"
   ]
  },
  {
   "cell_type": "code",
   "execution_count": 97,
   "metadata": {},
   "outputs": [
    {
     "data": {
      "text/plain": [
       "'23.435238'"
      ]
     },
     "execution_count": 97,
     "metadata": {},
     "output_type": "execute_result"
    }
   ],
   "source": [
    "newline[4]          "
   ]
  },
  {
   "cell_type": "code",
   "execution_count": 98,
   "metadata": {},
   "outputs": [],
   "source": [
    "energy = float(newline[4])   # converta 'string' pra 'float'"
   ]
  },
  {
   "cell_type": "code",
   "execution_count": 99,
   "metadata": {},
   "outputs": [
    {
     "data": {
      "text/plain": [
       "2.3435238"
      ]
     },
     "execution_count": 99,
     "metadata": {},
     "output_type": "execute_result"
    }
   ],
   "source": [
    "energy / 10                   # faça operações com a energia"
   ]
  },
  {
   "cell_type": "markdown",
   "metadata": {},
   "source": [
    "### Caixa de sessão interativa 39: Criando arquivos"
   ]
  },
  {
   "cell_type": "code",
   "execution_count": 100,
   "metadata": {},
   "outputs": [],
   "source": [
    "with open(\"file.txt\", 'w') as f:\n",
    "    line = 'Info 1\\n'     \n",
    "    f.write(line)         # insira a primeira linha de texto\n",
    "    line = 'Info 2' + '\\n' \n",
    "    f.write(line)          # insira a segunda linha de texto\n",
    "    f.write('Info 3\\n')   # insira a terceira linha de texto"
   ]
  },
  {
   "cell_type": "code",
   "execution_count": 101,
   "metadata": {},
   "outputs": [],
   "source": [
    "with open(\"file.txt\") as f:\n",
    "    f.readlines()"
   ]
  },
  {
   "cell_type": "code",
   "execution_count": 102,
   "metadata": {},
   "outputs": [],
   "source": [
    "with open(\"file.txt\") as f:\n",
    "    myfile = f.read()"
   ]
  },
  {
   "cell_type": "code",
   "execution_count": 103,
   "metadata": {},
   "outputs": [
    {
     "data": {
      "text/plain": [
       "'Info 1\\nInfo 2\\nInfo 3\\n'"
      ]
     },
     "execution_count": 103,
     "metadata": {},
     "output_type": "execute_result"
    }
   ],
   "source": [
    "myfile"
   ]
  },
  {
   "cell_type": "markdown",
   "metadata": {},
   "source": [
    "### Caixa de código 6: Extraindo (dados de) e modiﬁcando arquivo"
   ]
  },
  {
   "cell_type": "code",
   "execution_count": 104,
   "metadata": {},
   "outputs": [
    {
     "name": "stdout",
     "output_type": "stream",
     "text": [
      "Overwriting results.txt\n"
     ]
    }
   ],
   "source": [
    "%%file results.txt\n",
    "MC iteration 1, energy = 3.4232 hartree\n",
    "MC iteration 2, energy = 3.4783 hartree\n",
    "MC iteration 3, energy = 3.4155 hartree\n",
    "MC iteration 4, energy = 3.4369 hartree\n",
    "MC simulation will proceed for 2 more steps\n",
    "MC iteration 5, energy = 3.4423 hartree\n",
    "The MC iterations took ca 5.4321 seconds\n",
    "MC iteration 6, energy = 3.4510 hartree"
   ]
  },
  {
   "cell_type": "code",
   "execution_count": 105,
   "metadata": {},
   "outputs": [],
   "source": [
    "import numpy as np\n",
    "\n",
    "energy = []                    # valor da energia é inicializado\n",
    "\n",
    "with open('results.txt') as f:\n",
    "    lines = f.readlines()  # 'lines' = lista com todas as linhas\n",
    "\n",
    "for line in lines:                 # itere cada linha de 'lines'\n",
    "    x = line.split()              # 'x' é uma lista de 'strings'\n",
    "    if x[0] == 'MC' and x[1] == 'iteration':\n",
    "        ener = float(x[5])       # converta 'string' pra 'float'\n",
    "        energy.append(ener)     # energia: sexto elemento de 'x'\n",
    "\n",
    "mean_e = np.mean(energy)                         # energia média\n",
    "mean_e = round(mean_e, 4)           # média com 4 casas decimais\n",
    "std_e = np.std(energy)                           # desvio padrão\n",
    "std_e = round(std_e, 4)     # desvio padrão com 4 casas decimais\n",
    "\n",
    "# linha a ser adicionada\n",
    "newline = f'Average energy = {mean_e} +/- {std_e}\\n'\n",
    "\n",
    "with open('results.txt', 'a') as f:\n",
    "    f.write(newline)      # linha é adicionada ao fim do arquivo"
   ]
  },
  {
   "cell_type": "code",
   "execution_count": 106,
   "metadata": {},
   "outputs": [
    {
     "name": "stdout",
     "output_type": "stream",
     "text": [
      "MC iteration 1, energy = 3.4232 hartree\r\n",
      "MC iteration 2, energy = 3.4783 hartree\r\n",
      "MC iteration 3, energy = 3.4155 hartree\r\n",
      "MC iteration 4, energy = 3.4369 hartree\r\n",
      "MC simulation will proceed for 2 more steps\r\n",
      "MC iteration 5, energy = 3.4423 hartree\r\n",
      "The MC iterations took ca 5.4321 seconds\r\n",
      "MC iteration 6, energy = 3.4510 hartree\r\n",
      "Average energy = 3.4412 +/- 0.0203\r\n"
     ]
    }
   ],
   "source": [
    "!more results.txt   # Forma de executar um comando do sistema operacional (Linux) no Jupyter-Notebook"
   ]
  },
  {
   "cell_type": "markdown",
   "metadata": {},
   "source": [
    "## Ajustando o centro de massa de coordenadas cartesianas"
   ]
  },
  {
   "cell_type": "code",
   "execution_count": 107,
   "metadata": {},
   "outputs": [
    {
     "name": "stdout",
     "output_type": "stream",
     "text": [
      "Overwriting traj.xyz\n"
     ]
    }
   ],
   "source": [
    "%%file traj.xyz\n",
    "2\n",
    "time = 10 fs\n",
    "H   -0.163148 +0.232363 +0.156896 \n",
    "H   +0.163148 -0.232363 -0.156896 \n",
    "2\n",
    "time = 20 fs\n",
    "H   +0.246005 +0.254485 +0.000000 \n",
    "H   -0.246005 -0.254485 +0.000000 \n",
    "2\n",
    "time = 30 fs\n",
    "H   -0.276528 -0.049833 +0.194428 \n",
    "H   +0.276528 +0.049833 -0.194428"
   ]
  },
  {
   "cell_type": "markdown",
   "metadata": {},
   "source": [
    "### Caixa de código 7: Colocando centros de massa de snapshots na origem (partes 1 e 2)"
   ]
  },
  {
   "cell_type": "code",
   "execution_count": 108,
   "metadata": {},
   "outputs": [],
   "source": [
    "###### PARTE 1 ######\n",
    "with open('traj.xyz') as f:\n",
    "    lines = f.readlines()     # Salve todas as linhas em 'lines'\n",
    "\n",
    "line1 = lines[0].split() # primeira linha de traj.xyz (= string)\n",
    "n_atoms = int(line1[0])      # número total de átomos do sistema\n",
    "lines_snap = n_atoms + 2         # número de linhas por snapshot\n",
    "n_lines = len(lines)        # número total de linhas de traj.xyz\n",
    "n_snapshots = n_lines // lines_snap        # número de snapshots\n",
    "\n",
    "###### PARTE 2 ######\n",
    "cm = []           # lista vazia para guardar os centros de massa\n",
    "for snapshot in range(n_snapshots):\n",
    "    XCM, YCM, ZCM = 0, 0, 0      # inicializar o centro de massa\n",
    "    for i in range(n_atoms):\n",
    "        index = snapshot * lines_snap + i + 2  # índice variável\n",
    "        line = lines[index].split() # ['símbolo', 'X', 'Y', 'Z']\n",
    "        x = float(line[1])               # coordenada X do átomo\n",
    "        y = float(line[2])               # coordenada Y do átomo\n",
    "        z = float(line[3])               # coordenada Z do átomo\n",
    "        XCM += x                 # adicione x ao centro de massa\n",
    "        YCM += y                 # adicione y ao centro de massa\n",
    "        ZCM += z                 # adicione z ao centro de massa\n",
    "    XCM, YCM, ZCM = XCM/n_atoms, YCM/n_atoms, ZCM/n_atoms\n",
    "    cm.append([XCM, YCM, ZCM])         # guarde o CM do snapshot"
   ]
  },
  {
   "cell_type": "markdown",
   "metadata": {},
   "source": [
    "### Caixa de código 8: Colocando centros de massa de *snapshots* na origem (parte 3)"
   ]
  },
  {
   "cell_type": "code",
   "execution_count": 109,
   "metadata": {},
   "outputs": [],
   "source": [
    "###### PARTE 3 ######    \n",
    "with open('traj_CM.xyz', 'w') as f:   # crie e edite traj_CM.xyz\n",
    "    for snapshot in range(n_snapshots):    # snapshot = 0, 1 e 2\n",
    "        L0 = lines[lines_snap * snapshot]     # número de átomos \n",
    "        f.write(L0)\n",
    "        L1 = lines[lines_snap * snapshot + 1]       # comentário\n",
    "        f.write(L1)\n",
    "        for i in range(n_atoms):\n",
    "            index = snapshot * lines_snap + i + 2 \n",
    "            line = lines[index].split()\n",
    "            atom = line[0] + ' '            # atom = tipo string\n",
    "            x =  float(line[1]) - cm[snapshot][0]  # x corrigido\n",
    "            y =  float(line[2]) - cm[snapshot][1]  # y corrigido\n",
    "            z =  float(line[3]) - cm[snapshot][2]  # z corrigido\n",
    "            x, y, z = str(x) + ' ', str(y) + ' ', str(z) + '\\n'\n",
    "            line = atom + x + y + z\n",
    "            f.write(line)"
   ]
  },
  {
   "cell_type": "code",
   "execution_count": 110,
   "metadata": {},
   "outputs": [
    {
     "name": "stdout",
     "output_type": "stream",
     "text": [
      "2\r\n",
      "time = 10 fs\r\n",
      "H -0.163148 0.232363 0.156896\r\n",
      "H 0.163148 -0.232363 -0.156896\r\n",
      "2\r\n",
      "time = 20 fs\r\n",
      "H 0.246005 0.254485 0.0\r\n",
      "H -0.246005 -0.254485 0.0\r\n",
      "2\r\n",
      "time = 30 fs\r\n",
      "H -0.276528 -0.049833 0.194428\r\n",
      "H 0.276528 0.049833 -0.194428\r\n"
     ]
    }
   ],
   "source": [
    "!more traj_CM.xyz   # Forma de executar um comando do sistema operacional (Linux) no Jupyter-Notebook"
   ]
  },
  {
   "cell_type": "code",
   "execution_count": 111,
   "metadata": {},
   "outputs": [],
   "source": [
    "###### PARTE 3 ######   (alterada para melhor formatação) \n",
    "with open('traj_CM.xyz', 'w') as f:   # crie e edite traj_CM.xyz\n",
    "    for snapshot in range(n_snapshots):    # snapshot = 0, 1 e 2\n",
    "        L0 = lines[lines_snap * snapshot]     # número de átomos \n",
    "        f.write(L0)\n",
    "        L1 = lines[lines_snap * snapshot + 1]       # comentário\n",
    "        f.write(L1)\n",
    "        for i in range(n_atoms):\n",
    "            index = snapshot * lines_snap + i + 2 \n",
    "            line = lines[index].split()\n",
    "            atom = line[0] + ' '            # atom = tipo string\n",
    "            x =  float(line[1]) - cm[snapshot][0]  # x corrigido\n",
    "            y =  float(line[2]) - cm[snapshot][1]  # y corrigido\n",
    "            z =  float(line[3]) - cm[snapshot][2]  # z corrigido\n",
    "            line = f'{atom:<3} {x:+10.6f} {y:+10.6f} {z:+10.6f} \\n'            \n",
    "            f.write(line)"
   ]
  },
  {
   "cell_type": "code",
   "execution_count": 112,
   "metadata": {},
   "outputs": [
    {
     "name": "stdout",
     "output_type": "stream",
     "text": [
      "2\r\n",
      "time = 10 fs\r\n",
      "H    -0.163148  +0.232363  +0.156896 \r\n",
      "H    +0.163148  -0.232363  -0.156896 \r\n",
      "2\r\n",
      "time = 20 fs\r\n",
      "H    +0.246005  +0.254485  +0.000000 \r\n",
      "H    -0.246005  -0.254485  +0.000000 \r\n",
      "2\r\n",
      "time = 30 fs\r\n",
      "H    -0.276528  -0.049833  +0.194428 \r\n",
      "H    +0.276528  +0.049833  -0.194428 \r\n"
     ]
    }
   ],
   "source": [
    "!more traj_CM.xyz   # Forma de executar um comando do sistema operacional (Linux) no Jupyter-Notebook"
   ]
  },
  {
   "cell_type": "markdown",
   "metadata": {},
   "source": [
    "### Caixa de código 9: Executando os códigos anteriores com outros arquivos"
   ]
  },
  {
   "cell_type": "code",
   "execution_count": 114,
   "metadata": {},
   "outputs": [],
   "source": [
    "#import sys\n",
    "#filename = sys.argv[1]\n",
    "filename = 'traj.xyz'\n",
    "\n",
    "with open(filename) as f:\n",
    "    lines = f.readlines()     # Salve todas as linhas em 'lines'\n",
    "line1 = lines[0].split() # primeira linha de traj.xyz (= string)\n",
    "n_atoms = int(line1[0])      # número total de átomos do sistema\n",
    "lines_snap = n_atoms + 2         # número de linhas por snapshot\n",
    "n_lines = len(lines)        # número total de linhas de traj.xyz\n",
    "n_snapshots = n_lines // lines_snap        # número de snapshots\n",
    "\n",
    "cm = []           # lista vazia para guardar os centros de massa\n",
    "for snapshot in range(n_snapshots):\n",
    "    XCM, YCM, ZCM = 0, 0, 0      # inicializar o centro de massa\n",
    "    for i in range(n_atoms):\n",
    "        index = snapshot * lines_snap + i + 2  # índice variável\n",
    "        line = lines[index].split() # ['símbolo', 'X', 'Y', 'Z']\n",
    "        x = float(line[1])               # coordenada X do átomo\n",
    "        y = float(line[2])               # coordenada Y do átomo\n",
    "        z = float(line[3])               # coordenada Z do átomo\n",
    "        XCM += x                 # adicione x ao centro de massa\n",
    "        YCM += y                 # adicione y ao centro de massa\n",
    "        ZCM += z                 # adicione z ao centro de massa\n",
    "    XCM, YCM, ZCM = XCM/n_atoms, YCM/n_atoms, ZCM/n_atoms\n",
    "    cm.append([XCM, YCM, ZCM])         # guarde o CM do snapshot\n",
    "\n",
    "with open(f'CM_{filename}', 'w') as f: # crie e edite CM_{?}.xyz\n",
    "    for snapshot in range(n_snapshots):    # snapshot = 0, 1 e 2\n",
    "        L0 = lines[lines_snap * snapshot]     # número de átomos \n",
    "        f.write(L0)\n",
    "        L1 = lines[lines_snap * snapshot + 1]       # comentário\n",
    "        f.write(L1)\n",
    "        for i in range(n_atoms):\n",
    "            index = snapshot * lines_snap + i + 2 \n",
    "            line = lines[index].split()\n",
    "            atom = line[0] + ' '            # atom = tipo string\n",
    "            x =  float(line[1]) - cm[snapshot][0]  # x corrigido\n",
    "            y =  float(line[2]) - cm[snapshot][1]  # y corrigido\n",
    "            z =  float(line[3]) - cm[snapshot][2]  # z corrigido\n",
    "            x, y, z = str(x) + ' ', str(y) + ' ', str(z) + '\\n'\n",
    "            line = atom + x + y + z\n",
    "            f.write(line)"
   ]
  },
  {
   "cell_type": "code",
   "execution_count": 115,
   "metadata": {},
   "outputs": [
    {
     "name": "stdout",
     "output_type": "stream",
     "text": [
      "2\r\n",
      "time = 10 fs\r\n",
      "H    -0.163148  +0.232363  +0.156896 \r\n",
      "H    +0.163148  -0.232363  -0.156896 \r\n",
      "2\r\n",
      "time = 20 fs\r\n",
      "H    +0.246005  +0.254485  +0.000000 \r\n",
      "H    -0.246005  -0.254485  +0.000000 \r\n",
      "2\r\n",
      "time = 30 fs\r\n",
      "H    -0.276528  -0.049833  +0.194428 \r\n",
      "H    +0.276528  +0.049833  -0.194428 \r\n"
     ]
    }
   ],
   "source": [
    "!more traj_CM.xyz   # Forma de executar um comando do sistema operacional (Linux) no Jupyter-Notebook"
   ]
  }
 ],
 "metadata": {
  "kernelspec": {
   "display_name": "Python 3",
   "language": "python",
   "name": "python3"
  },
  "language_info": {
   "codemirror_mode": {
    "name": "ipython",
    "version": 3
   },
   "file_extension": ".py",
   "mimetype": "text/x-python",
   "name": "python",
   "nbconvert_exporter": "python",
   "pygments_lexer": "ipython3",
   "version": "3.7.6"
  }
 },
 "nbformat": 4,
 "nbformat_minor": 5
}

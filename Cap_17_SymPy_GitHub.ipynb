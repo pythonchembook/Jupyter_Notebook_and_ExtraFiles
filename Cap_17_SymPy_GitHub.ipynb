{
 "cells": [
  {
   "cell_type": "markdown",
   "metadata": {},
   "source": [
    "# Capítulo 17: Manipulando Equações com a SymPy\n",
    "\n",
    "Livro: Aprendendo Química com Python, Rodrigo Q. de Albuquerque & Gerd B. da Rocha, 2021, Amazon Book.\n",
    "\n",
    "E-Mail: learn.chem.python@gmail.com"
   ]
  },
  {
   "cell_type": "markdown",
   "metadata": {},
   "source": [
    "## Uso básico da SymPy"
   ]
  },
  {
   "cell_type": "code",
   "execution_count": 46,
   "metadata": {},
   "outputs": [
    {
     "name": "stdout",
     "output_type": "stream",
     "text": [
      "Versão da SymPy 1.8\n"
     ]
    }
   ],
   "source": [
    "# Início do uso da SymPy\n",
    "import sympy\n",
    "init_printing()\n",
    "x, y, t, k = symbols('x y t k')\n",
    "print ('Versão da SymPy', sympy.__version__)"
   ]
  },
  {
   "cell_type": "code",
   "execution_count": 47,
   "metadata": {},
   "outputs": [
    {
     "name": "stdout",
     "output_type": "stream",
     "text": [
      "6*x*y\n"
     ]
    }
   ],
   "source": [
    "print((2*x) * (3*y))"
   ]
  },
  {
   "cell_type": "code",
   "execution_count": 48,
   "metadata": {},
   "outputs": [
    {
     "name": "stdout",
     "output_type": "stream",
     "text": [
      "x**2 + 5*x + 6\n"
     ]
    }
   ],
   "source": [
    "print(expand((2 + x) * (3 + x)))"
   ]
  },
  {
   "cell_type": "code",
   "execution_count": 49,
   "metadata": {},
   "outputs": [
    {
     "name": "stdout",
     "output_type": "stream",
     "text": [
      "(x + 2)*(x + 3)\n"
     ]
    }
   ],
   "source": [
    "print(factor(x**2 + 5*x + 6))"
   ]
  },
  {
   "cell_type": "code",
   "execution_count": 50,
   "metadata": {},
   "outputs": [
    {
     "name": "stdout",
     "output_type": "stream",
     "text": [
      "1\n"
     ]
    }
   ],
   "source": [
    "print(simplify(sin(x)**2 + cos(x)**2))"
   ]
  },
  {
   "cell_type": "code",
   "execution_count": 51,
   "metadata": {},
   "outputs": [
    {
     "name": "stdout",
     "output_type": "stream",
     "text": [
      "[-3, -2]\n"
     ]
    }
   ],
   "source": [
    "print(solve(x**2 + 5*x + 6))"
   ]
  },
  {
   "cell_type": "code",
   "execution_count": 52,
   "metadata": {},
   "outputs": [
    {
     "name": "stdout",
     "output_type": "stream",
     "text": [
      "10*x\n"
     ]
    }
   ],
   "source": [
    "print(diff(5*x**2 + 2*y, x))"
   ]
  },
  {
   "cell_type": "code",
   "execution_count": 53,
   "metadata": {},
   "outputs": [
    {
     "name": "stdout",
     "output_type": "stream",
     "text": [
      "5*(x**2 - 2)*exp(-x**2/4)/4\n"
     ]
    }
   ],
   "source": [
    "print(diff(5*exp(-2*x**2/8), x, 2))"
   ]
  },
  {
   "cell_type": "code",
   "execution_count": 54,
   "metadata": {},
   "outputs": [
    {
     "name": "stdout",
     "output_type": "stream",
     "text": [
      "sin(x)\n"
     ]
    }
   ],
   "source": [
    "print(integrate(cos(x), x))"
   ]
  },
  {
   "cell_type": "code",
   "execution_count": 55,
   "metadata": {},
   "outputs": [
    {
     "name": "stdout",
     "output_type": "stream",
     "text": [
      "0\n"
     ]
    }
   ],
   "source": [
    "print(integrate(cos(x), (x, 0, pi)))"
   ]
  },
  {
   "cell_type": "code",
   "execution_count": 56,
   "metadata": {},
   "outputs": [
    {
     "name": "stdout",
     "output_type": "stream",
     "text": [
      "3.53553390593274*sqrt(pi)\n"
     ]
    }
   ],
   "source": [
    "print(integrate(5.0*(x**2)*exp(-2.0*x**2/4), (x,0.0,oo)))"
   ]
  },
  {
   "cell_type": "code",
   "execution_count": 57,
   "metadata": {},
   "outputs": [
    {
     "name": "stdout",
     "output_type": "stream",
     "text": [
      "6.26657068657750\n"
     ]
    }
   ],
   "source": [
    "print (N(integrate(5.0*(x**2)*exp(-2.0*x**2/4), (x,0.0,oo))))"
   ]
  },
  {
   "cell_type": "code",
   "execution_count": 58,
   "metadata": {},
   "outputs": [
    {
     "name": "stdout",
     "output_type": "stream",
     "text": [
      "Eq(CA(t), C1*exp(-k*t))\n"
     ]
    }
   ],
   "source": [
    "# Aplicandoa SymPy em cinética química\n",
    "\n",
    "CA = Function('CA')\n",
    "eq = CA(t).diff(t) + k*CA(t)\n",
    "print(dsolve(eq))"
   ]
  },
  {
   "cell_type": "markdown",
   "metadata": {},
   "source": [
    "## Usando a SymPy para manipulação matemática"
   ]
  },
  {
   "cell_type": "markdown",
   "metadata": {},
   "source": [
    "### Calcular os valores médios de operadores em mecânica quântica"
   ]
  },
  {
   "cell_type": "code",
   "execution_count": 59,
   "metadata": {},
   "outputs": [],
   "source": [
    "from sympy import *\n",
    "init_printing()\n",
    "# Definindo símbolos para constantes\n",
    "a0, hbar, me, ec, eps_0 = symbols('a_0, hbar, m_e, e_c, epsilon_0', real=True, positive=True, constant=True) \n",
    "# Definindo símbolos para as variáveis r, theta e phi\n",
    "r, theta, phi = symbols('r, theta, phi', real=True, positive=True)\n",
    "# Definindo símbolo para a função de onda\n",
    "psi = Symbol('psi_1s')"
   ]
  },
  {
   "cell_type": "code",
   "execution_count": 60,
   "metadata": {},
   "outputs": [
    {
     "name": "stdout",
     "output_type": "stream",
     "text": [
      "PSI_1s =  a_0**(-1.5)*exp(-r/a_0)/sqrt(pi)\n"
     ]
    },
    {
     "name": "stderr",
     "output_type": "stream",
     "text": [
      "/home/gerd/anaconda3/envs/my-rdkit-env/lib/python3.7/site-packages/IPython/lib/latextools.py:126: MatplotlibDeprecationWarning: \n",
      "The to_png function was deprecated in Matplotlib 3.4 and will be removed two minor releases later. Use mathtext.math_to_image instead.\n",
      "  mt.to_png(f, s, fontsize=12, dpi=dpi, color=color)\n",
      "/home/gerd/anaconda3/envs/my-rdkit-env/lib/python3.7/site-packages/IPython/lib/latextools.py:126: MatplotlibDeprecationWarning: \n",
      "The to_rgba function was deprecated in Matplotlib 3.4 and will be removed two minor releases later. Use mathtext.math_to_image instead.\n",
      "  mt.to_png(f, s, fontsize=12, dpi=dpi, color=color)\n",
      "/home/gerd/anaconda3/envs/my-rdkit-env/lib/python3.7/site-packages/IPython/lib/latextools.py:126: MatplotlibDeprecationWarning: \n",
      "The to_mask function was deprecated in Matplotlib 3.4 and will be removed two minor releases later. Use mathtext.math_to_image instead.\n",
      "  mt.to_png(f, s, fontsize=12, dpi=dpi, color=color)\n",
      "/home/gerd/anaconda3/envs/my-rdkit-env/lib/python3.7/site-packages/IPython/lib/latextools.py:126: MatplotlibDeprecationWarning: \n",
      "The MathtextBackendBitmap class was deprecated in Matplotlib 3.4 and will be removed two minor releases later. Use mathtext.math_to_image instead.\n",
      "  mt.to_png(f, s, fontsize=12, dpi=dpi, color=color)\n"
     ]
    },
    {
     "data": {
      "image/png": "[encoded data removed]",
      "text/latex": [
       "$\\displaystyle \\psi_{1s} = \\frac{e^{- \\frac{r}{a_{0}}}}{\\sqrt{\\pi} a_{0}^{1.5}}$"
      ],
      "text/plain": [
       "              -r \n",
       "              ───\n",
       "        -1.5   a₀\n",
       "      a₀    ⋅ℯ   \n",
       "ψ₁ₛ = ───────────\n",
       "           √π    "
      ]
     },
     "metadata": {},
     "output_type": "display_data"
    }
   ],
   "source": [
    "psi_1s = (1/(sqrt(pi) * (a0**(3/2)))) * exp(-r/a0)\n",
    "print('PSI_1s = ', psi_1s)\n",
    "psi_1s_eq = Eq(psi,psi_1s)\n",
    "display(psi_1s_eq)"
   ]
  },
  {
   "cell_type": "code",
   "execution_count": 61,
   "metadata": {},
   "outputs": [
    {
     "name": "stdout",
     "output_type": "stream",
     "text": [
      "d_PSI_1s_dr =  -a_0**(-2.5)*exp(-r/a_0)/sqrt(pi)\n",
      "d2_PSI_1s_dr2 = a_0**(-3.5)*exp(-r/a_0)/sqrt(pi)\n",
      "nabla^2 = a_0**(-3.5)*exp(-r/a_0)/sqrt(pi) - 2*a_0**(-2.5)*exp(-r/a_0)/(sqrt(pi)*r)\n"
     ]
    },
    {
     "name": "stderr",
     "output_type": "stream",
     "text": [
      "/home/gerd/anaconda3/envs/my-rdkit-env/lib/python3.7/site-packages/IPython/lib/latextools.py:126: MatplotlibDeprecationWarning: \n",
      "The to_png function was deprecated in Matplotlib 3.4 and will be removed two minor releases later. Use mathtext.math_to_image instead.\n",
      "  mt.to_png(f, s, fontsize=12, dpi=dpi, color=color)\n",
      "/home/gerd/anaconda3/envs/my-rdkit-env/lib/python3.7/site-packages/IPython/lib/latextools.py:126: MatplotlibDeprecationWarning: \n",
      "The to_rgba function was deprecated in Matplotlib 3.4 and will be removed two minor releases later. Use mathtext.math_to_image instead.\n",
      "  mt.to_png(f, s, fontsize=12, dpi=dpi, color=color)\n",
      "/home/gerd/anaconda3/envs/my-rdkit-env/lib/python3.7/site-packages/IPython/lib/latextools.py:126: MatplotlibDeprecationWarning: \n",
      "The to_mask function was deprecated in Matplotlib 3.4 and will be removed two minor releases later. Use mathtext.math_to_image instead.\n",
      "  mt.to_png(f, s, fontsize=12, dpi=dpi, color=color)\n",
      "/home/gerd/anaconda3/envs/my-rdkit-env/lib/python3.7/site-packages/IPython/lib/latextools.py:126: MatplotlibDeprecationWarning: \n",
      "The MathtextBackendBitmap class was deprecated in Matplotlib 3.4 and will be removed two minor releases later. Use mathtext.math_to_image instead.\n",
      "  mt.to_png(f, s, fontsize=12, dpi=dpi, color=color)\n"
     ]
    },
    {
     "data": {
      "image/png": "[encoded data removed]",
      "text/latex": [
       "$\\displaystyle - \\frac{e^{- \\frac{r}{a_{0}}}}{\\sqrt{\\pi} a_{0}^{2.5}}$"
      ],
      "text/plain": [
       "         -r  \n",
       "         ─── \n",
       "   -2.5   a₀ \n",
       "-a₀    ⋅ℯ    \n",
       "─────────────\n",
       "      √π     "
      ]
     },
     "metadata": {},
     "output_type": "display_data"
    },
    {
     "name": "stderr",
     "output_type": "stream",
     "text": [
      "/home/gerd/anaconda3/envs/my-rdkit-env/lib/python3.7/site-packages/IPython/lib/latextools.py:126: MatplotlibDeprecationWarning: \n",
      "The to_png function was deprecated in Matplotlib 3.4 and will be removed two minor releases later. Use mathtext.math_to_image instead.\n",
      "  mt.to_png(f, s, fontsize=12, dpi=dpi, color=color)\n",
      "/home/gerd/anaconda3/envs/my-rdkit-env/lib/python3.7/site-packages/IPython/lib/latextools.py:126: MatplotlibDeprecationWarning: \n",
      "The to_rgba function was deprecated in Matplotlib 3.4 and will be removed two minor releases later. Use mathtext.math_to_image instead.\n",
      "  mt.to_png(f, s, fontsize=12, dpi=dpi, color=color)\n",
      "/home/gerd/anaconda3/envs/my-rdkit-env/lib/python3.7/site-packages/IPython/lib/latextools.py:126: MatplotlibDeprecationWarning: \n",
      "The to_mask function was deprecated in Matplotlib 3.4 and will be removed two minor releases later. Use mathtext.math_to_image instead.\n",
      "  mt.to_png(f, s, fontsize=12, dpi=dpi, color=color)\n",
      "/home/gerd/anaconda3/envs/my-rdkit-env/lib/python3.7/site-packages/IPython/lib/latextools.py:126: MatplotlibDeprecationWarning: \n",
      "The MathtextBackendBitmap class was deprecated in Matplotlib 3.4 and will be removed two minor releases later. Use mathtext.math_to_image instead.\n",
      "  mt.to_png(f, s, fontsize=12, dpi=dpi, color=color)\n"
     ]
    },
    {
     "data": {
      "image/png": "[encoded data removed]",
      "text/latex": [
       "$\\displaystyle \\frac{e^{- \\frac{r}{a_{0}}}}{\\sqrt{\\pi} a_{0}^{3.5}}$"
      ],
      "text/plain": [
       "        -r \n",
       "        ───\n",
       "  -3.5   a₀\n",
       "a₀    ⋅ℯ   \n",
       "───────────\n",
       "     √π    "
      ]
     },
     "metadata": {},
     "output_type": "display_data"
    },
    {
     "name": "stderr",
     "output_type": "stream",
     "text": [
      "/home/gerd/anaconda3/envs/my-rdkit-env/lib/python3.7/site-packages/IPython/lib/latextools.py:126: MatplotlibDeprecationWarning: \n",
      "The to_png function was deprecated in Matplotlib 3.4 and will be removed two minor releases later. Use mathtext.math_to_image instead.\n",
      "  mt.to_png(f, s, fontsize=12, dpi=dpi, color=color)\n",
      "/home/gerd/anaconda3/envs/my-rdkit-env/lib/python3.7/site-packages/IPython/lib/latextools.py:126: MatplotlibDeprecationWarning: \n",
      "The to_rgba function was deprecated in Matplotlib 3.4 and will be removed two minor releases later. Use mathtext.math_to_image instead.\n",
      "  mt.to_png(f, s, fontsize=12, dpi=dpi, color=color)\n",
      "/home/gerd/anaconda3/envs/my-rdkit-env/lib/python3.7/site-packages/IPython/lib/latextools.py:126: MatplotlibDeprecationWarning: \n",
      "The to_mask function was deprecated in Matplotlib 3.4 and will be removed two minor releases later. Use mathtext.math_to_image instead.\n",
      "  mt.to_png(f, s, fontsize=12, dpi=dpi, color=color)\n",
      "/home/gerd/anaconda3/envs/my-rdkit-env/lib/python3.7/site-packages/IPython/lib/latextools.py:126: MatplotlibDeprecationWarning: \n",
      "The MathtextBackendBitmap class was deprecated in Matplotlib 3.4 and will be removed two minor releases later. Use mathtext.math_to_image instead.\n",
      "  mt.to_png(f, s, fontsize=12, dpi=dpi, color=color)\n"
     ]
    },
    {
     "data": {
      "image/png": "[encoded data removed]",
      "text/latex": [
       "$\\displaystyle \\frac{e^{- \\frac{r}{a_{0}}}}{\\sqrt{\\pi} a_{0}^{3.5}} - \\frac{2 e^{- \\frac{r}{a_{0}}}}{\\sqrt{\\pi} a_{0}^{2.5} r}$"
      ],
      "text/plain": [
       "        -r              -r \n",
       "        ───             ───\n",
       "  -3.5   a₀       -2.5   a₀\n",
       "a₀    ⋅ℯ      2⋅a₀    ⋅ℯ   \n",
       "─────────── - ─────────────\n",
       "     √π            √π⋅r    "
      ]
     },
     "metadata": {},
     "output_type": "display_data"
    }
   ],
   "source": [
    "d_PSI_1s_dr = diff(psi_1s,r)\n",
    "d2_PSI_1s_dr2 = diff(psi_1s,r,2)\n",
    "nabla2 = d2_PSI_1s_dr2 + (2/r)*d_PSI_1s_dr\n",
    "\n",
    "print('d_PSI_1s_dr = ', d_PSI_1s_dr)\n",
    "print('d2_PSI_1s_dr2 =', d2_PSI_1s_dr2)\n",
    "print('nabla^2 =', nabla2)\n",
    "\n",
    "display(d_PSI_1s_dr, d2_PSI_1s_dr2, nabla2)"
   ]
  },
  {
   "cell_type": "code",
   "execution_count": 62,
   "metadata": {},
   "outputs": [
    {
     "name": "stdout",
     "output_type": "stream",
     "text": [
      "Integral em theta = 2\n",
      "Integral em phi = 2*pi\n"
     ]
    }
   ],
   "source": [
    "int_em_theta = integrate(sin(theta), (theta, 0, pi))\n",
    "int_em_phi = integrate(1, (phi, 0, 2*pi))\n",
    "\n",
    "print('Integral em theta =', int_em_theta)\n",
    "print('Integral em phi =', int_em_phi)"
   ]
  },
  {
   "cell_type": "code",
   "execution_count": 63,
   "metadata": {},
   "outputs": [
    {
     "name": "stdout",
     "output_type": "stream",
     "text": [
      "Integral em r para <T> = -a_0**(-2.0)/(4*pi)\n",
      "<T> = a_0**(-2.0)*hbar**2/(2*m_e)\n"
     ]
    },
    {
     "name": "stderr",
     "output_type": "stream",
     "text": [
      "/home/gerd/anaconda3/envs/my-rdkit-env/lib/python3.7/site-packages/IPython/lib/latextools.py:126: MatplotlibDeprecationWarning: \n",
      "The to_png function was deprecated in Matplotlib 3.4 and will be removed two minor releases later. Use mathtext.math_to_image instead.\n",
      "  mt.to_png(f, s, fontsize=12, dpi=dpi, color=color)\n",
      "/home/gerd/anaconda3/envs/my-rdkit-env/lib/python3.7/site-packages/IPython/lib/latextools.py:126: MatplotlibDeprecationWarning: \n",
      "The to_rgba function was deprecated in Matplotlib 3.4 and will be removed two minor releases later. Use mathtext.math_to_image instead.\n",
      "  mt.to_png(f, s, fontsize=12, dpi=dpi, color=color)\n",
      "/home/gerd/anaconda3/envs/my-rdkit-env/lib/python3.7/site-packages/IPython/lib/latextools.py:126: MatplotlibDeprecationWarning: \n",
      "The to_mask function was deprecated in Matplotlib 3.4 and will be removed two minor releases later. Use mathtext.math_to_image instead.\n",
      "  mt.to_png(f, s, fontsize=12, dpi=dpi, color=color)\n",
      "/home/gerd/anaconda3/envs/my-rdkit-env/lib/python3.7/site-packages/IPython/lib/latextools.py:126: MatplotlibDeprecationWarning: \n",
      "The MathtextBackendBitmap class was deprecated in Matplotlib 3.4 and will be removed two minor releases later. Use mathtext.math_to_image instead.\n",
      "  mt.to_png(f, s, fontsize=12, dpi=dpi, color=color)\n"
     ]
    },
    {
     "data": {
      "image/png": "[encoded data removed]",
      "text/latex": [
       "$\\displaystyle \\frac{\\hbar^{2}}{2 a_{0}^{2.0} m_{e}}$"
      ],
      "text/plain": [
       "  -2.0  2\n",
       "a₀    ⋅h̅ \n",
       "─────────\n",
       "   2⋅mₑ  "
      ]
     },
     "metadata": {},
     "output_type": "display_data"
    }
   ],
   "source": [
    "int_em_r_Tm = integrate(psi_1s*nabla2*r**2,(r,0,oo))\n",
    "Tmed = (-hbar**2/(2*me))*int_em_r_Tm*int_em_theta*int_em_phi\n",
    "print('Integral em r para <T> =', int_em_r_Tm)\n",
    "print('<T> =', Tmed)\n",
    "display(Tmed)"
   ]
  },
  {
   "cell_type": "code",
   "execution_count": 64,
   "metadata": {},
   "outputs": [
    {
     "name": "stdout",
     "output_type": "stream",
     "text": [
      "Integral em r para <V> = -a_0**(-1.0)*e_c**2/(16*pi**2*epsilon_0)\n",
      "<V> = -a_0**(-1.0)*e_c**2/(4*pi*epsilon_0)\n"
     ]
    },
    {
     "name": "stderr",
     "output_type": "stream",
     "text": [
      "/home/gerd/anaconda3/envs/my-rdkit-env/lib/python3.7/site-packages/IPython/lib/latextools.py:126: MatplotlibDeprecationWarning: \n",
      "The to_png function was deprecated in Matplotlib 3.4 and will be removed two minor releases later. Use mathtext.math_to_image instead.\n",
      "  mt.to_png(f, s, fontsize=12, dpi=dpi, color=color)\n",
      "/home/gerd/anaconda3/envs/my-rdkit-env/lib/python3.7/site-packages/IPython/lib/latextools.py:126: MatplotlibDeprecationWarning: \n",
      "The to_rgba function was deprecated in Matplotlib 3.4 and will be removed two minor releases later. Use mathtext.math_to_image instead.\n",
      "  mt.to_png(f, s, fontsize=12, dpi=dpi, color=color)\n",
      "/home/gerd/anaconda3/envs/my-rdkit-env/lib/python3.7/site-packages/IPython/lib/latextools.py:126: MatplotlibDeprecationWarning: \n",
      "The to_mask function was deprecated in Matplotlib 3.4 and will be removed two minor releases later. Use mathtext.math_to_image instead.\n",
      "  mt.to_png(f, s, fontsize=12, dpi=dpi, color=color)\n",
      "/home/gerd/anaconda3/envs/my-rdkit-env/lib/python3.7/site-packages/IPython/lib/latextools.py:126: MatplotlibDeprecationWarning: \n",
      "The MathtextBackendBitmap class was deprecated in Matplotlib 3.4 and will be removed two minor releases later. Use mathtext.math_to_image instead.\n",
      "  mt.to_png(f, s, fontsize=12, dpi=dpi, color=color)\n"
     ]
    },
    {
     "data": {
      "image/png": "[encoded data removed]",
      "text/latex": [
       "$\\displaystyle - \\frac{e_{c}^{2}}{4 \\pi a_{0}^{1.0} \\epsilon_{0}}$"
      ],
      "text/plain": [
       "   -1.0    2 \n",
       "-a₀    ⋅e_c  \n",
       "─────────────\n",
       "    4⋅π⋅ε₀   "
      ]
     },
     "metadata": {},
     "output_type": "display_data"
    }
   ],
   "source": [
    "V_func = (-ec**2)/(4*pi*eps_0*r)\n",
    "int_em_r_Vm = integrate(psi_1s*V_func*psi_1s*r**2,(r,0, oo))\n",
    "Vmed = int_em_r_Vm * int_em_theta*int_em_phi\n",
    "print('Integral em r para <V> =',int_em_r_Vm)\n",
    "print('<V> =', Vmed)\n",
    "display(Vmed)"
   ]
  },
  {
   "cell_type": "code",
   "execution_count": 65,
   "metadata": {},
   "outputs": [
    {
     "name": "stdout",
     "output_type": "stream",
     "text": [
      "<H> =  a_0**(-2.0)*hbar**2/(2*m_e) - a_0**(-1.0)*e_c**2/(4*pi*epsilon_0)\n"
     ]
    },
    {
     "name": "stderr",
     "output_type": "stream",
     "text": [
      "/home/gerd/anaconda3/envs/my-rdkit-env/lib/python3.7/site-packages/IPython/lib/latextools.py:126: MatplotlibDeprecationWarning: \n",
      "The to_png function was deprecated in Matplotlib 3.4 and will be removed two minor releases later. Use mathtext.math_to_image instead.\n",
      "  mt.to_png(f, s, fontsize=12, dpi=dpi, color=color)\n",
      "/home/gerd/anaconda3/envs/my-rdkit-env/lib/python3.7/site-packages/IPython/lib/latextools.py:126: MatplotlibDeprecationWarning: \n",
      "The to_rgba function was deprecated in Matplotlib 3.4 and will be removed two minor releases later. Use mathtext.math_to_image instead.\n",
      "  mt.to_png(f, s, fontsize=12, dpi=dpi, color=color)\n",
      "/home/gerd/anaconda3/envs/my-rdkit-env/lib/python3.7/site-packages/IPython/lib/latextools.py:126: MatplotlibDeprecationWarning: \n",
      "The to_mask function was deprecated in Matplotlib 3.4 and will be removed two minor releases later. Use mathtext.math_to_image instead.\n",
      "  mt.to_png(f, s, fontsize=12, dpi=dpi, color=color)\n",
      "/home/gerd/anaconda3/envs/my-rdkit-env/lib/python3.7/site-packages/IPython/lib/latextools.py:126: MatplotlibDeprecationWarning: \n",
      "The MathtextBackendBitmap class was deprecated in Matplotlib 3.4 and will be removed two minor releases later. Use mathtext.math_to_image instead.\n",
      "  mt.to_png(f, s, fontsize=12, dpi=dpi, color=color)\n"
     ]
    },
    {
     "data": {
      "image/png": "[encoded data removed]",
      "text/latex": [
       "$\\displaystyle \\frac{\\hbar^{2}}{2 a_{0}^{2.0} m_{e}} - \\frac{e_{c}^{2}}{4 \\pi a_{0}^{1.0} \\epsilon_{0}}$"
      ],
      "text/plain": [
       "  -2.0  2     -1.0    2\n",
       "a₀    ⋅h̅    a₀    ⋅e_c \n",
       "───────── - ───────────\n",
       "   2⋅mₑ        4⋅π⋅ε₀  "
      ]
     },
     "metadata": {},
     "output_type": "display_data"
    }
   ],
   "source": [
    "Hmed = Tmed + Vmed\n",
    "print('<H> = ', Hmed)\n",
    "display(Hmed.simplify())"
   ]
  },
  {
   "cell_type": "code",
   "execution_count": 66,
   "metadata": {},
   "outputs": [
    {
     "name": "stdout",
     "output_type": "stream",
     "text": [
      "<T> = 2.1799e-18 J\n",
      "<V> = -4.3597e-18 J\n",
      "<H> =  -2.1799e-18 J\n"
     ]
    }
   ],
   "source": [
    "a0 = 5.2917721067e-11   # em m\n",
    "hbar = 1.054571817e-34  # em j*s\n",
    "me = 9.1093837015e-31   # em kg\n",
    "ec = 1.602176634e-19    # em C\n",
    "eps_0 = 8.8541878128e-12  # F/m\n",
    "\n",
    "Tmed_val = a0**(-2.0)*hbar**2/(2*me)\n",
    "Vmed_val = -a0**(-1.0)*ec**2/(4*pi*eps_0)\n",
    "Hmed_val = Tmed_val + Vmed_val\n",
    "\n",
    "print('<T> =', N(Tmed_val,5), 'J')\n",
    "print('<V> =', N(Vmed_val,5), 'J')\n",
    "print('<H> = ', N(Hmed_val,5), 'J')"
   ]
  },
  {
   "cell_type": "markdown",
   "metadata": {},
   "source": [
    "### Verificar se uma função é autofunção do operador Hamiltoniano do problema do Oscilador Harmônico em mecânica quântica"
   ]
  },
  {
   "cell_type": "code",
   "execution_count": 67,
   "metadata": {},
   "outputs": [],
   "source": [
    "from sympy import *\n",
    "init_printing()\n",
    "# Variáveis\n",
    "x, w, a = symbols(\"x, w, a\", real=True) \n",
    "# Constantes\n",
    "m, N0, hbar, k = symbols(\"m, N0, hbar, k\", positive=True, constant=True) "
   ]
  },
  {
   "cell_type": "code",
   "execution_count": 68,
   "metadata": {},
   "outputs": [
    {
     "name": "stdout",
     "output_type": "stream",
     "text": [
      "psi_v0 = N0*exp(-hbar**(-1.0)*k**0.5*m**0.5*x**2/2)\n",
      "d_psi_v0_dx = -N0*hbar**(-1.0)*k**0.5*m**0.5*x*exp(-hbar**(-1.0)*k**0.5*m**0.5*x**2/2)\n",
      "d2_psi_v0_dx2 = N0*(hbar**(-2.0)*k**1.0*m**1.0*x**2 - hbar**(-1.0)*k**0.5*m**0.5)*exp(-hbar**(-1.0)*k**0.5*m**0.5*x**2/2)\n"
     ]
    }
   ],
   "source": [
    "a = ((hbar**2)/(m*k))**(1/4)\n",
    "psi_v0 = (N0*exp((-x**2)/(2*a**2)))\n",
    "d_psi_v0_dx = diff(psi_v0,x)\n",
    "d2_psi_v0_dx2 = diff(psi_v0,x,2)\n",
    "print('psi_v0 =', psi_v0)\n",
    "print('d_psi_v0_dx =', d_psi_v0_dx)\n",
    "print('d2_psi_v0_dx2 =', d2_psi_v0_dx2)"
   ]
  },
  {
   "cell_type": "code",
   "execution_count": 69,
   "metadata": {},
   "outputs": [
    {
     "name": "stdout",
     "output_type": "stream",
     "text": [
      "H_hat_psi_v0 =  -N0*hbar**2*(hbar**(-2.0)*k**1.0*m**1.0*x**2 - hbar**(-1.0)*k**0.5*m**0.5)*exp(-hbar**(-1.0)*k**0.5*m**0.5*x**2/2)/(2*m) + 0.5*N0*k**1.0*x**2*exp(-hbar**(-1.0)*k**0.5*m**0.5*x**2/2)\n"
     ]
    }
   ],
   "source": [
    "T_hat_psi_v0 = ((-hbar**2)/(2*m)) * d2_psi_v0_dx2\n",
    "V_hat_psi_v0 = (1/2) * (k**1.0) * (x**2) * psi_v0\n",
    "H_hat_psi_v0 = T_hat_psi_v0 + V_hat_psi_v0\n",
    "print('H_hat_psi_v0 = ', H_hat_psi_v0)"
   ]
  },
  {
   "cell_type": "code",
   "execution_count": 70,
   "metadata": {},
   "outputs": [
    {
     "name": "stdout",
     "output_type": "stream",
     "text": [
      "H_hat_psi_v0 =  N0*hbar**1.0*k**0.5*m**(-0.5)*exp(-hbar**(-1.0)*k**0.5*m**0.5*x**2/2)/2\n"
     ]
    }
   ],
   "source": [
    "print('H_hat_psi_v0 = ', simplify(H_hat_psi_v0))"
   ]
  },
  {
   "cell_type": "code",
   "execution_count": 71,
   "metadata": {},
   "outputs": [
    {
     "name": "stdout",
     "output_type": "stream",
     "text": [
      "H_hat_psi_v0 / psi_v0 =  hbar**1.0*k**0.5*m**(-0.5)/2 \n",
      "\n"
     ]
    }
   ],
   "source": [
    "expr = H_hat_psi_v0/psi_v0\n",
    "expr_simp = together(expr.simplify())\n",
    "print('H_hat_psi_v0 / psi_v0 = ', expr_simp, '\\n')"
   ]
  },
  {
   "cell_type": "code",
   "execution_count": 72,
   "metadata": {},
   "outputs": [
    {
     "name": "stdout",
     "output_type": "stream",
     "text": [
      "H_hat_psi_v0 / psi_v0 =  hbar*w/2\n"
     ]
    }
   ],
   "source": [
    "print('H_hat_psi_v0 / psi_v0 = ', expr_simp.subs({hbar**1.0:hbar, k**(0.5)/(m**0.5):w}))"
   ]
  },
  {
   "cell_type": "markdown",
   "metadata": {},
   "source": [
    "### Encontrar as coordenadas críticas e reduzidas de três modelos de gás real"
   ]
  },
  {
   "cell_type": "code",
   "execution_count": 73,
   "metadata": {},
   "outputs": [],
   "source": [
    "from sympy import *\n",
    "init_printing()\n",
    "# Variáveis\n",
    "p, pr, V, Vr, T, Tr = symbols(\"p, p_r, V_m, V_r, T, T_r\", real=True, positive=True)\n",
    "pc_vdw, Vc_vdw, Tc_vdw = symbols(\"p_c^{vdw}, V_c^{vdw}, T_c^{vdw}\", real=True, positive=True)\n",
    "\n",
    "pc_diet, Vc_diet, Tc_diet = symbols(\"p_c^{diet}, V_c^{diet}, T_c^{diet}\", real=True, positive=True)\n",
    "pc_ber, Vc_ber, Tc_ber = symbols(\"p_c^{ber}, V_c^{ber}, T_c^{ber}\", real=True, positive=True)\n",
    "\n",
    "Z, Z_vdw, Z_diet, Z_ber = symbols(\"Z, Z_vdw, Z_diet, Z_ber\", real=True, positive=True)\n",
    "# Constantes\n",
    "R, a, b = symbols(\"R, a, b\", positive=True, constant=True, real=True)"
   ]
  },
  {
   "cell_type": "code",
   "execution_count": 74,
   "metadata": {},
   "outputs": [
    {
     "name": "stderr",
     "output_type": "stream",
     "text": [
      "/home/gerd/anaconda3/envs/my-rdkit-env/lib/python3.7/site-packages/IPython/lib/latextools.py:126: MatplotlibDeprecationWarning: \n",
      "The to_png function was deprecated in Matplotlib 3.4 and will be removed two minor releases later. Use mathtext.math_to_image instead.\n",
      "  mt.to_png(f, s, fontsize=12, dpi=dpi, color=color)\n",
      "/home/gerd/anaconda3/envs/my-rdkit-env/lib/python3.7/site-packages/IPython/lib/latextools.py:126: MatplotlibDeprecationWarning: \n",
      "The to_rgba function was deprecated in Matplotlib 3.4 and will be removed two minor releases later. Use mathtext.math_to_image instead.\n",
      "  mt.to_png(f, s, fontsize=12, dpi=dpi, color=color)\n",
      "/home/gerd/anaconda3/envs/my-rdkit-env/lib/python3.7/site-packages/IPython/lib/latextools.py:126: MatplotlibDeprecationWarning: \n",
      "The to_mask function was deprecated in Matplotlib 3.4 and will be removed two minor releases later. Use mathtext.math_to_image instead.\n",
      "  mt.to_png(f, s, fontsize=12, dpi=dpi, color=color)\n",
      "/home/gerd/anaconda3/envs/my-rdkit-env/lib/python3.7/site-packages/IPython/lib/latextools.py:126: MatplotlibDeprecationWarning: \n",
      "The MathtextBackendBitmap class was deprecated in Matplotlib 3.4 and will be removed two minor releases later. Use mathtext.math_to_image instead.\n",
      "  mt.to_png(f, s, fontsize=12, dpi=dpi, color=color)\n"
     ]
    },
    {
     "data": {
      "image/png": "[encoded data removed]",
      "text/latex": [
       "$\\displaystyle \\frac{R T}{V_{m} - b} - \\frac{a}{V_{m}^{2}}$"
      ],
      "text/plain": [
       " R⋅T      a \n",
       "────── - ───\n",
       "Vₘ - b     2\n",
       "         Vₘ "
      ]
     },
     "metadata": {},
     "output_type": "display_data"
    },
    {
     "name": "stderr",
     "output_type": "stream",
     "text": [
      "/home/gerd/anaconda3/envs/my-rdkit-env/lib/python3.7/site-packages/IPython/lib/latextools.py:126: MatplotlibDeprecationWarning: \n",
      "The to_png function was deprecated in Matplotlib 3.4 and will be removed two minor releases later. Use mathtext.math_to_image instead.\n",
      "  mt.to_png(f, s, fontsize=12, dpi=dpi, color=color)\n",
      "/home/gerd/anaconda3/envs/my-rdkit-env/lib/python3.7/site-packages/IPython/lib/latextools.py:126: MatplotlibDeprecationWarning: \n",
      "The to_rgba function was deprecated in Matplotlib 3.4 and will be removed two minor releases later. Use mathtext.math_to_image instead.\n",
      "  mt.to_png(f, s, fontsize=12, dpi=dpi, color=color)\n",
      "/home/gerd/anaconda3/envs/my-rdkit-env/lib/python3.7/site-packages/IPython/lib/latextools.py:126: MatplotlibDeprecationWarning: \n",
      "The to_mask function was deprecated in Matplotlib 3.4 and will be removed two minor releases later. Use mathtext.math_to_image instead.\n",
      "  mt.to_png(f, s, fontsize=12, dpi=dpi, color=color)\n",
      "/home/gerd/anaconda3/envs/my-rdkit-env/lib/python3.7/site-packages/IPython/lib/latextools.py:126: MatplotlibDeprecationWarning: \n",
      "The MathtextBackendBitmap class was deprecated in Matplotlib 3.4 and will be removed two minor releases later. Use mathtext.math_to_image instead.\n",
      "  mt.to_png(f, s, fontsize=12, dpi=dpi, color=color)\n"
     ]
    },
    {
     "data": {
      "image/png": "[encoded data removed]",
      "text/latex": [
       "$\\displaystyle \\frac{R T e^{- \\frac{a}{R T V_{m}}}}{V_{m} - b}$"
      ],
      "text/plain": [
       "      -a   \n",
       "     ──────\n",
       "     R⋅T⋅Vₘ\n",
       "R⋅T⋅ℯ      \n",
       "───────────\n",
       "   Vₘ - b  "
      ]
     },
     "metadata": {},
     "output_type": "display_data"
    },
    {
     "name": "stderr",
     "output_type": "stream",
     "text": [
      "/home/gerd/anaconda3/envs/my-rdkit-env/lib/python3.7/site-packages/IPython/lib/latextools.py:126: MatplotlibDeprecationWarning: \n",
      "The to_png function was deprecated in Matplotlib 3.4 and will be removed two minor releases later. Use mathtext.math_to_image instead.\n",
      "  mt.to_png(f, s, fontsize=12, dpi=dpi, color=color)\n",
      "/home/gerd/anaconda3/envs/my-rdkit-env/lib/python3.7/site-packages/IPython/lib/latextools.py:126: MatplotlibDeprecationWarning: \n",
      "The to_rgba function was deprecated in Matplotlib 3.4 and will be removed two minor releases later. Use mathtext.math_to_image instead.\n",
      "  mt.to_png(f, s, fontsize=12, dpi=dpi, color=color)\n",
      "/home/gerd/anaconda3/envs/my-rdkit-env/lib/python3.7/site-packages/IPython/lib/latextools.py:126: MatplotlibDeprecationWarning: \n",
      "The to_mask function was deprecated in Matplotlib 3.4 and will be removed two minor releases later. Use mathtext.math_to_image instead.\n",
      "  mt.to_png(f, s, fontsize=12, dpi=dpi, color=color)\n",
      "/home/gerd/anaconda3/envs/my-rdkit-env/lib/python3.7/site-packages/IPython/lib/latextools.py:126: MatplotlibDeprecationWarning: \n",
      "The MathtextBackendBitmap class was deprecated in Matplotlib 3.4 and will be removed two minor releases later. Use mathtext.math_to_image instead.\n",
      "  mt.to_png(f, s, fontsize=12, dpi=dpi, color=color)\n"
     ]
    },
    {
     "data": {
      "image/png": "[encoded data removed]",
      "text/latex": [
       "$\\displaystyle \\frac{R T}{V_{m} - b} - \\frac{a}{T V_{m}^{2}}$"
      ],
      "text/plain": [
       " R⋅T       a  \n",
       "────── - ─────\n",
       "Vₘ - b       2\n",
       "         T⋅Vₘ "
      ]
     },
     "metadata": {},
     "output_type": "display_data"
    }
   ],
   "source": [
    "# Cálculo das pressões segundo cada uma das três equações de gases reais\n",
    "p_vdw = ((R*T)/(V-b)) - a*(1/V)**2 # van der Waals\n",
    "\n",
    "p_diet = (R*T*exp(-a/(R*T*V)))/(V-b) # Dieterici\n",
    "\n",
    "p_ber = ((R*T)/(V-b)) - a*(1/T)*(1/V)**2 # Berthelot\n",
    "\n",
    "display(p_vdw,p_diet, p_ber)"
   ]
  },
  {
   "cell_type": "code",
   "execution_count": 75,
   "metadata": {},
   "outputs": [
    {
     "name": "stdout",
     "output_type": "stream",
     "text": [
      "\\frac{R T}{V_{m} - b} - \\frac{a}{V_{m}^{2}}\n",
      "\\frac{R T e^{- \\frac{a}{R T V_{m}}}}{V_{m} - b}\n",
      "\\frac{R T}{V_{m} - b} - \\frac{a}{T V_{m}^{2}}\n"
     ]
    }
   ],
   "source": [
    "# Comandos para imprimir em formato do LaTeX\n",
    "\n",
    "print(latex(p_vdw))\n",
    "print(latex(p_diet))\n",
    "print(latex(p_ber))"
   ]
  },
  {
   "cell_type": "code",
   "execution_count": 76,
   "metadata": {},
   "outputs": [
    {
     "name": "stderr",
     "output_type": "stream",
     "text": [
      "/home/gerd/anaconda3/envs/my-rdkit-env/lib/python3.7/site-packages/IPython/lib/latextools.py:126: MatplotlibDeprecationWarning: \n",
      "The to_png function was deprecated in Matplotlib 3.4 and will be removed two minor releases later. Use mathtext.math_to_image instead.\n",
      "  mt.to_png(f, s, fontsize=12, dpi=dpi, color=color)\n",
      "/home/gerd/anaconda3/envs/my-rdkit-env/lib/python3.7/site-packages/IPython/lib/latextools.py:126: MatplotlibDeprecationWarning: \n",
      "The to_rgba function was deprecated in Matplotlib 3.4 and will be removed two minor releases later. Use mathtext.math_to_image instead.\n",
      "  mt.to_png(f, s, fontsize=12, dpi=dpi, color=color)\n",
      "/home/gerd/anaconda3/envs/my-rdkit-env/lib/python3.7/site-packages/IPython/lib/latextools.py:126: MatplotlibDeprecationWarning: \n",
      "The to_mask function was deprecated in Matplotlib 3.4 and will be removed two minor releases later. Use mathtext.math_to_image instead.\n",
      "  mt.to_png(f, s, fontsize=12, dpi=dpi, color=color)\n",
      "/home/gerd/anaconda3/envs/my-rdkit-env/lib/python3.7/site-packages/IPython/lib/latextools.py:126: MatplotlibDeprecationWarning: \n",
      "The MathtextBackendBitmap class was deprecated in Matplotlib 3.4 and will be removed two minor releases later. Use mathtext.math_to_image instead.\n",
      "  mt.to_png(f, s, fontsize=12, dpi=dpi, color=color)\n"
     ]
    },
    {
     "data": {
      "image/png": "[encoded data removed]",
      "text/latex": [
       "$\\displaystyle - \\frac{R T}{\\left(V_{m} - b\\right)^{2}} + \\frac{2 a}{V_{m}^{3}}$"
      ],
      "text/plain": [
       "     R⋅T      2⋅a\n",
       "- ───────── + ───\n",
       "          2     3\n",
       "  (Vₘ - b)    Vₘ "
      ]
     },
     "metadata": {},
     "output_type": "display_data"
    },
    {
     "name": "stderr",
     "output_type": "stream",
     "text": [
      "/home/gerd/anaconda3/envs/my-rdkit-env/lib/python3.7/site-packages/IPython/lib/latextools.py:126: MatplotlibDeprecationWarning: \n",
      "The to_png function was deprecated in Matplotlib 3.4 and will be removed two minor releases later. Use mathtext.math_to_image instead.\n",
      "  mt.to_png(f, s, fontsize=12, dpi=dpi, color=color)\n",
      "/home/gerd/anaconda3/envs/my-rdkit-env/lib/python3.7/site-packages/IPython/lib/latextools.py:126: MatplotlibDeprecationWarning: \n",
      "The to_rgba function was deprecated in Matplotlib 3.4 and will be removed two minor releases later. Use mathtext.math_to_image instead.\n",
      "  mt.to_png(f, s, fontsize=12, dpi=dpi, color=color)\n",
      "/home/gerd/anaconda3/envs/my-rdkit-env/lib/python3.7/site-packages/IPython/lib/latextools.py:126: MatplotlibDeprecationWarning: \n",
      "The to_mask function was deprecated in Matplotlib 3.4 and will be removed two minor releases later. Use mathtext.math_to_image instead.\n",
      "  mt.to_png(f, s, fontsize=12, dpi=dpi, color=color)\n",
      "/home/gerd/anaconda3/envs/my-rdkit-env/lib/python3.7/site-packages/IPython/lib/latextools.py:126: MatplotlibDeprecationWarning: \n",
      "The MathtextBackendBitmap class was deprecated in Matplotlib 3.4 and will be removed two minor releases later. Use mathtext.math_to_image instead.\n",
      "  mt.to_png(f, s, fontsize=12, dpi=dpi, color=color)\n"
     ]
    },
    {
     "data": {
      "image/png": "[encoded data removed]",
      "text/latex": [
       "$\\displaystyle 2 \\left(\\frac{R T}{\\left(V_{m} - b\\right)^{3}} - \\frac{3 a}{V_{m}^{4}}\\right)$"
      ],
      "text/plain": [
       "  ⎛   R⋅T      3⋅a⎞\n",
       "2⋅⎜───────── - ───⎟\n",
       "  ⎜        3     4⎟\n",
       "  ⎝(Vₘ - b)    Vₘ ⎠"
      ]
     },
     "metadata": {},
     "output_type": "display_data"
    },
    {
     "name": "stderr",
     "output_type": "stream",
     "text": [
      "/home/gerd/anaconda3/envs/my-rdkit-env/lib/python3.7/site-packages/IPython/lib/latextools.py:126: MatplotlibDeprecationWarning: \n",
      "The to_png function was deprecated in Matplotlib 3.4 and will be removed two minor releases later. Use mathtext.math_to_image instead.\n",
      "  mt.to_png(f, s, fontsize=12, dpi=dpi, color=color)\n",
      "/home/gerd/anaconda3/envs/my-rdkit-env/lib/python3.7/site-packages/IPython/lib/latextools.py:126: MatplotlibDeprecationWarning: \n",
      "The to_rgba function was deprecated in Matplotlib 3.4 and will be removed two minor releases later. Use mathtext.math_to_image instead.\n",
      "  mt.to_png(f, s, fontsize=12, dpi=dpi, color=color)\n",
      "/home/gerd/anaconda3/envs/my-rdkit-env/lib/python3.7/site-packages/IPython/lib/latextools.py:126: MatplotlibDeprecationWarning: \n",
      "The to_mask function was deprecated in Matplotlib 3.4 and will be removed two minor releases later. Use mathtext.math_to_image instead.\n",
      "  mt.to_png(f, s, fontsize=12, dpi=dpi, color=color)\n",
      "/home/gerd/anaconda3/envs/my-rdkit-env/lib/python3.7/site-packages/IPython/lib/latextools.py:126: MatplotlibDeprecationWarning: \n",
      "The MathtextBackendBitmap class was deprecated in Matplotlib 3.4 and will be removed two minor releases later. Use mathtext.math_to_image instead.\n",
      "  mt.to_png(f, s, fontsize=12, dpi=dpi, color=color)\n"
     ]
    },
    {
     "data": {
      "image/png": "[encoded data removed]",
      "text/latex": [
       "$\\displaystyle - \\frac{R T e^{- \\frac{a}{R T V_{m}}}}{\\left(V_{m} - b\\right)^{2}} + \\frac{a e^{- \\frac{a}{R T V_{m}}}}{V_{m}^{2} \\left(V_{m} - b\\right)}$"
      ],
      "text/plain": [
       "        -a           -a     \n",
       "       ──────       ──────  \n",
       "       R⋅T⋅Vₘ       R⋅T⋅Vₘ  \n",
       "  R⋅T⋅ℯ          a⋅ℯ        \n",
       "- ─────────── + ────────────\n",
       "           2      2         \n",
       "   (Vₘ - b)     Vₘ ⋅(Vₘ - b)"
      ]
     },
     "metadata": {},
     "output_type": "display_data"
    },
    {
     "name": "stderr",
     "output_type": "stream",
     "text": [
      "/home/gerd/anaconda3/envs/my-rdkit-env/lib/python3.7/site-packages/IPython/lib/latextools.py:126: MatplotlibDeprecationWarning: \n",
      "The to_png function was deprecated in Matplotlib 3.4 and will be removed two minor releases later. Use mathtext.math_to_image instead.\n",
      "  mt.to_png(f, s, fontsize=12, dpi=dpi, color=color)\n",
      "/home/gerd/anaconda3/envs/my-rdkit-env/lib/python3.7/site-packages/IPython/lib/latextools.py:126: MatplotlibDeprecationWarning: \n",
      "The to_rgba function was deprecated in Matplotlib 3.4 and will be removed two minor releases later. Use mathtext.math_to_image instead.\n",
      "  mt.to_png(f, s, fontsize=12, dpi=dpi, color=color)\n",
      "/home/gerd/anaconda3/envs/my-rdkit-env/lib/python3.7/site-packages/IPython/lib/latextools.py:126: MatplotlibDeprecationWarning: \n",
      "The to_mask function was deprecated in Matplotlib 3.4 and will be removed two minor releases later. Use mathtext.math_to_image instead.\n",
      "  mt.to_png(f, s, fontsize=12, dpi=dpi, color=color)\n",
      "/home/gerd/anaconda3/envs/my-rdkit-env/lib/python3.7/site-packages/IPython/lib/latextools.py:126: MatplotlibDeprecationWarning: \n",
      "The MathtextBackendBitmap class was deprecated in Matplotlib 3.4 and will be removed two minor releases later. Use mathtext.math_to_image instead.\n",
      "  mt.to_png(f, s, fontsize=12, dpi=dpi, color=color)\n"
     ]
    },
    {
     "data": {
      "image/png": "[encoded data removed]",
      "text/latex": [
       "$\\displaystyle \\frac{\\left(\\frac{2 R T}{\\left(V_{m} - b\\right)^{2}} - \\frac{2 a}{V_{m}^{2} \\left(V_{m} - b\\right)} - \\frac{a \\left(2 - \\frac{a}{R T V_{m}}\\right)}{V_{m}^{3}}\\right) e^{- \\frac{a}{R T V_{m}}}}{V_{m} - b}$"
      ],
      "text/plain": [
       "⎛                             ⎛      a   ⎞⎞   -a   \n",
       "⎜                           a⋅⎜2 - ──────⎟⎟  ──────\n",
       "⎜  2⋅R⋅T         2⋅a          ⎝    R⋅T⋅Vₘ⎠⎟  R⋅T⋅Vₘ\n",
       "⎜───────── - ──────────── - ──────────────⎟⋅ℯ      \n",
       "⎜        2     2                   3      ⎟        \n",
       "⎝(Vₘ - b)    Vₘ ⋅(Vₘ - b)        Vₘ       ⎠        \n",
       "───────────────────────────────────────────────────\n",
       "                       Vₘ - b                      "
      ]
     },
     "metadata": {},
     "output_type": "display_data"
    },
    {
     "name": "stderr",
     "output_type": "stream",
     "text": [
      "/home/gerd/anaconda3/envs/my-rdkit-env/lib/python3.7/site-packages/IPython/lib/latextools.py:126: MatplotlibDeprecationWarning: \n",
      "The to_png function was deprecated in Matplotlib 3.4 and will be removed two minor releases later. Use mathtext.math_to_image instead.\n",
      "  mt.to_png(f, s, fontsize=12, dpi=dpi, color=color)\n",
      "/home/gerd/anaconda3/envs/my-rdkit-env/lib/python3.7/site-packages/IPython/lib/latextools.py:126: MatplotlibDeprecationWarning: \n",
      "The to_rgba function was deprecated in Matplotlib 3.4 and will be removed two minor releases later. Use mathtext.math_to_image instead.\n",
      "  mt.to_png(f, s, fontsize=12, dpi=dpi, color=color)\n",
      "/home/gerd/anaconda3/envs/my-rdkit-env/lib/python3.7/site-packages/IPython/lib/latextools.py:126: MatplotlibDeprecationWarning: \n",
      "The to_mask function was deprecated in Matplotlib 3.4 and will be removed two minor releases later. Use mathtext.math_to_image instead.\n",
      "  mt.to_png(f, s, fontsize=12, dpi=dpi, color=color)\n",
      "/home/gerd/anaconda3/envs/my-rdkit-env/lib/python3.7/site-packages/IPython/lib/latextools.py:126: MatplotlibDeprecationWarning: \n",
      "The MathtextBackendBitmap class was deprecated in Matplotlib 3.4 and will be removed two minor releases later. Use mathtext.math_to_image instead.\n",
      "  mt.to_png(f, s, fontsize=12, dpi=dpi, color=color)\n"
     ]
    },
    {
     "data": {
      "image/png": "[encoded data removed]",
      "text/latex": [
       "$\\displaystyle - \\frac{R T}{\\left(V_{m} - b\\right)^{2}} + \\frac{2 a}{T V_{m}^{3}}$"
      ],
      "text/plain": [
       "     R⋅T       2⋅a \n",
       "- ───────── + ─────\n",
       "          2       3\n",
       "  (Vₘ - b)    T⋅Vₘ "
      ]
     },
     "metadata": {},
     "output_type": "display_data"
    },
    {
     "name": "stderr",
     "output_type": "stream",
     "text": [
      "/home/gerd/anaconda3/envs/my-rdkit-env/lib/python3.7/site-packages/IPython/lib/latextools.py:126: MatplotlibDeprecationWarning: \n",
      "The to_png function was deprecated in Matplotlib 3.4 and will be removed two minor releases later. Use mathtext.math_to_image instead.\n",
      "  mt.to_png(f, s, fontsize=12, dpi=dpi, color=color)\n",
      "/home/gerd/anaconda3/envs/my-rdkit-env/lib/python3.7/site-packages/IPython/lib/latextools.py:126: MatplotlibDeprecationWarning: \n",
      "The to_rgba function was deprecated in Matplotlib 3.4 and will be removed two minor releases later. Use mathtext.math_to_image instead.\n",
      "  mt.to_png(f, s, fontsize=12, dpi=dpi, color=color)\n",
      "/home/gerd/anaconda3/envs/my-rdkit-env/lib/python3.7/site-packages/IPython/lib/latextools.py:126: MatplotlibDeprecationWarning: \n",
      "The to_mask function was deprecated in Matplotlib 3.4 and will be removed two minor releases later. Use mathtext.math_to_image instead.\n",
      "  mt.to_png(f, s, fontsize=12, dpi=dpi, color=color)\n",
      "/home/gerd/anaconda3/envs/my-rdkit-env/lib/python3.7/site-packages/IPython/lib/latextools.py:126: MatplotlibDeprecationWarning: \n",
      "The MathtextBackendBitmap class was deprecated in Matplotlib 3.4 and will be removed two minor releases later. Use mathtext.math_to_image instead.\n",
      "  mt.to_png(f, s, fontsize=12, dpi=dpi, color=color)\n"
     ]
    },
    {
     "data": {
      "image/png": "[encoded data removed]",
      "text/latex": [
       "$\\displaystyle 2 \\left(\\frac{R T}{\\left(V_{m} - b\\right)^{3}} - \\frac{3 a}{T V_{m}^{4}}\\right)$"
      ],
      "text/plain": [
       "  ⎛   R⋅T       3⋅a ⎞\n",
       "2⋅⎜───────── - ─────⎟\n",
       "  ⎜        3       4⎟\n",
       "  ⎝(Vₘ - b)    T⋅Vₘ ⎠"
      ]
     },
     "metadata": {},
     "output_type": "display_data"
    }
   ],
   "source": [
    "# calculando as primeiras e segundas derivadas \n",
    "\n",
    "dp_vdw_dV = diff(p_vdw,V)\n",
    "d2p_vdw_dV2 = diff(p_vdw,V,2)\n",
    "\n",
    "dp_diet_dV = diff(p_diet,V)\n",
    "d2p_diet_dV2 = diff(p_diet,V,2)\n",
    "\n",
    "dp_ber_dV = diff(p_ber,V)\n",
    "d2p_ber_dV2 = diff(p_ber,V,2)\n",
    "\n",
    "display(dp_vdw_dV, d2p_vdw_dV2, dp_diet_dV, d2p_diet_dV2, dp_ber_dV, d2p_ber_dV2)"
   ]
  },
  {
   "cell_type": "code",
   "execution_count": 77,
   "metadata": {},
   "outputs": [
    {
     "name": "stdout",
     "output_type": "stream",
     "text": [
      "- \\frac{R T}{\\left(V_{m} - b\\right)^{2}} + \\frac{2 a}{V_{m}^{3}}\n",
      "2 \\left(\\frac{R T}{\\left(V_{m} - b\\right)^{3}} - \\frac{3 a}{V_{m}^{4}}\\right)\n",
      "- \\frac{R T e^{- \\frac{a}{R T V_{m}}}}{\\left(V_{m} - b\\right)^{2}} + \\frac{a e^{- \\frac{a}{R T V_{m}}}}{V_{m}^{2} \\left(V_{m} - b\\right)}\n",
      "\\frac{\\left(\\frac{2 R T}{\\left(V_{m} - b\\right)^{2}} - \\frac{2 a}{V_{m}^{2} \\left(V_{m} - b\\right)} - \\frac{a \\left(2 - \\frac{a}{R T V_{m}}\\right)}{V_{m}^{3}}\\right) e^{- \\frac{a}{R T V_{m}}}}{V_{m} - b}\n",
      "- \\frac{R T}{\\left(V_{m} - b\\right)^{2}} + \\frac{2 a}{T V_{m}^{3}}\n",
      "2 \\left(\\frac{R T}{\\left(V_{m} - b\\right)^{3}} - \\frac{3 a}{T V_{m}^{4}}\\right)\n"
     ]
    }
   ],
   "source": [
    "# Impressão em LaTeX\n",
    "print(latex(dp_vdw_dV))\n",
    "print(latex(d2p_vdw_dV2))\n",
    "\n",
    "print(latex(dp_diet_dV))\n",
    "print(latex(d2p_diet_dV2))\n",
    "\n",
    "print(latex(dp_ber_dV))\n",
    "print(latex(d2p_ber_dV2))"
   ]
  },
  {
   "cell_type": "code",
   "execution_count": 78,
   "metadata": {},
   "outputs": [
    {
     "name": "stderr",
     "output_type": "stream",
     "text": [
      "/home/gerd/anaconda3/envs/my-rdkit-env/lib/python3.7/site-packages/IPython/lib/latextools.py:126: MatplotlibDeprecationWarning: \n",
      "The to_png function was deprecated in Matplotlib 3.4 and will be removed two minor releases later. Use mathtext.math_to_image instead.\n",
      "  mt.to_png(f, s, fontsize=12, dpi=dpi, color=color)\n",
      "/home/gerd/anaconda3/envs/my-rdkit-env/lib/python3.7/site-packages/IPython/lib/latextools.py:126: MatplotlibDeprecationWarning: \n",
      "The to_rgba function was deprecated in Matplotlib 3.4 and will be removed two minor releases later. Use mathtext.math_to_image instead.\n",
      "  mt.to_png(f, s, fontsize=12, dpi=dpi, color=color)\n",
      "/home/gerd/anaconda3/envs/my-rdkit-env/lib/python3.7/site-packages/IPython/lib/latextools.py:126: MatplotlibDeprecationWarning: \n",
      "The to_mask function was deprecated in Matplotlib 3.4 and will be removed two minor releases later. Use mathtext.math_to_image instead.\n",
      "  mt.to_png(f, s, fontsize=12, dpi=dpi, color=color)\n",
      "/home/gerd/anaconda3/envs/my-rdkit-env/lib/python3.7/site-packages/IPython/lib/latextools.py:126: MatplotlibDeprecationWarning: \n",
      "The MathtextBackendBitmap class was deprecated in Matplotlib 3.4 and will be removed two minor releases later. Use mathtext.math_to_image instead.\n",
      "  mt.to_png(f, s, fontsize=12, dpi=dpi, color=color)\n"
     ]
    },
    {
     "data": {
      "image/png": "[encoded data removed]",
      "text/latex": [
       "$\\displaystyle p = \\frac{R T}{V_{m} - b} - \\frac{a}{V_{m}^{2}}$"
      ],
      "text/plain": [
       "     R⋅T      a \n",
       "p = ────── - ───\n",
       "    Vₘ - b     2\n",
       "             Vₘ "
      ]
     },
     "metadata": {},
     "output_type": "display_data"
    },
    {
     "name": "stderr",
     "output_type": "stream",
     "text": [
      "/home/gerd/anaconda3/envs/my-rdkit-env/lib/python3.7/site-packages/IPython/lib/latextools.py:126: MatplotlibDeprecationWarning: \n",
      "The to_png function was deprecated in Matplotlib 3.4 and will be removed two minor releases later. Use mathtext.math_to_image instead.\n",
      "  mt.to_png(f, s, fontsize=12, dpi=dpi, color=color)\n",
      "/home/gerd/anaconda3/envs/my-rdkit-env/lib/python3.7/site-packages/IPython/lib/latextools.py:126: MatplotlibDeprecationWarning: \n",
      "The to_rgba function was deprecated in Matplotlib 3.4 and will be removed two minor releases later. Use mathtext.math_to_image instead.\n",
      "  mt.to_png(f, s, fontsize=12, dpi=dpi, color=color)\n",
      "/home/gerd/anaconda3/envs/my-rdkit-env/lib/python3.7/site-packages/IPython/lib/latextools.py:126: MatplotlibDeprecationWarning: \n",
      "The to_mask function was deprecated in Matplotlib 3.4 and will be removed two minor releases later. Use mathtext.math_to_image instead.\n",
      "  mt.to_png(f, s, fontsize=12, dpi=dpi, color=color)\n",
      "/home/gerd/anaconda3/envs/my-rdkit-env/lib/python3.7/site-packages/IPython/lib/latextools.py:126: MatplotlibDeprecationWarning: \n",
      "The MathtextBackendBitmap class was deprecated in Matplotlib 3.4 and will be removed two minor releases later. Use mathtext.math_to_image instead.\n",
      "  mt.to_png(f, s, fontsize=12, dpi=dpi, color=color)\n"
     ]
    },
    {
     "data": {
      "image/png": "[encoded data removed]",
      "text/latex": [
       "$\\displaystyle 0 = - \\frac{R T}{\\left(V_{m} - b\\right)^{2}} + \\frac{2 a}{V_{m}^{3}}$"
      ],
      "text/plain": [
       "         R⋅T      2⋅a\n",
       "0 = - ───────── + ───\n",
       "              2     3\n",
       "      (Vₘ - b)    Vₘ "
      ]
     },
     "metadata": {},
     "output_type": "display_data"
    },
    {
     "name": "stderr",
     "output_type": "stream",
     "text": [
      "/home/gerd/anaconda3/envs/my-rdkit-env/lib/python3.7/site-packages/IPython/lib/latextools.py:126: MatplotlibDeprecationWarning: \n",
      "The to_png function was deprecated in Matplotlib 3.4 and will be removed two minor releases later. Use mathtext.math_to_image instead.\n",
      "  mt.to_png(f, s, fontsize=12, dpi=dpi, color=color)\n",
      "/home/gerd/anaconda3/envs/my-rdkit-env/lib/python3.7/site-packages/IPython/lib/latextools.py:126: MatplotlibDeprecationWarning: \n",
      "The to_rgba function was deprecated in Matplotlib 3.4 and will be removed two minor releases later. Use mathtext.math_to_image instead.\n",
      "  mt.to_png(f, s, fontsize=12, dpi=dpi, color=color)\n",
      "/home/gerd/anaconda3/envs/my-rdkit-env/lib/python3.7/site-packages/IPython/lib/latextools.py:126: MatplotlibDeprecationWarning: \n",
      "The to_mask function was deprecated in Matplotlib 3.4 and will be removed two minor releases later. Use mathtext.math_to_image instead.\n",
      "  mt.to_png(f, s, fontsize=12, dpi=dpi, color=color)\n",
      "/home/gerd/anaconda3/envs/my-rdkit-env/lib/python3.7/site-packages/IPython/lib/latextools.py:126: MatplotlibDeprecationWarning: \n",
      "The MathtextBackendBitmap class was deprecated in Matplotlib 3.4 and will be removed two minor releases later. Use mathtext.math_to_image instead.\n",
      "  mt.to_png(f, s, fontsize=12, dpi=dpi, color=color)\n"
     ]
    },
    {
     "data": {
      "image/png": "[encoded data removed]",
      "text/latex": [
       "$\\displaystyle 0 = 2 \\left(\\frac{R T}{\\left(V_{m} - b\\right)^{3}} - \\frac{3 a}{V_{m}^{4}}\\right)$"
      ],
      "text/plain": [
       "      ⎛   R⋅T      3⋅a⎞\n",
       "0 = 2⋅⎜───────── - ───⎟\n",
       "      ⎜        3     4⎟\n",
       "      ⎝(Vₘ - b)    Vₘ ⎠"
      ]
     },
     "metadata": {},
     "output_type": "display_data"
    }
   ],
   "source": [
    "# Definindo simbolicamente equações para a pressão de van der Waals e suas derivadas\n",
    "p_vdw_eq = Eq(p,p_vdw)\n",
    "\n",
    "dp_vdw_dV_eq = Eq(0,dp_vdw_dV)\n",
    "\n",
    "d2p_vdw_dV2_eq = Eq(0,d2p_vdw_dV2)\n",
    "\n",
    "display(p_vdw_eq,dp_vdw_dV_eq,d2p_vdw_dV2_eq)"
   ]
  },
  {
   "cell_type": "code",
   "execution_count": 79,
   "metadata": {},
   "outputs": [
    {
     "name": "stderr",
     "output_type": "stream",
     "text": [
      "/home/gerd/anaconda3/envs/my-rdkit-env/lib/python3.7/site-packages/IPython/lib/latextools.py:126: MatplotlibDeprecationWarning: \n",
      "The to_png function was deprecated in Matplotlib 3.4 and will be removed two minor releases later. Use mathtext.math_to_image instead.\n",
      "  mt.to_png(f, s, fontsize=12, dpi=dpi, color=color)\n",
      "/home/gerd/anaconda3/envs/my-rdkit-env/lib/python3.7/site-packages/IPython/lib/latextools.py:126: MatplotlibDeprecationWarning: \n",
      "The to_rgba function was deprecated in Matplotlib 3.4 and will be removed two minor releases later. Use mathtext.math_to_image instead.\n",
      "  mt.to_png(f, s, fontsize=12, dpi=dpi, color=color)\n",
      "/home/gerd/anaconda3/envs/my-rdkit-env/lib/python3.7/site-packages/IPython/lib/latextools.py:126: MatplotlibDeprecationWarning: \n",
      "The to_mask function was deprecated in Matplotlib 3.4 and will be removed two minor releases later. Use mathtext.math_to_image instead.\n",
      "  mt.to_png(f, s, fontsize=12, dpi=dpi, color=color)\n",
      "/home/gerd/anaconda3/envs/my-rdkit-env/lib/python3.7/site-packages/IPython/lib/latextools.py:126: MatplotlibDeprecationWarning: \n",
      "The MathtextBackendBitmap class was deprecated in Matplotlib 3.4 and will be removed two minor releases later. Use mathtext.math_to_image instead.\n",
      "  mt.to_png(f, s, fontsize=12, dpi=dpi, color=color)\n"
     ]
    },
    {
     "data": {
      "image/png": "[encoded data removed]",
      "text/latex": [
       "$\\displaystyle p_c^{vdw} = \\frac{a}{27 b^{2}}$"
      ],
      "text/plain": [
       "               a  \n",
       "p_c__{vdw} = ─────\n",
       "                 2\n",
       "             27⋅b "
      ]
     },
     "metadata": {},
     "output_type": "display_data"
    },
    {
     "name": "stderr",
     "output_type": "stream",
     "text": [
      "/home/gerd/anaconda3/envs/my-rdkit-env/lib/python3.7/site-packages/IPython/lib/latextools.py:126: MatplotlibDeprecationWarning: \n",
      "The to_png function was deprecated in Matplotlib 3.4 and will be removed two minor releases later. Use mathtext.math_to_image instead.\n",
      "  mt.to_png(f, s, fontsize=12, dpi=dpi, color=color)\n",
      "/home/gerd/anaconda3/envs/my-rdkit-env/lib/python3.7/site-packages/IPython/lib/latextools.py:126: MatplotlibDeprecationWarning: \n",
      "The to_rgba function was deprecated in Matplotlib 3.4 and will be removed two minor releases later. Use mathtext.math_to_image instead.\n",
      "  mt.to_png(f, s, fontsize=12, dpi=dpi, color=color)\n",
      "/home/gerd/anaconda3/envs/my-rdkit-env/lib/python3.7/site-packages/IPython/lib/latextools.py:126: MatplotlibDeprecationWarning: \n",
      "The to_mask function was deprecated in Matplotlib 3.4 and will be removed two minor releases later. Use mathtext.math_to_image instead.\n",
      "  mt.to_png(f, s, fontsize=12, dpi=dpi, color=color)\n",
      "/home/gerd/anaconda3/envs/my-rdkit-env/lib/python3.7/site-packages/IPython/lib/latextools.py:126: MatplotlibDeprecationWarning: \n",
      "The MathtextBackendBitmap class was deprecated in Matplotlib 3.4 and will be removed two minor releases later. Use mathtext.math_to_image instead.\n",
      "  mt.to_png(f, s, fontsize=12, dpi=dpi, color=color)\n"
     ]
    },
    {
     "data": {
      "image/png": "[encoded data removed]",
      "text/latex": [
       "$\\displaystyle V_c^{vdw} = 3 b$"
      ],
      "text/plain": [
       "V_c__{vdw} = 3⋅b"
      ]
     },
     "metadata": {},
     "output_type": "display_data"
    },
    {
     "name": "stderr",
     "output_type": "stream",
     "text": [
      "/home/gerd/anaconda3/envs/my-rdkit-env/lib/python3.7/site-packages/IPython/lib/latextools.py:126: MatplotlibDeprecationWarning: \n",
      "The to_png function was deprecated in Matplotlib 3.4 and will be removed two minor releases later. Use mathtext.math_to_image instead.\n",
      "  mt.to_png(f, s, fontsize=12, dpi=dpi, color=color)\n",
      "/home/gerd/anaconda3/envs/my-rdkit-env/lib/python3.7/site-packages/IPython/lib/latextools.py:126: MatplotlibDeprecationWarning: \n",
      "The to_rgba function was deprecated in Matplotlib 3.4 and will be removed two minor releases later. Use mathtext.math_to_image instead.\n",
      "  mt.to_png(f, s, fontsize=12, dpi=dpi, color=color)\n",
      "/home/gerd/anaconda3/envs/my-rdkit-env/lib/python3.7/site-packages/IPython/lib/latextools.py:126: MatplotlibDeprecationWarning: \n",
      "The to_mask function was deprecated in Matplotlib 3.4 and will be removed two minor releases later. Use mathtext.math_to_image instead.\n",
      "  mt.to_png(f, s, fontsize=12, dpi=dpi, color=color)\n",
      "/home/gerd/anaconda3/envs/my-rdkit-env/lib/python3.7/site-packages/IPython/lib/latextools.py:126: MatplotlibDeprecationWarning: \n",
      "The MathtextBackendBitmap class was deprecated in Matplotlib 3.4 and will be removed two minor releases later. Use mathtext.math_to_image instead.\n",
      "  mt.to_png(f, s, fontsize=12, dpi=dpi, color=color)\n"
     ]
    },
    {
     "data": {
      "image/png": "[encoded data removed]",
      "text/latex": [
       "$\\displaystyle T_c^{vdw} = \\frac{8 a}{27 R b}$"
      ],
      "text/plain": [
       "              8⋅a  \n",
       "T_c__{vdw} = ──────\n",
       "             27⋅R⋅b"
      ]
     },
     "metadata": {},
     "output_type": "display_data"
    }
   ],
   "source": [
    "# Cálculo do ponto crítico para o modelo de gás real de van der Waals\n",
    "ponto_critico_vdw, = solve([p_vdw_eq, dp_vdw_dV_eq, d2p_vdw_dV2_eq],[p,V,T])\n",
    "\n",
    "pcvdw = ponto_critico_vdw[0]\n",
    "Vcvdw = ponto_critico_vdw[1]\n",
    "Tcvdw = ponto_critico_vdw[2]\n",
    "\n",
    "display(Eq(pc_vdw,pcvdw), Eq(Vc_vdw,Vcvdw), Eq(Tc_vdw,Tcvdw))"
   ]
  },
  {
   "cell_type": "code",
   "execution_count": 80,
   "metadata": {},
   "outputs": [
    {
     "name": "stderr",
     "output_type": "stream",
     "text": [
      "/home/gerd/anaconda3/envs/my-rdkit-env/lib/python3.7/site-packages/IPython/lib/latextools.py:126: MatplotlibDeprecationWarning: \n",
      "The to_png function was deprecated in Matplotlib 3.4 and will be removed two minor releases later. Use mathtext.math_to_image instead.\n",
      "  mt.to_png(f, s, fontsize=12, dpi=dpi, color=color)\n",
      "/home/gerd/anaconda3/envs/my-rdkit-env/lib/python3.7/site-packages/IPython/lib/latextools.py:126: MatplotlibDeprecationWarning: \n",
      "The to_rgba function was deprecated in Matplotlib 3.4 and will be removed two minor releases later. Use mathtext.math_to_image instead.\n",
      "  mt.to_png(f, s, fontsize=12, dpi=dpi, color=color)\n",
      "/home/gerd/anaconda3/envs/my-rdkit-env/lib/python3.7/site-packages/IPython/lib/latextools.py:126: MatplotlibDeprecationWarning: \n",
      "The to_mask function was deprecated in Matplotlib 3.4 and will be removed two minor releases later. Use mathtext.math_to_image instead.\n",
      "  mt.to_png(f, s, fontsize=12, dpi=dpi, color=color)\n",
      "/home/gerd/anaconda3/envs/my-rdkit-env/lib/python3.7/site-packages/IPython/lib/latextools.py:126: MatplotlibDeprecationWarning: \n",
      "The MathtextBackendBitmap class was deprecated in Matplotlib 3.4 and will be removed two minor releases later. Use mathtext.math_to_image instead.\n",
      "  mt.to_png(f, s, fontsize=12, dpi=dpi, color=color)\n"
     ]
    },
    {
     "data": {
      "image/png": "[encoded data removed]",
      "text/latex": [
       "$\\displaystyle \\frac{3}{8}$"
      ],
      "text/plain": [
       "3/8"
      ]
     },
     "metadata": {},
     "output_type": "display_data"
    }
   ],
   "source": [
    "# Fator de compressibilidade segundo o modelo de van der Waals\n",
    "Zc_vdw = pcvdw*Vcvdw/(R*Tcvdw)\n",
    "\n",
    "display(Zc_vdw)"
   ]
  },
  {
   "cell_type": "code",
   "execution_count": 81,
   "metadata": {},
   "outputs": [
    {
     "name": "stderr",
     "output_type": "stream",
     "text": [
      "/home/gerd/anaconda3/envs/my-rdkit-env/lib/python3.7/site-packages/IPython/lib/latextools.py:126: MatplotlibDeprecationWarning: \n",
      "The to_png function was deprecated in Matplotlib 3.4 and will be removed two minor releases later. Use mathtext.math_to_image instead.\n",
      "  mt.to_png(f, s, fontsize=12, dpi=dpi, color=color)\n",
      "/home/gerd/anaconda3/envs/my-rdkit-env/lib/python3.7/site-packages/IPython/lib/latextools.py:126: MatplotlibDeprecationWarning: \n",
      "The to_rgba function was deprecated in Matplotlib 3.4 and will be removed two minor releases later. Use mathtext.math_to_image instead.\n",
      "  mt.to_png(f, s, fontsize=12, dpi=dpi, color=color)\n",
      "/home/gerd/anaconda3/envs/my-rdkit-env/lib/python3.7/site-packages/IPython/lib/latextools.py:126: MatplotlibDeprecationWarning: \n",
      "The to_mask function was deprecated in Matplotlib 3.4 and will be removed two minor releases later. Use mathtext.math_to_image instead.\n",
      "  mt.to_png(f, s, fontsize=12, dpi=dpi, color=color)\n",
      "/home/gerd/anaconda3/envs/my-rdkit-env/lib/python3.7/site-packages/IPython/lib/latextools.py:126: MatplotlibDeprecationWarning: \n",
      "The MathtextBackendBitmap class was deprecated in Matplotlib 3.4 and will be removed two minor releases later. Use mathtext.math_to_image instead.\n",
      "  mt.to_png(f, s, fontsize=12, dpi=dpi, color=color)\n"
     ]
    },
    {
     "data": {
      "image/png": "[encoded data removed]",
      "text/latex": [
       "$\\displaystyle \\frac{a p_{r}}{27 b^{2}} = \\frac{a \\left(8 T_{r} V_{r}^{2} - 9 V_{r} + 3\\right)}{27 V_{r}^{2} b^{2} \\left(3 V_{r} - 1\\right)}$"
      ],
      "text/plain": [
       "          ⎛       2           ⎞\n",
       " a⋅pᵣ   a⋅⎝8⋅Tᵣ⋅Vᵣ  - 9⋅Vᵣ + 3⎠\n",
       "───── = ───────────────────────\n",
       "    2          2  2            \n",
       "27⋅b      27⋅Vᵣ ⋅b ⋅(3⋅Vᵣ - 1) "
      ]
     },
     "metadata": {},
     "output_type": "display_data"
    }
   ],
   "source": [
    "# Derivando a forma reduzida do modelo de gás real de van der Waals \n",
    "eq_pr_vdw = together(Subs(p_vdw_eq, (p,V,T),(pr*pcvdw, Vr*Vcvdw, Tr*Tcvdw)).simplify())\n",
    "\n",
    "display(eq_pr_vdw)"
   ]
  },
  {
   "cell_type": "code",
   "execution_count": 82,
   "metadata": {},
   "outputs": [
    {
     "name": "stdout",
     "output_type": "stream",
     "text": [
      "⎡       2           ⎤\n",
      "⎢8⋅Tᵣ⋅Vᵣ  - 9⋅Vᵣ + 3⎥\n",
      "⎢───────────────────⎥\n",
      "⎢     2             ⎥\n",
      "⎣   Vᵣ ⋅(3⋅Vᵣ - 1)  ⎦\n"
     ]
    }
   ],
   "source": [
    "# Isolando a pressão reduzida no modelo de van der Waals\n",
    "pr_vdw_isol = solve(eq_pr_vdw, pr)\n",
    "\n",
    "pprint(pr_vdw_isol)"
   ]
  },
  {
   "cell_type": "code",
   "execution_count": 83,
   "metadata": {},
   "outputs": [],
   "source": [
    "# Definindo simbolicamente equações para a pressão de Berthelot e suas derivadas\n",
    "p_ber_eq = Eq(p,p_ber)\n",
    "dp_ber_dV_eq = Eq(0,dp_ber_dV)\n",
    "d2p_ber_dV2_eq = Eq(0,d2p_ber_dV2)"
   ]
  },
  {
   "cell_type": "code",
   "execution_count": 84,
   "metadata": {},
   "outputs": [
    {
     "name": "stderr",
     "output_type": "stream",
     "text": [
      "/home/gerd/anaconda3/envs/my-rdkit-env/lib/python3.7/site-packages/IPython/lib/latextools.py:126: MatplotlibDeprecationWarning: \n",
      "The to_png function was deprecated in Matplotlib 3.4 and will be removed two minor releases later. Use mathtext.math_to_image instead.\n",
      "  mt.to_png(f, s, fontsize=12, dpi=dpi, color=color)\n",
      "/home/gerd/anaconda3/envs/my-rdkit-env/lib/python3.7/site-packages/IPython/lib/latextools.py:126: MatplotlibDeprecationWarning: \n",
      "The to_rgba function was deprecated in Matplotlib 3.4 and will be removed two minor releases later. Use mathtext.math_to_image instead.\n",
      "  mt.to_png(f, s, fontsize=12, dpi=dpi, color=color)\n",
      "/home/gerd/anaconda3/envs/my-rdkit-env/lib/python3.7/site-packages/IPython/lib/latextools.py:126: MatplotlibDeprecationWarning: \n",
      "The to_mask function was deprecated in Matplotlib 3.4 and will be removed two minor releases later. Use mathtext.math_to_image instead.\n",
      "  mt.to_png(f, s, fontsize=12, dpi=dpi, color=color)\n",
      "/home/gerd/anaconda3/envs/my-rdkit-env/lib/python3.7/site-packages/IPython/lib/latextools.py:126: MatplotlibDeprecationWarning: \n",
      "The MathtextBackendBitmap class was deprecated in Matplotlib 3.4 and will be removed two minor releases later. Use mathtext.math_to_image instead.\n",
      "  mt.to_png(f, s, fontsize=12, dpi=dpi, color=color)\n"
     ]
    },
    {
     "data": {
      "image/png": "[encoded data removed]",
      "text/latex": [
       "$\\displaystyle p_c^{ber} = \\frac{\\sqrt{6} \\sqrt{R} \\sqrt{a}}{36 b^{\\frac{3}{2}}}$"
      ],
      "text/plain": [
       "             √6⋅√R⋅√a\n",
       "p_c__{ber} = ────────\n",
       "                 3/2 \n",
       "             36⋅b    "
      ]
     },
     "metadata": {},
     "output_type": "display_data"
    },
    {
     "name": "stderr",
     "output_type": "stream",
     "text": [
      "/home/gerd/anaconda3/envs/my-rdkit-env/lib/python3.7/site-packages/IPython/lib/latextools.py:126: MatplotlibDeprecationWarning: \n",
      "The to_png function was deprecated in Matplotlib 3.4 and will be removed two minor releases later. Use mathtext.math_to_image instead.\n",
      "  mt.to_png(f, s, fontsize=12, dpi=dpi, color=color)\n",
      "/home/gerd/anaconda3/envs/my-rdkit-env/lib/python3.7/site-packages/IPython/lib/latextools.py:126: MatplotlibDeprecationWarning: \n",
      "The to_rgba function was deprecated in Matplotlib 3.4 and will be removed two minor releases later. Use mathtext.math_to_image instead.\n",
      "  mt.to_png(f, s, fontsize=12, dpi=dpi, color=color)\n",
      "/home/gerd/anaconda3/envs/my-rdkit-env/lib/python3.7/site-packages/IPython/lib/latextools.py:126: MatplotlibDeprecationWarning: \n",
      "The to_mask function was deprecated in Matplotlib 3.4 and will be removed two minor releases later. Use mathtext.math_to_image instead.\n",
      "  mt.to_png(f, s, fontsize=12, dpi=dpi, color=color)\n",
      "/home/gerd/anaconda3/envs/my-rdkit-env/lib/python3.7/site-packages/IPython/lib/latextools.py:126: MatplotlibDeprecationWarning: \n",
      "The MathtextBackendBitmap class was deprecated in Matplotlib 3.4 and will be removed two minor releases later. Use mathtext.math_to_image instead.\n",
      "  mt.to_png(f, s, fontsize=12, dpi=dpi, color=color)\n"
     ]
    },
    {
     "data": {
      "image/png": "[encoded data removed]",
      "text/latex": [
       "$\\displaystyle V_c^{ber} = 3 b$"
      ],
      "text/plain": [
       "V_c__{ber} = 3⋅b"
      ]
     },
     "metadata": {},
     "output_type": "display_data"
    },
    {
     "name": "stderr",
     "output_type": "stream",
     "text": [
      "/home/gerd/anaconda3/envs/my-rdkit-env/lib/python3.7/site-packages/IPython/lib/latextools.py:126: MatplotlibDeprecationWarning: \n",
      "The to_png function was deprecated in Matplotlib 3.4 and will be removed two minor releases later. Use mathtext.math_to_image instead.\n",
      "  mt.to_png(f, s, fontsize=12, dpi=dpi, color=color)\n",
      "/home/gerd/anaconda3/envs/my-rdkit-env/lib/python3.7/site-packages/IPython/lib/latextools.py:126: MatplotlibDeprecationWarning: \n",
      "The to_rgba function was deprecated in Matplotlib 3.4 and will be removed two minor releases later. Use mathtext.math_to_image instead.\n",
      "  mt.to_png(f, s, fontsize=12, dpi=dpi, color=color)\n",
      "/home/gerd/anaconda3/envs/my-rdkit-env/lib/python3.7/site-packages/IPython/lib/latextools.py:126: MatplotlibDeprecationWarning: \n",
      "The to_mask function was deprecated in Matplotlib 3.4 and will be removed two minor releases later. Use mathtext.math_to_image instead.\n",
      "  mt.to_png(f, s, fontsize=12, dpi=dpi, color=color)\n",
      "/home/gerd/anaconda3/envs/my-rdkit-env/lib/python3.7/site-packages/IPython/lib/latextools.py:126: MatplotlibDeprecationWarning: \n",
      "The MathtextBackendBitmap class was deprecated in Matplotlib 3.4 and will be removed two minor releases later. Use mathtext.math_to_image instead.\n",
      "  mt.to_png(f, s, fontsize=12, dpi=dpi, color=color)\n"
     ]
    },
    {
     "data": {
      "image/png": "[encoded data removed]",
      "text/latex": [
       "$\\displaystyle T_c^{ber} = \\frac{2 \\sqrt{6} \\sqrt{a}}{9 \\sqrt{R} \\sqrt{b}}$"
      ],
      "text/plain": [
       "             2⋅√6⋅√a\n",
       "T_c__{ber} = ───────\n",
       "             9⋅√R⋅√b"
      ]
     },
     "metadata": {},
     "output_type": "display_data"
    }
   ],
   "source": [
    "# Cálculo do ponto crítico para o modelo de gás real de Berthelot\n",
    "ponto_critico_ber, = solve([p_ber_eq, dp_ber_dV_eq, d2p_ber_dV2_eq],[p,V,T])\n",
    "\n",
    "pcber = ponto_critico_ber[0]\n",
    "Vcber = ponto_critico_ber[1]\n",
    "Tcber = ponto_critico_ber[2]\n",
    "\n",
    "display(Eq(pc_ber,pcber),Eq(Vc_ber,Vcber), Eq(Tc_ber,Tcber).simplify())"
   ]
  },
  {
   "cell_type": "code",
   "execution_count": 85,
   "metadata": {},
   "outputs": [
    {
     "name": "stderr",
     "output_type": "stream",
     "text": [
      "/home/gerd/anaconda3/envs/my-rdkit-env/lib/python3.7/site-packages/IPython/lib/latextools.py:126: MatplotlibDeprecationWarning: \n",
      "The to_png function was deprecated in Matplotlib 3.4 and will be removed two minor releases later. Use mathtext.math_to_image instead.\n",
      "  mt.to_png(f, s, fontsize=12, dpi=dpi, color=color)\n",
      "/home/gerd/anaconda3/envs/my-rdkit-env/lib/python3.7/site-packages/IPython/lib/latextools.py:126: MatplotlibDeprecationWarning: \n",
      "The to_rgba function was deprecated in Matplotlib 3.4 and will be removed two minor releases later. Use mathtext.math_to_image instead.\n",
      "  mt.to_png(f, s, fontsize=12, dpi=dpi, color=color)\n",
      "/home/gerd/anaconda3/envs/my-rdkit-env/lib/python3.7/site-packages/IPython/lib/latextools.py:126: MatplotlibDeprecationWarning: \n",
      "The to_mask function was deprecated in Matplotlib 3.4 and will be removed two minor releases later. Use mathtext.math_to_image instead.\n",
      "  mt.to_png(f, s, fontsize=12, dpi=dpi, color=color)\n",
      "/home/gerd/anaconda3/envs/my-rdkit-env/lib/python3.7/site-packages/IPython/lib/latextools.py:126: MatplotlibDeprecationWarning: \n",
      "The MathtextBackendBitmap class was deprecated in Matplotlib 3.4 and will be removed two minor releases later. Use mathtext.math_to_image instead.\n",
      "  mt.to_png(f, s, fontsize=12, dpi=dpi, color=color)\n"
     ]
    },
    {
     "data": {
      "image/png": "[encoded data removed]",
      "text/latex": [
       "$\\displaystyle \\frac{3}{8}$"
      ],
      "text/plain": [
       "3/8"
      ]
     },
     "metadata": {},
     "output_type": "display_data"
    }
   ],
   "source": [
    "# Fator de compressibilidade segundo o modelo de Berthelot\n",
    "Zc_ber = pcber*Vcber/(R*Tcber)\n",
    "\n",
    "display(Zc_ber)"
   ]
  },
  {
   "cell_type": "code",
   "execution_count": 86,
   "metadata": {},
   "outputs": [
    {
     "name": "stderr",
     "output_type": "stream",
     "text": [
      "/home/gerd/anaconda3/envs/my-rdkit-env/lib/python3.7/site-packages/IPython/lib/latextools.py:126: MatplotlibDeprecationWarning: \n",
      "The to_png function was deprecated in Matplotlib 3.4 and will be removed two minor releases later. Use mathtext.math_to_image instead.\n",
      "  mt.to_png(f, s, fontsize=12, dpi=dpi, color=color)\n",
      "/home/gerd/anaconda3/envs/my-rdkit-env/lib/python3.7/site-packages/IPython/lib/latextools.py:126: MatplotlibDeprecationWarning: \n",
      "The to_rgba function was deprecated in Matplotlib 3.4 and will be removed two minor releases later. Use mathtext.math_to_image instead.\n",
      "  mt.to_png(f, s, fontsize=12, dpi=dpi, color=color)\n",
      "/home/gerd/anaconda3/envs/my-rdkit-env/lib/python3.7/site-packages/IPython/lib/latextools.py:126: MatplotlibDeprecationWarning: \n",
      "The to_mask function was deprecated in Matplotlib 3.4 and will be removed two minor releases later. Use mathtext.math_to_image instead.\n",
      "  mt.to_png(f, s, fontsize=12, dpi=dpi, color=color)\n",
      "/home/gerd/anaconda3/envs/my-rdkit-env/lib/python3.7/site-packages/IPython/lib/latextools.py:126: MatplotlibDeprecationWarning: \n",
      "The MathtextBackendBitmap class was deprecated in Matplotlib 3.4 and will be removed two minor releases later. Use mathtext.math_to_image instead.\n",
      "  mt.to_png(f, s, fontsize=12, dpi=dpi, color=color)\n"
     ]
    },
    {
     "data": {
      "image/png": "[encoded data removed]",
      "text/latex": [
       "$\\displaystyle \\frac{\\sqrt{6} \\sqrt{R} \\sqrt{a} p_{r}}{36 b^{\\frac{3}{2}}} = \\frac{\\sqrt{6} \\sqrt{R} \\sqrt{a} \\left(8 T_{r}^{2} V_{r}^{2} - 9 V_{r} + 3\\right)}{36 T_{r} V_{r}^{2} b^{\\frac{3}{2}} \\left(3 V_{r} - 1\\right)}$"
      ],
      "text/plain": [
       "                       ⎛    2   2           ⎞\n",
       "√6⋅√R⋅√a⋅pᵣ   √6⋅√R⋅√a⋅⎝8⋅Tᵣ ⋅Vᵣ  - 9⋅Vᵣ + 3⎠\n",
       "─────────── = ───────────────────────────────\n",
       "      3/2                2  3/2              \n",
       "  36⋅b           36⋅Tᵣ⋅Vᵣ ⋅b   ⋅(3⋅Vᵣ - 1)   "
      ]
     },
     "metadata": {},
     "output_type": "display_data"
    }
   ],
   "source": [
    "# Derivando a forma reduzida do modelo de gás real de Berthelot\n",
    "eq_pr_ber = together(Subs(p_ber_eq, (p,V,T),(pr*pcber, Vr*Vcber, Tr*Tcber)).simplify())\n",
    "\n",
    "display(eq_pr_ber)"
   ]
  },
  {
   "cell_type": "code",
   "execution_count": 87,
   "metadata": {},
   "outputs": [
    {
     "name": "stdout",
     "output_type": "stream",
     "text": [
      "⎡    2   2           ⎤\n",
      "⎢8⋅Tᵣ ⋅Vᵣ  - 9⋅Vᵣ + 3⎥\n",
      "⎢────────────────────⎥\n",
      "⎢      2             ⎥\n",
      "⎣ Tᵣ⋅Vᵣ ⋅(3⋅Vᵣ - 1)  ⎦\n"
     ]
    }
   ],
   "source": [
    "# Isolando a pressão reduzida no modelo de Berthelot\n",
    "pr_isol_ber = solve(eq_pr_ber, pr)\n",
    "\n",
    "pprint(pr_isol_ber)"
   ]
  },
  {
   "cell_type": "code",
   "execution_count": 88,
   "metadata": {},
   "outputs": [],
   "source": [
    "# Definindo simbolicamente equações para a pressão de Dieterici e suas derivadas\n",
    "p_diet_eq = Eq(p,p_diet)\n",
    "dp_diet_dV_eq = Eq(0,dp_diet_dV)\n",
    "d2p_diet_dV2_eq = Eq(0,d2p_diet_dV2)"
   ]
  },
  {
   "cell_type": "code",
   "execution_count": 89,
   "metadata": {},
   "outputs": [
    {
     "name": "stderr",
     "output_type": "stream",
     "text": [
      "/home/gerd/anaconda3/envs/my-rdkit-env/lib/python3.7/site-packages/IPython/lib/latextools.py:126: MatplotlibDeprecationWarning: \n",
      "The to_png function was deprecated in Matplotlib 3.4 and will be removed two minor releases later. Use mathtext.math_to_image instead.\n",
      "  mt.to_png(f, s, fontsize=12, dpi=dpi, color=color)\n",
      "/home/gerd/anaconda3/envs/my-rdkit-env/lib/python3.7/site-packages/IPython/lib/latextools.py:126: MatplotlibDeprecationWarning: \n",
      "The to_rgba function was deprecated in Matplotlib 3.4 and will be removed two minor releases later. Use mathtext.math_to_image instead.\n",
      "  mt.to_png(f, s, fontsize=12, dpi=dpi, color=color)\n",
      "/home/gerd/anaconda3/envs/my-rdkit-env/lib/python3.7/site-packages/IPython/lib/latextools.py:126: MatplotlibDeprecationWarning: \n",
      "The to_mask function was deprecated in Matplotlib 3.4 and will be removed two minor releases later. Use mathtext.math_to_image instead.\n",
      "  mt.to_png(f, s, fontsize=12, dpi=dpi, color=color)\n",
      "/home/gerd/anaconda3/envs/my-rdkit-env/lib/python3.7/site-packages/IPython/lib/latextools.py:126: MatplotlibDeprecationWarning: \n",
      "The MathtextBackendBitmap class was deprecated in Matplotlib 3.4 and will be removed two minor releases later. Use mathtext.math_to_image instead.\n",
      "  mt.to_png(f, s, fontsize=12, dpi=dpi, color=color)\n"
     ]
    },
    {
     "data": {
      "image/png": "[encoded data removed]",
      "text/latex": [
       "$\\displaystyle p_c^{diet} = \\frac{a}{4 b^{2} e^{2}}$"
      ],
      "text/plain": [
       "                 -2\n",
       "              a⋅ℯ  \n",
       "p_c__{diet} = ─────\n",
       "                  2\n",
       "               4⋅b "
      ]
     },
     "metadata": {},
     "output_type": "display_data"
    },
    {
     "name": "stderr",
     "output_type": "stream",
     "text": [
      "/home/gerd/anaconda3/envs/my-rdkit-env/lib/python3.7/site-packages/IPython/lib/latextools.py:126: MatplotlibDeprecationWarning: \n",
      "The to_png function was deprecated in Matplotlib 3.4 and will be removed two minor releases later. Use mathtext.math_to_image instead.\n",
      "  mt.to_png(f, s, fontsize=12, dpi=dpi, color=color)\n",
      "/home/gerd/anaconda3/envs/my-rdkit-env/lib/python3.7/site-packages/IPython/lib/latextools.py:126: MatplotlibDeprecationWarning: \n",
      "The to_rgba function was deprecated in Matplotlib 3.4 and will be removed two minor releases later. Use mathtext.math_to_image instead.\n",
      "  mt.to_png(f, s, fontsize=12, dpi=dpi, color=color)\n",
      "/home/gerd/anaconda3/envs/my-rdkit-env/lib/python3.7/site-packages/IPython/lib/latextools.py:126: MatplotlibDeprecationWarning: \n",
      "The to_mask function was deprecated in Matplotlib 3.4 and will be removed two minor releases later. Use mathtext.math_to_image instead.\n",
      "  mt.to_png(f, s, fontsize=12, dpi=dpi, color=color)\n",
      "/home/gerd/anaconda3/envs/my-rdkit-env/lib/python3.7/site-packages/IPython/lib/latextools.py:126: MatplotlibDeprecationWarning: \n",
      "The MathtextBackendBitmap class was deprecated in Matplotlib 3.4 and will be removed two minor releases later. Use mathtext.math_to_image instead.\n",
      "  mt.to_png(f, s, fontsize=12, dpi=dpi, color=color)\n"
     ]
    },
    {
     "data": {
      "image/png": "[encoded data removed]",
      "text/latex": [
       "$\\displaystyle V_c^{diet} = 2 b$"
      ],
      "text/plain": [
       "V_c__{diet} = 2⋅b"
      ]
     },
     "metadata": {},
     "output_type": "display_data"
    },
    {
     "name": "stderr",
     "output_type": "stream",
     "text": [
      "/home/gerd/anaconda3/envs/my-rdkit-env/lib/python3.7/site-packages/IPython/lib/latextools.py:126: MatplotlibDeprecationWarning: \n",
      "The to_png function was deprecated in Matplotlib 3.4 and will be removed two minor releases later. Use mathtext.math_to_image instead.\n",
      "  mt.to_png(f, s, fontsize=12, dpi=dpi, color=color)\n",
      "/home/gerd/anaconda3/envs/my-rdkit-env/lib/python3.7/site-packages/IPython/lib/latextools.py:126: MatplotlibDeprecationWarning: \n",
      "The to_rgba function was deprecated in Matplotlib 3.4 and will be removed two minor releases later. Use mathtext.math_to_image instead.\n",
      "  mt.to_png(f, s, fontsize=12, dpi=dpi, color=color)\n",
      "/home/gerd/anaconda3/envs/my-rdkit-env/lib/python3.7/site-packages/IPython/lib/latextools.py:126: MatplotlibDeprecationWarning: \n",
      "The to_mask function was deprecated in Matplotlib 3.4 and will be removed two minor releases later. Use mathtext.math_to_image instead.\n",
      "  mt.to_png(f, s, fontsize=12, dpi=dpi, color=color)\n",
      "/home/gerd/anaconda3/envs/my-rdkit-env/lib/python3.7/site-packages/IPython/lib/latextools.py:126: MatplotlibDeprecationWarning: \n",
      "The MathtextBackendBitmap class was deprecated in Matplotlib 3.4 and will be removed two minor releases later. Use mathtext.math_to_image instead.\n",
      "  mt.to_png(f, s, fontsize=12, dpi=dpi, color=color)\n"
     ]
    },
    {
     "data": {
      "image/png": "[encoded data removed]",
      "text/latex": [
       "$\\displaystyle T_c^{diet} = \\frac{a}{4 R b}$"
      ],
      "text/plain": [
       "                a  \n",
       "T_c__{diet} = ─────\n",
       "              4⋅R⋅b"
      ]
     },
     "metadata": {},
     "output_type": "display_data"
    }
   ],
   "source": [
    "# Cálculo do ponto crítico para o modelo de gás real de Dieterici\n",
    "ponto_critico_diet, = solve([p_diet_eq.simplify(), dp_diet_dV_eq.simplify(), d2p_diet_dV2_eq.simplify()],[p,V,T])\n",
    "\n",
    "pcdiet = ponto_critico_diet[0]\n",
    "Vcdiet = ponto_critico_diet[1]\n",
    "Tcdiet = ponto_critico_diet[2]\n",
    "\n",
    "display(Eq(pc_diet,pcdiet), Eq(Vc_diet,Vcdiet),Eq(Tc_diet,Tcdiet))\n"
   ]
  },
  {
   "cell_type": "code",
   "execution_count": 90,
   "metadata": {},
   "outputs": [
    {
     "name": "stderr",
     "output_type": "stream",
     "text": [
      "/home/gerd/anaconda3/envs/my-rdkit-env/lib/python3.7/site-packages/IPython/lib/latextools.py:126: MatplotlibDeprecationWarning: \n",
      "The to_png function was deprecated in Matplotlib 3.4 and will be removed two minor releases later. Use mathtext.math_to_image instead.\n",
      "  mt.to_png(f, s, fontsize=12, dpi=dpi, color=color)\n",
      "/home/gerd/anaconda3/envs/my-rdkit-env/lib/python3.7/site-packages/IPython/lib/latextools.py:126: MatplotlibDeprecationWarning: \n",
      "The to_rgba function was deprecated in Matplotlib 3.4 and will be removed two minor releases later. Use mathtext.math_to_image instead.\n",
      "  mt.to_png(f, s, fontsize=12, dpi=dpi, color=color)\n",
      "/home/gerd/anaconda3/envs/my-rdkit-env/lib/python3.7/site-packages/IPython/lib/latextools.py:126: MatplotlibDeprecationWarning: \n",
      "The to_mask function was deprecated in Matplotlib 3.4 and will be removed two minor releases later. Use mathtext.math_to_image instead.\n",
      "  mt.to_png(f, s, fontsize=12, dpi=dpi, color=color)\n",
      "/home/gerd/anaconda3/envs/my-rdkit-env/lib/python3.7/site-packages/IPython/lib/latextools.py:126: MatplotlibDeprecationWarning: \n",
      "The MathtextBackendBitmap class was deprecated in Matplotlib 3.4 and will be removed two minor releases later. Use mathtext.math_to_image instead.\n",
      "  mt.to_png(f, s, fontsize=12, dpi=dpi, color=color)\n"
     ]
    },
    {
     "data": {
      "image/png": "[encoded data removed]",
      "text/latex": [
       "$\\displaystyle \\frac{2}{e^{2}}$"
      ],
      "text/plain": [
       "   -2\n",
       "2⋅ℯ  "
      ]
     },
     "metadata": {},
     "output_type": "display_data"
    }
   ],
   "source": [
    "# Fator de compressibilidade segundo o modelo de Dieterici\n",
    "Zc_diet = pcdiet*Vcdiet/(R*Tcdiet)\n",
    "\n",
    "display(Zc_diet)"
   ]
  },
  {
   "cell_type": "code",
   "execution_count": 91,
   "metadata": {},
   "outputs": [
    {
     "name": "stderr",
     "output_type": "stream",
     "text": [
      "/home/gerd/anaconda3/envs/my-rdkit-env/lib/python3.7/site-packages/IPython/lib/latextools.py:126: MatplotlibDeprecationWarning: \n",
      "The to_png function was deprecated in Matplotlib 3.4 and will be removed two minor releases later. Use mathtext.math_to_image instead.\n",
      "  mt.to_png(f, s, fontsize=12, dpi=dpi, color=color)\n",
      "/home/gerd/anaconda3/envs/my-rdkit-env/lib/python3.7/site-packages/IPython/lib/latextools.py:126: MatplotlibDeprecationWarning: \n",
      "The to_rgba function was deprecated in Matplotlib 3.4 and will be removed two minor releases later. Use mathtext.math_to_image instead.\n",
      "  mt.to_png(f, s, fontsize=12, dpi=dpi, color=color)\n",
      "/home/gerd/anaconda3/envs/my-rdkit-env/lib/python3.7/site-packages/IPython/lib/latextools.py:126: MatplotlibDeprecationWarning: \n",
      "The to_mask function was deprecated in Matplotlib 3.4 and will be removed two minor releases later. Use mathtext.math_to_image instead.\n",
      "  mt.to_png(f, s, fontsize=12, dpi=dpi, color=color)\n",
      "/home/gerd/anaconda3/envs/my-rdkit-env/lib/python3.7/site-packages/IPython/lib/latextools.py:126: MatplotlibDeprecationWarning: \n",
      "The MathtextBackendBitmap class was deprecated in Matplotlib 3.4 and will be removed two minor releases later. Use mathtext.math_to_image instead.\n",
      "  mt.to_png(f, s, fontsize=12, dpi=dpi, color=color)\n"
     ]
    },
    {
     "data": {
      "image/png": "[encoded data removed]",
      "text/latex": [
       "$\\displaystyle \\frac{a p_{r}}{4 b^{2} e^{2}} = \\frac{T_{r} a e^{- \\frac{2}{T_{r} V_{r}}}}{4 b^{2} \\left(2 V_{r} - 1\\right)}$"
      ],
      "text/plain": [
       "                    -2    \n",
       "                   ─────  \n",
       "      -2           Tᵣ⋅Vᵣ  \n",
       "a⋅pᵣ⋅ℯ       Tᵣ⋅a⋅ℯ       \n",
       "──────── = ───────────────\n",
       "     2        2           \n",
       "  4⋅b      4⋅b ⋅(2⋅Vᵣ - 1)"
      ]
     },
     "metadata": {},
     "output_type": "display_data"
    }
   ],
   "source": [
    "# Derivando a forma reduzida do modelo de gás real de Dieterici\n",
    "eq_pr_diet = together(Subs(p_diet_eq, (p,V,T),(pr*pcdiet, Vr*Vcdiet, Tr*Tcdiet)).simplify())\n",
    "\n",
    "display(eq_pr_diet)"
   ]
  },
  {
   "cell_type": "code",
   "execution_count": 92,
   "metadata": {},
   "outputs": [
    {
     "name": "stdout",
     "output_type": "stream",
     "text": [
      "⎡          2  ⎤\n",
      "⎢    2 - ─────⎥\n",
      "⎢        Tᵣ⋅Vᵣ⎥\n",
      "⎢Tᵣ⋅ℯ         ⎥\n",
      "⎢─────────────⎥\n",
      "⎣   2⋅Vᵣ - 1  ⎦\n"
     ]
    }
   ],
   "source": [
    "# Isolando a pressão reduzida no modelo de Dieterici\n",
    "pr_isol_diet = solve(eq_pr_diet, pr)\n",
    "\n",
    "pprint(pr_isol_diet)"
   ]
  }
 ],
 "metadata": {
  "kernelspec": {
   "display_name": "Python 3",
   "language": "python",
   "name": "python3"
  },
  "language_info": {
   "codemirror_mode": {
    "name": "ipython",
    "version": 3
   },
   "file_extension": ".py",
   "mimetype": "text/x-python",
   "name": "python",
   "nbconvert_exporter": "python",
   "pygments_lexer": "ipython3",
   "version": "3.7.6"
  }
 },
 "nbformat": 4,
 "nbformat_minor": 5
}

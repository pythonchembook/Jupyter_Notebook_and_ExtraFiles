{
 "cells": [
  {
   "cell_type": "markdown",
   "metadata": {},
   "source": [
    "# Capítulo 5: Repetindo partes do programa\n",
    "\n",
    "Livro: Aprendendo Química com Python, Rodrigo Q. de Albuquerque & Gerd B. da Rocha, 2021, Amazon Book.\n",
    "\n",
    "E-Mail: learn.chem.python@gmail.com"
   ]
  },
  {
   "cell_type": "markdown",
   "metadata": {},
   "source": [
    "### Versão do Python usada"
   ]
  },
  {
   "cell_type": "code",
   "execution_count": 73,
   "metadata": {},
   "outputs": [
    {
     "name": "stdout",
     "output_type": "stream",
     "text": [
      "3.7.10 | packaged by conda-forge | (default, Feb 19 2021, 16:07:37) \n",
      "[GCC 9.3.0]\n"
     ]
    }
   ],
   "source": [
    "import sys\n",
    "print(sys.version)"
   ]
  },
  {
   "cell_type": "markdown",
   "metadata": {},
   "source": [
    "### Caixa de sessão interativa 15: Bloco *for*: uso básico"
   ]
  },
  {
   "cell_type": "code",
   "execution_count": 74,
   "metadata": {},
   "outputs": [
    {
     "name": "stdout",
     "output_type": "stream",
     "text": [
      "Esta é a linha 0\n",
      "Esta é a linha 1\n",
      "Esta é a linha 2\n"
     ]
    }
   ],
   "source": [
    "for i in range(3):\n",
    "    print('Esta é a linha', i)"
   ]
  },
  {
   "cell_type": "code",
   "execution_count": 75,
   "metadata": {},
   "outputs": [
    {
     "data": {
      "text/plain": [
       "2048"
      ]
     },
     "execution_count": 75,
     "metadata": {},
     "output_type": "execute_result"
    }
   ],
   "source": [
    "a = 2\n",
    "for i in range(10):\n",
    "    a *= 2    \n",
    "a"
   ]
  },
  {
   "cell_type": "code",
   "execution_count": 76,
   "metadata": {},
   "outputs": [
    {
     "name": "stdout",
     "output_type": "stream",
     "text": [
      "Minha molécula tem H\n",
      "Minha molécula tem C\n",
      "Minha molécula tem O\n"
     ]
    }
   ],
   "source": [
    "b = ['H', 'C', 'O']            # lista com elementos químicos\n",
    "for atomo in b:          # 'atomo' é o nome da nossa variável \n",
    "    print('Minha molécula tem', atomo)"
   ]
  },
  {
   "cell_type": "code",
   "execution_count": 77,
   "metadata": {},
   "outputs": [
    {
     "name": "stdout",
     "output_type": "stream",
     "text": [
      "Minha molécula tem H\n",
      "Minha molécula tem C\n",
      "Minha molécula tem O\n"
     ]
    }
   ],
   "source": [
    "for atomo in b:\n",
    "    print(f'Minha molécula tem {atomo}')"
   ]
  },
  {
   "cell_type": "markdown",
   "metadata": {},
   "source": [
    "### Caixa de sessão interativa 16: Bloco *for*: comandos *enumerate()*, *zip()*"
   ]
  },
  {
   "cell_type": "code",
   "execution_count": 78,
   "metadata": {},
   "outputs": [
    {
     "name": "stdout",
     "output_type": "stream",
     "text": [
      "O átomo H tem índice 0\n",
      "O átomo C tem índice 1\n",
      "O átomo O tem índice 2\n"
     ]
    }
   ],
   "source": [
    "a = ['H','C','O']               # lista de elementos químicos\n",
    "for i, atomo in enumerate(a):\n",
    "    print(f'O átomo {atomo} tem índice {i}')"
   ]
  },
  {
   "cell_type": "code",
   "execution_count": 79,
   "metadata": {},
   "outputs": [
    {
     "name": "stdout",
     "output_type": "stream",
     "text": [
      "Átomo H tem número atômico 1\n",
      "Átomo C tem número atômico 6\n",
      "Átomo O tem número atômico 8\n"
     ]
    }
   ],
   "source": [
    "z = [1, 6, 8]                     # lista de números atômicos\n",
    "for atomo, num in zip(a, z):\n",
    "    print(f'Átomo {atomo} tem número atômico {num}')"
   ]
  },
  {
   "cell_type": "code",
   "execution_count": 80,
   "metadata": {},
   "outputs": [
    {
     "data": {
      "text/plain": [
       "[[0, 'H', 1], [1, 'C', 6], [2, 'O', 8]]"
      ]
     },
     "execution_count": 80,
     "metadata": {},
     "output_type": "execute_result"
    }
   ],
   "source": [
    "info = []                                       # lista vazia\n",
    "for i, (atomo, num) in enumerate(zip(a, z)):\n",
    "    info.append([i, atomo, num])\n",
    "info                                        # lista de listas"
   ]
  },
  {
   "cell_type": "markdown",
   "metadata": {},
   "source": [
    "### Caixa de sessão interativa 17: Bloco *for*: variáveis indexadas"
   ]
  },
  {
   "cell_type": "code",
   "execution_count": 81,
   "metadata": {},
   "outputs": [
    {
     "data": {
      "text/plain": [
       "array([[0., 1., 2.],\n",
       "       [1., 2., 3.],\n",
       "       [2., 3., 4.]])"
      ]
     },
     "execution_count": 81,
     "metadata": {},
     "output_type": "execute_result"
    }
   ],
   "source": [
    "import numpy as np\n",
    "a = np.empty((3,3))     # variável indexada 2D, forma 3 por 3\n",
    "for i in range(3):\n",
    "    for j in range(3):\n",
    "        a[i,j] = i + j\n",
    "a"
   ]
  },
  {
   "cell_type": "code",
   "execution_count": 82,
   "metadata": {},
   "outputs": [
    {
     "data": {
      "text/plain": [
       "(3, 3)"
      ]
     },
     "execution_count": 82,
     "metadata": {},
     "output_type": "execute_result"
    }
   ],
   "source": [
    "a.shape                           # quantas linhas e colunas?"
   ]
  },
  {
   "cell_type": "code",
   "execution_count": 83,
   "metadata": {},
   "outputs": [
    {
     "data": {
      "text/plain": [
       "array([[0., 1., 2.],\n",
       "       [1., 2., 3.],\n",
       "       [2., 3., 4.]])"
      ]
     },
     "execution_count": 83,
     "metadata": {},
     "output_type": "execute_result"
    }
   ],
   "source": [
    "for i in range(a.shape[0]):\n",
    "    for j in range(a.shape[1]):\n",
    "        a[i,j] = i + j\n",
    "a"
   ]
  },
  {
   "cell_type": "markdown",
   "metadata": {},
   "source": [
    "### Caixa de sessão interativa 18: Bloco *while*: uso básico"
   ]
  },
  {
   "cell_type": "code",
   "execution_count": 84,
   "metadata": {},
   "outputs": [
    {
     "name": "stdout",
     "output_type": "stream",
     "text": [
      "0\n",
      "1\n",
      "2\n"
     ]
    }
   ],
   "source": [
    "contador = 0                           # valor inicial de 'a'\n",
    "while contador < 3:                        # condição do laço\n",
    "    print(contador)                   # mostre o valor de 'a'\n",
    "    contador += 1             # incremente 'a' em uma unidade"
   ]
  },
  {
   "cell_type": "code",
   "execution_count": 85,
   "metadata": {},
   "outputs": [
    {
     "name": "stdout",
     "output_type": "stream",
     "text": [
      "100\n",
      "25.0\n",
      "6.25\n",
      "1.5625\n"
     ]
    }
   ],
   "source": [
    "erro = 100                 # valor inicial arbitrário do erro\n",
    "while erro > 1:                  # erro máximo admissível = 1\n",
    "    print(erro)                         # mostre o erro atual\n",
    "    erro /= 4                   # erro novo = erro antigo / 4"
   ]
  },
  {
   "cell_type": "markdown",
   "metadata": {},
   "source": [
    "### Caixa de sessão interativa 19: Construindo um dicionário de números atômicos"
   ]
  },
  {
   "cell_type": "code",
   "execution_count": 86,
   "metadata": {},
   "outputs": [
    {
     "data": {
      "text/plain": [
       "{'C': 6, 'N': 7, 'O': 8, 'F': 9}"
      ]
     },
     "execution_count": 86,
     "metadata": {},
     "output_type": "execute_result"
    }
   ],
   "source": [
    "atomos = ['C', 'N', 'O', 'F']              # lista de átomos\n",
    "z = [6, 7, 8, 9]                   # e seus números atômicos\n",
    "dic = {}                          # crie um dicionário vazio\n",
    "for elemento, numero in zip(atomos, z):\n",
    "    dic[elemento] = numero        # adicione novos elementos\n",
    "dic                                   # confira o dicionário"
   ]
  },
  {
   "cell_type": "code",
   "execution_count": 87,
   "metadata": {},
   "outputs": [
    {
     "data": {
      "text/plain": [
       "8"
      ]
     },
     "execution_count": 87,
     "metadata": {},
     "output_type": "execute_result"
    }
   ],
   "source": [
    "dic['O']             # consulte o número atômico do oxigênio"
   ]
  },
  {
   "cell_type": "code",
   "execution_count": 88,
   "metadata": {},
   "outputs": [
    {
     "data": {
      "text/plain": [
       "{'C': 6, 'N': 7, 'O': 8, 'F': 9, 'Ne': 10}"
      ]
     },
     "execution_count": 88,
     "metadata": {},
     "output_type": "execute_result"
    }
   ],
   "source": [
    "dic['Ne'] = 10   # havíamos esquecido de adicionar o neônio!\n",
    "dic                         # confira novamente o dicionário"
   ]
  },
  {
   "cell_type": "markdown",
   "metadata": {},
   "source": [
    "### Caixa de sessão interativa 20: Titulação de ácido forte com base forte"
   ]
  },
  {
   "cell_type": "code",
   "execution_count": 89,
   "metadata": {},
   "outputs": [],
   "source": [
    "import numpy as np\n",
    "c_hcl, c_naoh = 0.1, 0.2        # [HCl]0 e [NaOH]0, em mol/L\n",
    "vol_hcl, vol_naoh = 0.03, 0         # volumes iniciais, em L\n",
    "gota = 0.00005                    # volume de uma gota, em L\n",
    "n_hcl = c_hcl * vol_hcl         # n mols de HCl (erlenmeyer)\n",
    "n_naoh = c_naoh * vol_naoh     # n mols de NaOH (erlenmeyer)\n",
    "vol_tot = vol_hcl               # volume total no erlenmeyer\n",
    "pH = -np.log10((n_hcl - n_naoh) / vol_tot)      # pH inicial\n",
    "while pH < 7:                     # pare no ponto de viragem\n",
    "    vol_naoh += gota             # adicione uma gota de NaOH\n",
    "    vol_tot += gota                       # atualize vol_tot    \n",
    "    n_naoh = c_naoh * vol_naoh    # mols adicionados de NaOH\n",
    "    pH = -np.log10((n_hcl - n_naoh) / vol_tot)          # pH"
   ]
  },
  {
   "cell_type": "code",
   "execution_count": 90,
   "metadata": {},
   "outputs": [
    {
     "data": {
      "text/plain": [
       "14.999999999999938"
      ]
     },
     "execution_count": 90,
     "metadata": {},
     "output_type": "execute_result"
    }
   ],
   "source": [
    "vol_naoh * 1000                # volume de NaOH gasto, em mL"
   ]
  },
  {
   "cell_type": "code",
   "execution_count": 91,
   "metadata": {},
   "outputs": [
    {
     "data": {
      "text/plain": [
       "0.04500000000000043"
      ]
     },
     "execution_count": 91,
     "metadata": {},
     "output_type": "execute_result"
    }
   ],
   "source": [
    "vol_tot"
   ]
  },
  {
   "cell_type": "code",
   "execution_count": 92,
   "metadata": {},
   "outputs": [
    {
     "data": {
      "text/plain": [
       "0.0029999999999999875"
      ]
     },
     "execution_count": 92,
     "metadata": {},
     "output_type": "execute_result"
    }
   ],
   "source": [
    "n_naoh"
   ]
  },
  {
   "cell_type": "code",
   "execution_count": 93,
   "metadata": {},
   "outputs": [
    {
     "data": {
      "text/plain": [
       "15.553644251379245"
      ]
     },
     "execution_count": 93,
     "metadata": {},
     "output_type": "execute_result"
    }
   ],
   "source": [
    "pH"
   ]
  }
 ],
 "metadata": {
  "kernelspec": {
   "display_name": "Python 3",
   "language": "python",
   "name": "python3"
  },
  "language_info": {
   "codemirror_mode": {
    "name": "ipython",
    "version": 3
   },
   "file_extension": ".py",
   "mimetype": "text/x-python",
   "name": "python",
   "nbconvert_exporter": "python",
   "pygments_lexer": "ipython3",
   "version": "3.7.6"
  }
 },
 "nbformat": 4,
 "nbformat_minor": 5
}

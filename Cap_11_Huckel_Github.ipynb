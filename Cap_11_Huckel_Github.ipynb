{
 "cells": [
  {
   "cell_type": "markdown",
   "metadata": {},
   "source": [
    "# Capítulo 11: Método Simples de Hückel para moléculas orgânicas conjugadas\n",
    "\n",
    "Livro: Aprendendo Química com Python, Rodrigo Q. de Albuquerque & Gerd B. da Rocha, 2021, Amazon Book.\n",
    "\n",
    "E-Mail: learn.chem.python@gmail.com"
   ]
  },
  {
   "cell_type": "markdown",
   "metadata": {},
   "source": [
    "### Versão do Python usada"
   ]
  },
  {
   "cell_type": "code",
   "execution_count": 124,
   "metadata": {},
   "outputs": [
    {
     "name": "stdout",
     "output_type": "stream",
     "text": [
      "3.7.10 | packaged by conda-forge | (default, Feb 19 2021, 16:07:37) \n",
      "[GCC 9.3.0]\n"
     ]
    }
   ],
   "source": [
    "import sys\n",
    "print(sys.version)"
   ]
  },
  {
   "cell_type": "markdown",
   "metadata": {},
   "source": [
    "### Caixa de sessão interativa 40: Montagem da matriz de Hückel e sua diagonalização"
   ]
  },
  {
   "cell_type": "code",
   "execution_count": 125,
   "metadata": {},
   "outputs": [
    {
     "data": {
      "text/plain": [
       "array([[0, 1],\n",
       "       [1, 0]])"
      ]
     },
     "execution_count": 125,
     "metadata": {},
     "output_type": "execute_result"
    }
   ],
   "source": [
    "import numpy as np\n",
    "connect = np.array([[0,1],[1,0]])\n",
    "connect"
   ]
  },
  {
   "cell_type": "code",
   "execution_count": 126,
   "metadata": {},
   "outputs": [
    {
     "name": "stdout",
     "output_type": "stream",
     "text": [
      "2\n"
     ]
    }
   ],
   "source": [
    "# Definição do número de átomos da molécula \n",
    "natoms = len(connect)   \n",
    "print(natoms)"
   ]
  },
  {
   "cell_type": "code",
   "execution_count": 127,
   "metadata": {},
   "outputs": [],
   "source": [
    "# Definição dos parâmetros alfa e beta\n",
    "alpha, beta = -6.553, -2.734  "
   ]
  },
  {
   "cell_type": "code",
   "execution_count": 128,
   "metadata": {},
   "outputs": [],
   "source": [
    "# Define uma matriz alfa\n",
    "alpha_mat = alpha*np.identity(len(connect),float) "
   ]
  },
  {
   "cell_type": "code",
   "execution_count": 129,
   "metadata": {},
   "outputs": [],
   "source": [
    "# Define uma matriz beta\n",
    "beta_mat = beta*connect            "
   ]
  },
  {
   "cell_type": "code",
   "execution_count": 130,
   "metadata": {},
   "outputs": [
    {
     "data": {
      "text/plain": [
       "array([[-6.553, -0.   ],\n",
       "       [-0.   , -6.553]])"
      ]
     },
     "execution_count": 130,
     "metadata": {},
     "output_type": "execute_result"
    }
   ],
   "source": [
    "alpha_mat"
   ]
  },
  {
   "cell_type": "code",
   "execution_count": 131,
   "metadata": {},
   "outputs": [
    {
     "data": {
      "text/plain": [
       "array([[-0.   , -2.734],\n",
       "       [-2.734, -0.   ]])"
      ]
     },
     "execution_count": 131,
     "metadata": {},
     "output_type": "execute_result"
    }
   ],
   "source": [
    "beta_mat"
   ]
  },
  {
   "cell_type": "code",
   "execution_count": 132,
   "metadata": {},
   "outputs": [
    {
     "name": "stdout",
     "output_type": "stream",
     "text": [
      "[[-6.553 -2.734]\n",
      " [-2.734 -6.553]]\n"
     ]
    }
   ],
   "source": [
    "# Matriz Hamiltoniana de Hückel\n",
    "H = alpha_mat + beta_mat  \n",
    "print(H)"
   ]
  },
  {
   "cell_type": "code",
   "execution_count": 133,
   "metadata": {},
   "outputs": [
    {
     "name": "stdout",
     "output_type": "stream",
     "text": [
      "Autovalores =  [-3.819+0.j -9.287+0.j]\n",
      "Autovetores =  [[ 0.70710678  0.70710678]\n",
      " [-0.70710678  0.70710678]]\n"
     ]
    }
   ],
   "source": [
    "# Para importar um módulo específico do SciPy\n",
    "from scipy import linalg as la \n",
    "e_MO, C_MO = la.eig(H)\n",
    "print(\"Autovalores = \", e_MO)\n",
    "print(\"Autovetores = \", C_MO)"
   ]
  },
  {
   "cell_type": "code",
   "execution_count": 134,
   "metadata": {},
   "outputs": [
    {
     "name": "stdout",
     "output_type": "stream",
     "text": [
      "Autovalores ordenados =  [-9.287 -3.819]\n",
      "Autovetores ordenados =  [[ 0.70710678  0.70710678]\n",
      " [ 0.70710678 -0.70710678]]\n"
     ]
    }
   ],
   "source": [
    "idx = np.argsort(e_MO)\n",
    "e_MO = np.real(e_MO[idx])\n",
    "C_MO = np.real(C_MO[:,idx])\n",
    "print(\"Autovalores ordenados = \", e_MO) \n",
    "print(\"Autovetores ordenados = \", C_MO)"
   ]
  },
  {
   "cell_type": "markdown",
   "metadata": {},
   "source": [
    "### Caixa de sessão interativa 41: Cálculo da energia eletrônica da molécula de eteno"
   ]
  },
  {
   "cell_type": "code",
   "execution_count": 135,
   "metadata": {},
   "outputs": [
    {
     "name": "stdout",
     "output_type": "stream",
     "text": [
      "1\n"
     ]
    }
   ],
   "source": [
    "nel_pi = 2   # Número de elétrons pi\n",
    "norbs = 2    # Número de orbitais pi\n",
    "norb_occ = int(nel_pi / 2)  # Número de orbitais pi ocupados\n",
    "print(norb_occ)"
   ]
  },
  {
   "cell_type": "code",
   "execution_count": 136,
   "metadata": {},
   "outputs": [
    {
     "name": "stdout",
     "output_type": "stream",
     "text": [
      "1\n"
     ]
    }
   ],
   "source": [
    "# Número de orbitais pi virtuais\n",
    "norb_virt = norbs - norb_occ \n",
    "print(norb_virt)"
   ]
  },
  {
   "cell_type": "code",
   "execution_count": 137,
   "metadata": {},
   "outputs": [],
   "source": [
    "# Número de ocupação dos orbitais moleculares\n",
    "size_H = 2\n",
    "num_occup_MOs = np.zeros(size_H) \n",
    "for i in range(norb_occ):\n",
    "    num_occup_MOs[i] = 2"
   ]
  },
  {
   "cell_type": "code",
   "execution_count": 138,
   "metadata": {},
   "outputs": [
    {
     "name": "stdout",
     "output_type": "stream",
     "text": [
      "Número de ocupação dos Orbitais Moleculares =  [2. 0.]\n"
     ]
    }
   ],
   "source": [
    "print(\"Número de ocupação dos Orbitais Moleculares = \", num_occup_MOs)    "
   ]
  },
  {
   "cell_type": "code",
   "execution_count": 139,
   "metadata": {},
   "outputs": [
    {
     "name": "stdout",
     "output_type": "stream",
     "text": [
      "Energia (eV) =  -18.573999999999998\n"
     ]
    }
   ],
   "source": [
    "ener_pi = 0.0\n",
    "for j in range(norb_occ):\n",
    "    ener_pi += num_occup_MOs[j]*e_MO[j]\n",
    "print(\"Energia (eV) = \", ener_pi)"
   ]
  },
  {
   "cell_type": "markdown",
   "metadata": {},
   "source": [
    "### "
   ]
  },
  {
   "cell_type": "code",
   "execution_count": 140,
   "metadata": {},
   "outputs": [
    {
     "name": "stdout",
     "output_type": "stream",
     "text": [
      "Cargas atômicas líquidas pi =  [2.22044605e-16 2.22044605e-16]\n"
     ]
    }
   ],
   "source": [
    "# Cálculo das cargas atômicas pi\n",
    "q_pi = np.zeros(size_H, dtype=float) # Carga atômica pi\n",
    "\n",
    "for i in range(norbs):\n",
    "    soma = 0.0\n",
    "    for j in range(norbs):\n",
    "        num = C_MO[i][j]\n",
    "        soma += (num*num)*num_occup_MOs[j]\n",
    "    \n",
    "    q_pi[i] = 1 - soma\n",
    "\n",
    "print(\"Cargas atômicas líquidas pi = \", q_pi)"
   ]
  },
  {
   "cell_type": "markdown",
   "metadata": {},
   "source": [
    "### "
   ]
  },
  {
   "cell_type": "code",
   "execution_count": 141,
   "metadata": {},
   "outputs": [
    {
     "name": "stdout",
     "output_type": "stream",
     "text": [
      "Matriz ordem de ligação Pi =  [[1. 1.]\n",
      " [1. 1.]]\n"
     ]
    }
   ],
   "source": [
    "# Cálculo da matriz de ordem de ligação Pi\n",
    "# Matriz ordem de ligação Pi\n",
    "bond_pi = np.zeros((size_H, size_H), dtype=float) \n",
    "\n",
    "for i in range(norbs):    \n",
    "    for j in range(norbs):\n",
    "        soma = 0.0\n",
    "        for k in range(norbs):            \n",
    "            soma += C_MO[i][k]*C_MO[j][k]*num_occup_MOs[k]\n",
    "        \n",
    "        bond_pi[i][j] = soma\n",
    "\n",
    "print(\"Matriz ordem de ligação Pi = \", bond_pi)"
   ]
  },
  {
   "cell_type": "markdown",
   "metadata": {},
   "source": [
    "### "
   ]
  },
  {
   "cell_type": "code",
   "execution_count": 142,
   "metadata": {},
   "outputs": [
    {
     "name": "stdout",
     "output_type": "stream",
     "text": [
      "gap HOMO-LUMO (eV) =  5.467999999999999\n",
      "Comprimento de onda da transição HOMO --> LUMO (nm) =  226.90189225811878\n",
      "Energia de Ionização (eV) 9.286999999999999\n"
     ]
    }
   ],
   "source": [
    "# Cálculos espectroscópicos\n",
    "e_HOMO = e_MO[norb_occ-1]\n",
    "e_LUMO = e_MO[norb_occ]\n",
    "gap_HOMO_LUMO = e_LUMO - e_HOMO\n",
    "e_ioniz = -e_HOMO\n",
    "c = 3.0e8  # Velocidade da luz, em m/s\n",
    "h = 6.62608e-34  # Constante de Planck, em J*s\n",
    "eV = 1.60218e-19  # Conversão de eV para J\n",
    "comp_onda = (h*c)/(gap_HOMO_LUMO*eV)\n",
    "print(\"gap HOMO-LUMO (eV) = \", gap_HOMO_LUMO)\n",
    "print(\"Comprimento de onda da transição HOMO --> LUMO (nm) = \", comp_onda*1.0e9)\n",
    "print(\"Energia de Ionização (eV)\", e_ioniz)"
   ]
  },
  {
   "cell_type": "markdown",
   "metadata": {},
   "source": [
    "### "
   ]
  },
  {
   "cell_type": "code",
   "execution_count": 143,
   "metadata": {},
   "outputs": [
    {
     "name": "stdout",
     "output_type": "stream",
     "text": [
      "Sucetibilidades eletrofílicas =  [-0.1076774 -0.1076774]\n",
      "Sucetibilidades nucleofílicas =  [-0.36952605 -0.36952605]\n",
      "Sucetibilidades radicalares =  [-0.47720345 -0.47720345]\n"
     ]
    }
   ],
   "source": [
    "# Calculando índices de reatividade\n",
    "# Suscetibilidade eletrofílica\n",
    "S_eletro = np.zeros(norbs, dtype=float)\n",
    "# Suscetibilidade nucleofílica\n",
    "S_nucleo = np.zeros(norbs, dtype=float)\n",
    "# Suscetibilidade radicalar\n",
    "S_radic = np.zeros(norbs, dtype=float) \n",
    "\n",
    "for i in range(norbs):\n",
    "    soma = 0.0\n",
    "    for j in range(norb_occ):\n",
    "        num = C_MO[i][j]\n",
    "        soma += num*num*2.0/e_MO[j]\n",
    "    \n",
    "    S_eletro[i] = soma\n",
    "\n",
    "for i in range(norbs):\n",
    "    soma = 0.0\n",
    "    for j in range(norb_occ+1):\n",
    "        num = C_MO[i][j]\n",
    "        soma += num*num*2.0/e_MO[j]\n",
    "    \n",
    "    S_nucleo[i] = soma\n",
    "\n",
    "S_radic = S_eletro + S_nucleo\n",
    "\n",
    "print(\"Sucetibilidades eletrofílicas = \", S_eletro) \n",
    "print(\"Sucetibilidades nucleofílicas = \", S_nucleo) \n",
    "print(\"Sucetibilidades radicalares = \", S_radic) "
   ]
  }
 ],
 "metadata": {
  "kernelspec": {
   "display_name": "Python 3",
   "language": "python",
   "name": "python3"
  },
  "language_info": {
   "codemirror_mode": {
    "name": "ipython",
    "version": 3
   },
   "file_extension": ".py",
   "mimetype": "text/x-python",
   "name": "python",
   "nbconvert_exporter": "python",
   "pygments_lexer": "ipython3",
   "version": "3.7.6"
  }
 },
 "nbformat": 4,
 "nbformat_minor": 5
}

{
 "cells": [
  {
   "cell_type": "markdown",
   "metadata": {},
   "source": [
    "# Capítulo 13: Cálculos químico-quânticos com a biblioteca ASE\n",
    "\n",
    "Livro: Aprendendo Química com Python, Rodrigo Q. de Albuquerque & Gerd B. da Rocha, 2021, Amazon Book.\n",
    "\n",
    "E-Mail: learn.chem.python@gmail.com\n"
   ]
  },
  {
   "cell_type": "markdown",
   "metadata": {},
   "source": [
    "## Versão do Python usada"
   ]
  },
  {
   "cell_type": "code",
   "execution_count": 1,
   "metadata": {},
   "outputs": [
    {
     "name": "stdout",
     "output_type": "stream",
     "text": [
      "3.7.10 | packaged by conda-forge | (default, Feb 19 2021, 16:07:37) \n",
      "[GCC 9.3.0]\n"
     ]
    }
   ],
   "source": [
    "import sys\n",
    "print(sys.version)"
   ]
  },
  {
   "cell_type": "markdown",
   "metadata": {},
   "source": [
    "### Caixa de sessão interativa 45: ASE: Calculando propriedades"
   ]
  },
  {
   "cell_type": "code",
   "execution_count": 2,
   "metadata": {},
   "outputs": [],
   "source": [
    "from ase.calculators.mopac import MOPAC\n",
    "from ase.io import read\n",
    "from ase.units import Debye"
   ]
  },
  {
   "cell_type": "code",
   "execution_count": 5,
   "metadata": {},
   "outputs": [
    {
     "name": "stdout",
     "output_type": "stream",
     "text": [
      "/home/gerd/progs/mopac/MOPAC2016.exe PREFIX.mop\n"
     ]
    }
   ],
   "source": [
    "mol = read('h2.xyz')            # distancia de ligação = 0.7A\n",
    "path_mopac = '/home/gerd/progs/mopac/'  # Aqui coloque o caminho para o executável do MOPAC\n",
    "comando_MOPAC = path_mopac + 'MOPAC2016.exe PREFIX.mop'\n",
    "\n",
    "# Esse é o comando para executar o MOPAC já indicando onde o executável se encontra\n",
    "print(comando_MOPAC)            "
   ]
  },
  {
   "cell_type": "code",
   "execution_count": 6,
   "metadata": {},
   "outputs": [
    {
     "name": "stdout",
     "output_type": "stream",
     "text": [
      "A energia potencial da molécula é -28.52254 eV\n",
      "Energias de HOMO e LUMO = -15.04099 e 5.10285 eV\n",
      "Momento de dipolo = [0. 0. 0.] Debye\n"
     ]
    }
   ],
   "source": [
    "mol.calc = MOPAC(command = comando_MOPAC, method='RM1')\n",
    "# Para menos verbosidade (Linux/Mac): substitua 'PREFIX.mop' por 'PREFIX.mop 2>/dev/null'\n",
    "# Windows: command = 'C:\\Program Files\\MOPAC\\MOPAC2016.exe PREFIX.mop'\n",
    "pe = mol.get_potential_energy()                       # em eV\n",
    "homo, lumo = mol.calc.get_homo_lumo_levels()          # em eV\n",
    "d = mol.get_dipole_moment() / Debye       # Momento de dipolo\n",
    "print(f'A energia potencial da molécula é {pe} eV')\n",
    "print(f'Energias de HOMO e LUMO = {homo} e {lumo} eV')\n",
    "print(f'Momento de dipolo = {d} Debye')"
   ]
  },
  {
   "cell_type": "code",
   "execution_count": 7,
   "metadata": {},
   "outputs": [
    {
     "data": {
      "text/plain": [
       "0.0"
      ]
     },
     "execution_count": 7,
     "metadata": {},
     "output_type": "execute_result"
    }
   ],
   "source": [
    "import numpy as np\n",
    "np.linalg.norm(d)"
   ]
  },
  {
   "cell_type": "markdown",
   "metadata": {},
   "source": [
    "### Caixa de sessão interativa 46: ASE: Otimizando geometrias"
   ]
  },
  {
   "cell_type": "code",
   "execution_count": 8,
   "metadata": {},
   "outputs": [
    {
     "name": "stdout",
     "output_type": "stream",
     "text": [
      "Writing hf.xyz\n"
     ]
    }
   ],
   "source": [
    "%%file hf.xyz\n",
    "2\n",
    "\n",
    "H       -0.35000000       0.00000000       0.00000000\n",
    "F        0.35000000       0.00000000       0.00000000"
   ]
  },
  {
   "cell_type": "code",
   "execution_count": 10,
   "metadata": {},
   "outputs": [],
   "source": [
    "from ase.optimize import BFGS\n",
    "from ase.calculators.mopac import MOPAC\n",
    "from ase.io import read, write"
   ]
  },
  {
   "cell_type": "code",
   "execution_count": 11,
   "metadata": {},
   "outputs": [],
   "source": [
    "path_mopac = '/home/gerd/progs/mopac/'  # Aqui coloque o caminho para o executável do MOPAC"
   ]
  },
  {
   "cell_type": "code",
   "execution_count": 12,
   "metadata": {},
   "outputs": [
    {
     "name": "stdout",
     "output_type": "stream",
     "text": [
      "      Step     Time          Energy         fmax\n",
      "BFGS:    0 10:49:26     -501.504140       13.0807\n",
      "BFGS:    1 10:49:26     -502.251750        4.0006\n",
      "BFGS:    2 10:49:26     -502.508730        1.8511\n",
      "BFGS:    3 10:49:26     -502.573860        0.1745\n",
      "BFGS:    4 10:49:26     -502.574380        0.0149\n"
     ]
    },
    {
     "data": {
      "text/plain": [
       "True"
      ]
     },
     "execution_count": 12,
     "metadata": {},
     "output_type": "execute_result"
    }
   ],
   "source": [
    "mol = read('hf.xyz')                         # molécula de HF\n",
    "cmd = path_mopac + 'MOPAC2016.exe PREFIX.mop 2>/dev/null'\n",
    "mol.calc = MOPAC(command = cmd, method='RM1')\n",
    "optimizer = BFGS(mol)\n",
    "optimizer.run()                         # otimize a estrutura"
   ]
  },
  {
   "cell_type": "code",
   "execution_count": 13,
   "metadata": {},
   "outputs": [
    {
     "data": {
      "text/plain": [
       "array([[-0.45865878,  0.        ,  0.        ],\n",
       "       [ 0.45865878,  0.        ,  0.        ]])"
      ]
     },
     "execution_count": 13,
     "metadata": {},
     "output_type": "execute_result"
    }
   ],
   "source": [
    "mol.get_positions()                  # coordenadas otimizadas"
   ]
  },
  {
   "cell_type": "code",
   "execution_count": 14,
   "metadata": {},
   "outputs": [
    {
     "data": {
      "text/plain": [
       "array([[ 0.01491894, -0.        , -0.        ],\n",
       "       [-0.01491894, -0.        , -0.        ]])"
      ]
     },
     "execution_count": 14,
     "metadata": {},
     "output_type": "execute_result"
    }
   ],
   "source": [
    "mol.get_forces()"
   ]
  },
  {
   "cell_type": "code",
   "execution_count": 15,
   "metadata": {},
   "outputs": [
    {
     "data": {
      "text/plain": [
       "-2.939487819826392"
      ]
     },
     "execution_count": 15,
     "metadata": {},
     "output_type": "execute_result"
    }
   ],
   "source": [
    "write('hf_opt.xyz', mol)         # salve a molécula otimizada\n",
    "calculator = mol.get_calculator()\n",
    "hof = calculator.final_hof         # Calor de formação, em eV\n",
    "hof                                # Calor de formação, em eV"
   ]
  },
  {
   "cell_type": "code",
   "execution_count": 17,
   "metadata": {},
   "outputs": [],
   "source": [
    "from ase.units import kcal, kJ\n",
    "from ase.units import mol as mol_c"
   ]
  },
  {
   "cell_type": "code",
   "execution_count": 18,
   "metadata": {},
   "outputs": [
    {
     "data": {
      "text/plain": [
       "-67.7862"
      ]
     },
     "execution_count": 18,
     "metadata": {},
     "output_type": "execute_result"
    }
   ],
   "source": [
    "hof * mol_c / kcal\n",
    "# 'hof', em kcal/mol"
   ]
  },
  {
   "cell_type": "code",
   "execution_count": 19,
   "metadata": {},
   "outputs": [
    {
     "data": {
      "text/plain": [
       "-283.61746079999995"
      ]
     },
     "execution_count": 19,
     "metadata": {},
     "output_type": "execute_result"
    }
   ],
   "source": [
    "hof * mol_c / kJ\n",
    "# 'hof', em kJ/mol"
   ]
  },
  {
   "cell_type": "markdown",
   "metadata": {},
   "source": [
    "### Caixa de código 35: ASE: Otimizando e visualizando várias moléculas"
   ]
  },
  {
   "cell_type": "code",
   "execution_count": null,
   "metadata": {},
   "outputs": [],
   "source": [
    "path_mopac = '/home/gerd/progs/mopac/'  # Aqui coloque o caminho para o executável do MOPAC"
   ]
  },
  {
   "cell_type": "code",
   "execution_count": 29,
   "metadata": {},
   "outputs": [
    {
     "name": "stdout",
     "output_type": "stream",
     "text": [
      "Writing Mol1.xyz\n"
     ]
    }
   ],
   "source": [
    "%%file Mol1.xyz\n",
    "8\n",
    "\n",
    "N         -3.99852        0.55342       -2.09365\n",
    "C         -2.01988        0.62281       -1.23425\n",
    "O         -1.06219        1.71839       -1.36477\n",
    "H         -4.44726       -0.32768       -1.84326\n",
    "H         -3.93089        0.62404       -3.10896\n",
    "H         -1.51574       -0.23738       -1.62259\n",
    "H         -2.27507        0.72758       -0.20042\n",
    "H         -0.73187        1.75224       -2.27617  "
   ]
  },
  {
   "cell_type": "code",
   "execution_count": 30,
   "metadata": {},
   "outputs": [
    {
     "name": "stdout",
     "output_type": "stream",
     "text": [
      "Writing Mol2.xyz\n"
     ]
    }
   ],
   "source": [
    "%%file Mol2.xyz\n",
    "4\n",
    "\n",
    "B       -0.00000000       0.00000000       0.00000000\n",
    "F        1.10800000       0.00000000       0.00000000\n",
    "F       -0.55400000      -0.91751000       0.28093000\n",
    "F       -0.55400000       0.91751000      -0.28093000    "
   ]
  },
  {
   "cell_type": "code",
   "execution_count": 31,
   "metadata": {},
   "outputs": [
    {
     "name": "stdout",
     "output_type": "stream",
     "text": [
      "Writing Mol3.xyz\n"
     ]
    }
   ],
   "source": [
    "%%file Mol3.xyz\n",
    "15\n",
    "\n",
    "C         -4.34326        1.19612        0.00000\n",
    "C         -4.23694        2.69527        0.00000\n",
    "C         -2.32314        2.45073        0.00000\n",
    "C         -2.29124        0.93032        0.00000\n",
    "C         -3.42889       -0.15417        0.00000\n",
    "H         -4.93991        1.03599       -0.87365\n",
    "H         -4.43960        1.17027        1.06534\n",
    "H         -4.62848        3.17311        0.87365\n",
    "H         -4.73305        3.30073       -0.72951\n",
    "H         -1.86376        2.86377        0.87365\n",
    "H         -1.79347        2.92698       -0.79846\n",
    "H         -1.72085        0.69307        0.87365\n",
    "H         -2.02413        0.81922       -1.03015\n",
    "H         -3.49489       -0.76840       -0.87365\n",
    "H         -3.51556       -0.96078        0.69769  "
   ]
  },
  {
   "cell_type": "code",
   "execution_count": 32,
   "metadata": {},
   "outputs": [
    {
     "name": "stdout",
     "output_type": "stream",
     "text": [
      "Writing Mol4.xyz\n"
     ]
    }
   ],
   "source": [
    "%%file Mol4.xyz\n",
    "5\n",
    "\n",
    "C         -2.73780        1.11107        0.00000\n",
    "Cl        -1.66780        1.11107        0.00000\n",
    "H         -3.09446        1.87854       -0.65474\n",
    "H         -3.09446        1.29435        0.99202\n",
    "Cl        -3.09447        0.16031       -0.33727  "
   ]
  },
  {
   "cell_type": "code",
   "execution_count": 33,
   "metadata": {},
   "outputs": [
    {
     "name": "stdout",
     "output_type": "stream",
     "text": [
      "Writing Mol5.xyz\n"
     ]
    }
   ],
   "source": [
    "%%file Mol5.xyz\n",
    "5\n",
    "\n",
    "C       -0.00000000       0.00000000       0.00000000\n",
    "H        1.07000000       0.00000000       0.00000000\n",
    "H       -0.35666000      -0.45677000      -0.89947000\n",
    "H       -0.35667000       1.00735000       0.05416000\n",
    "H       -0.35667000      -0.55058000       0.84531000    "
   ]
  },
  {
   "cell_type": "code",
   "execution_count": 34,
   "metadata": {},
   "outputs": [
    {
     "name": "stdout",
     "output_type": "stream",
     "text": [
      "Writing Mol6.xyz\n"
     ]
    }
   ],
   "source": [
    "%%file Mol6.xyz\n",
    "9\n",
    "\n",
    "C         -5.46668        2.18202       -0.66973\n",
    "C         -3.62099        2.21961       -0.35211\n",
    "O         -2.74447        3.33770       -0.07126\n",
    "H         -5.77849        1.17304       -0.84187\n",
    "H         -5.69275        2.77688       -1.52992\n",
    "H         -5.98309        2.57468        0.18118\n",
    "H         -3.19727        1.76959       -1.22553\n",
    "H         -3.64083        1.80659        0.63477\n",
    "H         -2.60445        3.85053       -0.88261  "
   ]
  },
  {
   "cell_type": "code",
   "execution_count": 35,
   "metadata": {},
   "outputs": [
    {
     "name": "stdout",
     "output_type": "stream",
     "text": [
      "Writing Mol7.xyz\n"
     ]
    }
   ],
   "source": [
    "%%file Mol7.xyz\n",
    "3\n",
    "\n",
    "O        0.03991322       0.05636463       0.00303043\n",
    "H       -0.31674678      -0.40040537      -0.89643957\n",
    "H       -0.31675678      -0.49421537       0.84834043    "
   ]
  },
  {
   "cell_type": "code",
   "execution_count": 36,
   "metadata": {},
   "outputs": [
    {
     "name": "stdout",
     "output_type": "stream",
     "text": [
      "Writing Mol8.xyz\n"
     ]
    }
   ],
   "source": [
    "%%file Mol8.xyz\n",
    "4\n",
    "\n",
    "N       -0.02012330      -0.00086057       0.05691048\n",
    "H        0.99987670      -0.00086057       0.05691048\n",
    "H       -0.36012330      -0.82632057      -0.43645952\n",
    "H       -0.36012330       0.83913943      -0.41126952    "
   ]
  },
  {
   "cell_type": "code",
   "execution_count": 37,
   "metadata": {},
   "outputs": [
    {
     "name": "stdout",
     "output_type": "stream",
     "text": [
      "Writing Mol9.xyz\n"
     ]
    }
   ],
   "source": [
    "%%file Mol9.xyz\n",
    "3\n",
    "\n",
    "S         -3.99240        2.55705        0.00000\n",
    "O         -5.37459        2.17429        0.00000\n",
    "O         -2.99297        1.84469        0.00000  "
   ]
  },
  {
   "cell_type": "code",
   "execution_count": 1,
   "metadata": {},
   "outputs": [],
   "source": [
    "from ase.optimize import BFGS\n",
    "from ase.calculators.mopac import MOPAC\n",
    "from ase.io import read, write\n",
    "from matplotlib import pyplot as plt\n",
    "from ase.io.pov import get_bondpairs\n",
    "import matplotlib.image as mpimg\n",
    "import glob\n",
    "\n",
    "#cmd = '/opt/mopac/MOPAC2016.exe PREFIX.mop 2>/dev/null'\n",
    "cmd = path_mopac + 'MOPAC2016.exe PREFIX.mop 2>/dev/null'\n",
    "names = glob.glob('*.xyz')            # lista com 'moleculas.xyz'\n",
    "fig = plt.figure(figsize = (8,5)) \n",
    "for i, name in enumerate(names):\n",
    "    mol = read(name)                         # importe a molécula\n",
    "    natoms = len(mol)              # número de átomos da molécula\n",
    "    mol.calc = MOPAC(command = cmd, method='PM6')    # calculador\n",
    "    optimizer = BFGS(mol)                   # defina o otimizador\n",
    "    optimizer.run()                         # otimize a geometria\n",
    "    homo, lumo = mol.calc.get_homo_lumo_levels()    # HOMO e LUMO\n",
    "    nom = mol.get_chemical_formula()                    # fórmula\n",
    "    mol.set_positions(mol.get_positions() - mol.get_center_of_mass())\n",
    "    bondpairs = get_bondpairs(mol)   # ligações químicas de 'mol'\n",
    "    r = [0.1] * natoms       # raios dos átomos para renderização\n",
    "    mydict = dict(canvas_height = 200, bondatoms = bondpairs)\n",
    "    image = write('mol.pov',mol, radii=r, povray_settings=mydict)\n",
    "    image.render()       # renderize a molécula, salve em mol.png\n",
    "    fig.add_subplot(3,3,i+1)\n",
    "    img = mpimg.imread('mol.png')             # importe 'mol.png'\n",
    "    plt.imshow(img)                             # plote 'mol.png' \n",
    "    plt.title(f'{nom}\\nLUMO: {lumo:.2f} eV\\nHOMO: {homo:.2f} eV')\n",
    "    plt.axis('off')                             # remova os eixos\n",
    "    plt.tight_layout()\n",
    "plt.savefig('ase2c.png', dpi = 400)        # Salve a figura final"
   ]
  }
 ],
 "metadata": {
  "kernelspec": {
   "display_name": "Python 3",
   "language": "python",
   "name": "python3"
  },
  "language_info": {
   "codemirror_mode": {
    "name": "ipython",
    "version": 3
   },
   "file_extension": ".py",
   "mimetype": "text/x-python",
   "name": "python",
   "nbconvert_exporter": "python",
   "pygments_lexer": "ipython3",
   "version": "3.7.6"
  }
 },
 "nbformat": 4,
 "nbformat_minor": 5
}

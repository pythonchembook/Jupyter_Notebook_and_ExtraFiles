{
 "cells": [
  {
   "cell_type": "markdown",
   "metadata": {},
   "source": [
    "# Capítulo 12: Manipulando átomos e moléculas com a biblioteca ASE\n",
    "\n",
    "Livro: Aprendendo Química com Python, Rodrigo Q. de Albuquerque & Gerd B. da Rocha, 2021, Amazon Book.\n",
    "\n",
    "E-Mail: learn.chem.python@gmail.com"
   ]
  },
  {
   "cell_type": "markdown",
   "metadata": {},
   "source": [
    "## Versão do Python usada"
   ]
  },
  {
   "cell_type": "code",
   "execution_count": 1,
   "metadata": {},
   "outputs": [
    {
     "name": "stdout",
     "output_type": "stream",
     "text": [
      "3.7.10 | packaged by conda-forge | (default, Feb 19 2021, 16:07:37) \n",
      "[GCC 9.3.0]\n"
     ]
    }
   ],
   "source": [
    "import sys\n",
    "print(sys.version)"
   ]
  },
  {
   "cell_type": "markdown",
   "metadata": {},
   "source": [
    "### Caixa de sessão interativa 42: ASE: manipulando moléculas"
   ]
  },
  {
   "cell_type": "code",
   "execution_count": 2,
   "metadata": {},
   "outputs": [],
   "source": [
    "from ase import Atoms                # criar objetos atômicos\n",
    "from ase.io import write, read           # ler/salvar objetos\n",
    "from ase.visualize import view           # visualizar objetos"
   ]
  },
  {
   "cell_type": "code",
   "execution_count": 3,
   "metadata": {},
   "outputs": [],
   "source": [
    "# Gere uma molécula (ex: H2)\n",
    "coords = [[0, 0, 0], [0.7, 0, 0]]\n",
    "labels = ['H', 'H']\n",
    "mol = Atoms(positions = coords, symbols = labels)"
   ]
  },
  {
   "cell_type": "code",
   "execution_count": 4,
   "metadata": {},
   "outputs": [
    {
     "data": {
      "text/plain": [
       "['H', 'H']"
      ]
     },
     "execution_count": 4,
     "metadata": {},
     "output_type": "execute_result"
    }
   ],
   "source": [
    "# cheque algumas propriedades úteis do objeto 'mol'\n",
    "mol.get_chemical_symbols()                # símbolos atômicos"
   ]
  },
  {
   "cell_type": "code",
   "execution_count": 5,
   "metadata": {},
   "outputs": [
    {
     "data": {
      "text/plain": [
       "array([1, 1])"
      ]
     },
     "execution_count": 5,
     "metadata": {},
     "output_type": "execute_result"
    }
   ],
   "source": [
    "mol.get_atomic_numbers()                   # números atômicos"
   ]
  },
  {
   "cell_type": "code",
   "execution_count": 6,
   "metadata": {},
   "outputs": [
    {
     "data": {
      "text/plain": [
       "array([1.008, 1.008])"
      ]
     },
     "execution_count": 6,
     "metadata": {},
     "output_type": "execute_result"
    }
   ],
   "source": [
    "mol.get_masses()                             # massas molares"
   ]
  },
  {
   "cell_type": "code",
   "execution_count": 7,
   "metadata": {},
   "outputs": [
    {
     "data": {
      "text/plain": [
       "'H2'"
      ]
     },
     "execution_count": 7,
     "metadata": {},
     "output_type": "execute_result"
    }
   ],
   "source": [
    "mol.get_chemical_formula()                  # fórmula química"
   ]
  },
  {
   "cell_type": "code",
   "execution_count": 8,
   "metadata": {},
   "outputs": [
    {
     "data": {
      "text/plain": [
       "array([[0. , 0.7],\n",
       "       [0.7, 0. ]])"
      ]
     },
     "execution_count": 8,
     "metadata": {},
     "output_type": "execute_result"
    }
   ],
   "source": [
    "mol.get_all_distances() # distâncias (Angstroms) entre átomos"
   ]
  },
  {
   "cell_type": "code",
   "execution_count": 9,
   "metadata": {},
   "outputs": [
    {
     "data": {
      "text/plain": [
       "array([[-0.35,  0.  ,  0.  ],\n",
       "       [ 0.35,  0.  ,  0.  ]])"
      ]
     },
     "execution_count": 9,
     "metadata": {},
     "output_type": "execute_result"
    }
   ],
   "source": [
    "# acesse e modifique as coordenadas xyz do objeto 'mol'\n",
    "coords = mol.get_positions()     # coords = variável indexada\n",
    "cm = mol.get_center_of_mass()               # centro de massa\n",
    "newcoords = coords - cm                   # novas coordenadas\n",
    "mol.set_positions(newcoords)   # mude as coordenadas de 'mol'\n",
    "mol.get_positions()             # cheque as novas coordenadas"
   ]
  },
  {
   "cell_type": "code",
   "execution_count": 48,
   "metadata": {},
   "outputs": [],
   "source": [
    "# salve como xyz e png e visualize 'mol'\n",
    "write('h2.xyz', mol)          # salve o objeto 'mol' como xyz\n",
    "write('h2.png', mol)          # salve o objeto 'mol' como png\n",
    "view(mol)  # No Jupyter notebook, use view(mol, viewer='x3d')"
   ]
  },
  {
   "cell_type": "code",
   "execution_count": 11,
   "metadata": {},
   "outputs": [
    {
     "data": {
      "text/html": [
       "<html>\n",
       "\n",
       " <head>\n",
       "\n",
       "  <title>ASE atomic visualization</title>\n",
       "\n",
       "  <link rel=\"stylesheet\" type=\"text/css\"\n",
       "\n",
       "   href=\"https://www.x3dom.org/x3dom/release/x3dom.css\">\n",
       "\n",
       "  </link>\n",
       "\n",
       "  <script type=\"text/javascript\"\n",
       "\n",
       "   src=\"https://www.x3dom.org/x3dom/release/x3dom.js\">\n",
       "\n",
       "  </script>\n",
       "\n",
       " </head>\n",
       "\n",
       " <body>\n",
       "\n",
       "  <X3D>\n",
       "\n",
       "   <Scene>\n",
       "\n",
       "    <Transform translation=\"-0.35 0.00 0.00\">\n",
       "\n",
       "     <Shape>\n",
       "\n",
       "      <Appearance>\n",
       "\n",
       "       <Material diffuseColor=\"1.000 1.000 1.000\" specularColor=\"0.5 0.5 0.5\">\n",
       "\n",
       "       </Material>\n",
       "\n",
       "      </Appearance>\n",
       "\n",
       "      <Sphere radius=\"0.31\">\n",
       "\n",
       "      </Sphere>\n",
       "\n",
       "     </Shape>\n",
       "\n",
       "    </Transform>\n",
       "\n",
       "    <Transform translation=\"0.35 0.00 0.00\">\n",
       "\n",
       "     <Shape>\n",
       "\n",
       "      <Appearance>\n",
       "\n",
       "       <Material diffuseColor=\"1.000 1.000 1.000\" specularColor=\"0.5 0.5 0.5\">\n",
       "\n",
       "       </Material>\n",
       "\n",
       "      </Appearance>\n",
       "\n",
       "      <Sphere radius=\"0.31\">\n",
       "\n",
       "      </Sphere>\n",
       "\n",
       "     </Shape>\n",
       "\n",
       "    </Transform>\n",
       "\n",
       "   </Scene>\n",
       "\n",
       "  </X3D>\n",
       "\n",
       " </body>\n",
       "\n",
       "</html>\n",
       "\n"
      ],
      "text/plain": [
       "<IPython.core.display.HTML object>"
      ]
     },
     "execution_count": 11,
     "metadata": {},
     "output_type": "execute_result"
    }
   ],
   "source": [
    "view(mol, viewer = 'x3d')  # Usar quando estiver executando esse código no ambiente do Jupyter notebook"
   ]
  },
  {
   "cell_type": "markdown",
   "metadata": {},
   "source": [
    "### Caixa de código 33: ASE: gerando ﬁguras de alta qualidade com PovRay"
   ]
  },
  {
   "cell_type": "code",
   "execution_count": 1,
   "metadata": {},
   "outputs": [],
   "source": [
    "from ase.io import read, write\n",
    "from ase.io.pov import get_bondpairs\n",
    "mol = read('h2.xyz')     # importe a molécula salva anteriormente\n",
    "bondpairs = get_bondpairs(mol)\n",
    "r = [0.2, 0.2]     # raios de cada esfera/átomo para renderização\n",
    "# Para raios personalizados pra diversos átomos, use por exemplo:\n",
    "# raios = {'C': 0.4, 'H': 0.2, 'N': 0.7, 'O': 0.5}\n",
    "# r = [raios[atom.symbol] for atom in mol] \n",
    "mydict = dict(canvas_width = 200, bondatoms = bondpairs) # povray\n",
    "image = write('h2.pov', mol, radii = r, povray_settings = mydict)\n",
    "image.render()"
   ]
  },
  {
   "cell_type": "markdown",
   "metadata": {},
   "source": [
    "### Caixa de sessão interativa 43: ASE: Manipulando várias moléculas (parte I)"
   ]
  },
  {
   "cell_type": "code",
   "execution_count": 29,
   "metadata": {},
   "outputs": [],
   "source": [
    "import os\n",
    "from ase.io import write, read"
   ]
  },
  {
   "cell_type": "code",
   "execution_count": 30,
   "metadata": {},
   "outputs": [],
   "source": [
    "molecules = []          # lista para guardar os objetos 'mol'\n",
    "folders = ['molecules1', 'molecules2']       # sub-diretórios"
   ]
  },
  {
   "cell_type": "code",
   "execution_count": 31,
   "metadata": {},
   "outputs": [
    {
     "name": "stdout",
     "output_type": "stream",
     "text": [
      "ls: não foi possível acessar 'molecules*': Arquivo ou diretório inexistente\r\n"
     ]
    }
   ],
   "source": [
    "# Comando para ver se os diretórios na lista folders já existem\n",
    "# Sejá existirem, não execute as duas próximas células\n",
    "\n",
    "!ls molecules*"
   ]
  },
  {
   "cell_type": "code",
   "execution_count": 32,
   "metadata": {},
   "outputs": [],
   "source": [
    "!mkdir molecules1"
   ]
  },
  {
   "cell_type": "code",
   "execution_count": 33,
   "metadata": {},
   "outputs": [],
   "source": [
    "!mkdir molecules2"
   ]
  },
  {
   "cell_type": "code",
   "execution_count": 34,
   "metadata": {},
   "outputs": [
    {
     "name": "stdout",
     "output_type": "stream",
     "text": [
      "Writing ./molecules1/h2o.xyz\n"
     ]
    }
   ],
   "source": [
    "%%file ./molecules1/h2o.xyz\n",
    "3\n",
    "\n",
    "O        0.03991322       0.05636463       0.00303043\n",
    "H       -0.31674678      -0.40040537      -0.89643957\n",
    "H       -0.31675678      -0.49421537       0.84834043"
   ]
  },
  {
   "cell_type": "code",
   "execution_count": 35,
   "metadata": {},
   "outputs": [
    {
     "name": "stdout",
     "output_type": "stream",
     "text": [
      "Writing ./molecules1/nh3.xyz\n"
     ]
    }
   ],
   "source": [
    "%%file ./molecules1/nh3.xyz\n",
    "4\n",
    "\n",
    "N       -0.02012330      -0.00086057       0.05691048\n",
    "H        0.99987670      -0.00086057       0.05691048\n",
    "H       -0.36012330      -0.82632057      -0.43645952\n",
    "H       -0.36012330       0.83913943      -0.41126952"
   ]
  },
  {
   "cell_type": "code",
   "execution_count": 36,
   "metadata": {},
   "outputs": [
    {
     "name": "stdout",
     "output_type": "stream",
     "text": [
      "Writing ./molecules2/ch4.xyz\n"
     ]
    }
   ],
   "source": [
    "%%file ./molecules2/ch4.xyz\n",
    "5\n",
    "\n",
    "C       -0.00000000       0.00000000       0.00000000\n",
    "H        1.07000000       0.00000000       0.00000000\n",
    "H       -0.35666000      -0.45677000      -0.89947000\n",
    "H       -0.35667000       1.00735000       0.05416000\n",
    "H       -0.35667000      -0.55058000       0.84531000"
   ]
  },
  {
   "cell_type": "code",
   "execution_count": 37,
   "metadata": {},
   "outputs": [
    {
     "name": "stdout",
     "output_type": "stream",
     "text": [
      "Writing ./molecules2/bf3.xyz\n"
     ]
    }
   ],
   "source": [
    "%%file ./molecules2/bf3.xyz\n",
    "4\n",
    "\n",
    "B       -0.00000000       0.00000000       0.00000000\n",
    "F        1.10800000       0.00000000       0.00000000\n",
    "F       -0.55400000      -0.91751000       0.28093000\n",
    "F       -0.55400000       0.91751000      -0.28093000"
   ]
  },
  {
   "cell_type": "code",
   "execution_count": 38,
   "metadata": {},
   "outputs": [],
   "source": [
    "for folder in folders:  # itere sobre os elementos de folders\n",
    "    os.chdir(folder)       # Vá para o sub-diretório 'folder'\n",
    "    list_mols = os.listdir()    # gere lista dos arquivos xyz\n",
    "    for molecule in list_mols:  # itere sobre os arquivos xyz\n",
    "        mol = read(molecule)     # abra 'molecule' como 'mol'\n",
    "        coords = mol.get_positions()  # guarde as coordenadas\n",
    "        cm = mol.get_center_of_mass() # use o centro de massa\n",
    "        newcoords = coords - cm      # corrija as coordenadas\n",
    "        mol.set_positions(newcoords)# atualize as coordenadas\n",
    "        write(molecule, mol)     # salve o arquivo 'molecule'\n",
    "        molecules.append(mol)        # adicione 'mol' à lista\n",
    "    os.chdir('../')             # volte pro diretório inicial"
   ]
  },
  {
   "cell_type": "code",
   "execution_count": 39,
   "metadata": {},
   "outputs": [
    {
     "data": {
      "text/plain": [
       "[Atoms(symbols='OH2', pbc=False),\n",
       " Atoms(symbols='NH3', pbc=False),\n",
       " Atoms(symbols='BF3', pbc=False),\n",
       " Atoms(symbols='CH4', pbc=False)]"
      ]
     },
     "execution_count": 39,
     "metadata": {},
     "output_type": "execute_result"
    }
   ],
   "source": [
    "molecules            # cheque os objetos da lista 'molecules'"
   ]
  },
  {
   "cell_type": "markdown",
   "metadata": {},
   "source": [
    "### Caixa de sessão interativa 44: ASE: Manipulando várias moléculas (parte II)"
   ]
  },
  {
   "cell_type": "code",
   "execution_count": 40,
   "metadata": {},
   "outputs": [],
   "source": [
    "import matplotlib.pyplot as plt\n",
    "import numpy as np\n",
    "from ase.visualize.plot import plot_atoms"
   ]
  },
  {
   "cell_type": "code",
   "execution_count": 41,
   "metadata": {},
   "outputs": [],
   "source": [
    "nmols = len(molecules)  # lista 'molecules' = sessão anterior\n",
    "sqrt = np.sqrt(nmols)            # grade quadrada de gráficos\n",
    "if nmols % sqrt == 0:      # 'nmols' é um múltiplo de 'sqrt'?\n",
    "    grid = int(sqrt)\n",
    "else:\n",
    "    grid = int(sqrt) + 1"
   ]
  },
  {
   "cell_type": "code",
   "execution_count": 44,
   "metadata": {},
   "outputs": [
    {
     "data": {
      "image/png": "[encoded data removed]",
      "text/plain": [
       "<Figure size 432x288 with 4 Axes>"
      ]
     },
     "metadata": {
      "needs_background": "light"
     },
     "output_type": "display_data"
    }
   ],
   "source": [
    "for i, system in enumerate(molecules):\n",
    "    plt.subplot(grid, grid, i+1)\n",
    "    fig = plot_atoms(system) # 'fig =' previne extra outputs\n",
    "    name = system.get_chemical_formula()\n",
    "    plt.title(name)\n",
    "    plt.axis('off')\n",
    "\n",
    "plt.show()            # ou salve com plt.savefig(\"molecules.png\")"
   ]
  },
  {
   "cell_type": "code",
   "execution_count": 45,
   "metadata": {},
   "outputs": [
    {
     "data": {
      "text/plain": [
       "<Figure size 432x288 with 0 Axes>"
      ]
     },
     "metadata": {},
     "output_type": "display_data"
    }
   ],
   "source": [
    "plt.savefig('minhafigura.png', dpi = 400)"
   ]
  },
  {
   "cell_type": "markdown",
   "metadata": {},
   "source": [
    "### Caixa de código 34: ASE: Visualizando várias moléculas com ASE/POV-Ray"
   ]
  },
  {
   "cell_type": "code",
   "execution_count": 2,
   "metadata": {},
   "outputs": [],
   "source": [
    "# Atenção: a lista 'molecules' tem que existir previamente!\n",
    "import matplotlib.pyplot as plt\n",
    "import numpy as np\n",
    "from ase.io.pov import get_bondpairs\n",
    "import matplotlib.image as mpimg\n",
    "\n",
    "nmols = len(molecules)\n",
    "sqrt = np.sqrt(nmols)\n",
    "if nmols % sqrt == 0:          # 'nmols' é um múltiplo de 'sqrt'?\n",
    "    grid = int(sqrt)\n",
    "else:\n",
    "    grid = int(sqrt) + 1  \n",
    "\n",
    "names = []\n",
    "for i, mol in enumerate(molecules):      # itere sobre os objetos\n",
    "    natoms = len(mol)              # número de átomos da molécula\n",
    "    bondpairs = get_bondpairs(mol)   # ligações químicas de 'mol'\n",
    "    r = [0.1] * natoms       # raios dos átomos para renderização\n",
    "    names.append(mol.get_chemical_formula())# fórmula da molécula\n",
    "    mydict = dict(canvas_width = 100, bondatoms = bondpairs)\n",
    "    image = write(f'molec_{i}.pov', mol, radii = r, povray_settings = mydict)\n",
    "    image.render()\n",
    "    \n",
    "for i in range(nmols):        # itere sobre o número de moléculas\n",
    "    plt.subplot(grid, grid, i+1)\n",
    "    img = mpimg.imread(f'molec_{i}.png')  # importe 'molec_i.png'\n",
    "    plt.imshow(img)                         # plote 'molec_i.png'\n",
    "    plt.title(names[i])                   # título do sub-gráfico\n",
    "    plt.axis('off')                             # remova os eixos\n",
    "\n",
    "plt.savefig('molecules_pov.png', dpi = 400)"
   ]
  }
 ],
 "metadata": {
  "kernelspec": {
   "display_name": "Python 3",
   "language": "python",
   "name": "python3"
  },
  "language_info": {
   "codemirror_mode": {
    "name": "ipython",
    "version": 3
   },
   "file_extension": ".py",
   "mimetype": "text/x-python",
   "name": "python",
   "nbconvert_exporter": "python",
   "pygments_lexer": "ipython3",
   "version": "3.7.6"
  }
 },
 "nbformat": 4,
 "nbformat_minor": 5
}

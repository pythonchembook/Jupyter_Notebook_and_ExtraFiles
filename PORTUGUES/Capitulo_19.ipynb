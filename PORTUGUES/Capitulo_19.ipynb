{
 "cells": [
  {
   "cell_type": "markdown",
   "metadata": {},
   "source": [
    "# Capítulo 19: Dinâmica molecular e análise de trajetória\n",
    "\n",
    "Livro: Aprendendo Química com Python, Rodrigo Q. de Albuquerque & Gerd B. da Rocha, 2021, Amazon Book.\n",
    "\n",
    "E-Mail: learn.chem.python@gmail.com"
   ]
  },
  {
   "cell_type": "markdown",
   "metadata": {},
   "source": [
    "### Instruções:\n",
    "\n",
    "1. Recomendado o uso do Linux;\n",
    "\n",
    "2. Instalar o Python a partir do gerenciador de pacote Anaconda: https://www.anaconda.com/products/individual-d\n",
    "\n",
    "3. Atualiza os pacotes com conda: conda update -n ENVIRONMENT --all\n",
    "\n",
    "4. Instala o AMBERTools --> conda install -c conda-forge ambertools\n",
    "\n",
    "5. Instala o PyTraj: conda install -c conda-forge pytraj\n",
    "\n",
    "6. Instala o NGLView: conda install -c conda-forge nglview\n",
    "\n",
    "7. Verifica se tudo foi instalado corretamente: conda list\n",
    "\n",
    "8. Caso esteja usando o Jupyter-Notebook, antes de carregá-lo executar o comando:\n",
    "    jupyter-nbextension enable nglview --py --sys-prefix"
   ]
  },
  {
   "cell_type": "markdown",
   "metadata": {},
   "source": [
    "# Biblioteca NGL Viewer"
   ]
  },
  {
   "cell_type": "code",
   "execution_count": null,
   "metadata": {},
   "outputs": [],
   "source": [
    "# Verificando a versão da NGL Viewer instalada\n",
    "import nglview as nv\n",
    "print('Versão do NGLView --> ', nv.__version__)"
   ]
  },
  {
   "cell_type": "code",
   "execution_count": null,
   "metadata": {},
   "outputs": [],
   "source": [
    "# Carregando a estrutura da proteína 2CI2 do banco de dados PDB (https://www.rcsb.org/structure/2CI2) \n",
    "view1 = nv.show_pdbid(\"2ci2\")  \n",
    "view1"
   ]
  },
  {
   "cell_type": "code",
   "execution_count": null,
   "metadata": {},
   "outputs": [],
   "source": [
    "# Para modificar a representação do objeto \"view1\" e salvar a figura\n",
    "view1.parameters = dict(theme='light')\n",
    "view1.download_image(filename='2ci2.png', factor=15, trim=True)"
   ]
  },
  {
   "cell_type": "code",
   "execution_count": null,
   "metadata": {},
   "outputs": [],
   "source": [
    "# Para adicionar superfícies no objeto \"view1\"\n",
    "view1.add_surface(selection=\"protein\", opacity=0.3)"
   ]
  },
  {
   "cell_type": "markdown",
   "metadata": {},
   "source": [
    "# Realizando a dinâmica molecular\n",
    "\n",
    "### Para instalar o pacote AMBERTools\n",
    "\n",
    "conda install -c conda-forge ambertools"
   ]
  },
  {
   "cell_type": "code",
   "execution_count": null,
   "metadata": {},
   "outputs": [],
   "source": [
    "# Forma de escrever um arquivo direto do Jupyter-Notebook\n",
    "# Montando a estrutura do peptídeo e sua topologia\n",
    "# OBS: Não usar comentários na caixa que escreve o arquivo \"leap.inp\""
   ]
  },
  {
   "cell_type": "code",
   "execution_count": null,
   "metadata": {},
   "outputs": [],
   "source": [
    "%%file leap.inp\n",
    "source leaprc.protein.ff14SB\n",
    "seq = sequence{NALA ALA ALA ALA ALA CALA}\n",
    "set default PBradii mbondi3 \n",
    "saveamberparm seq peptide.top peptide_ini.crd\n",
    "savepdb seq peptide_ini.pdb \n",
    "quit"
   ]
  },
  {
   "cell_type": "code",
   "execution_count": null,
   "metadata": {},
   "outputs": [],
   "source": [
    "# Forma de executar um comando do sistema operacional (Linux)\n",
    "!$AMBERHOME/bin/tleap -f leap.inp > leap.log"
   ]
  },
  {
   "cell_type": "code",
   "execution_count": null,
   "metadata": {},
   "outputs": [],
   "source": [
    "# Monta o input para minimizar a energia\n",
    "# OBS: Não usar comentários na caixa que escreve o arquivo \"min_implicit.in\""
   ]
  },
  {
   "cell_type": "code",
   "execution_count": null,
   "metadata": {},
   "outputs": [],
   "source": [
    "%%file min_implicit.inp\n",
    "Minimizacao da energia\n",
    "&cntrl\n",
    "  imin=1, maxcyc=5000, ncyc=1000,\n",
    "  cut=999., igb=8, ntb=0, ntpr=100\n",
    "&end"
   ]
  },
  {
   "cell_type": "code",
   "execution_count": null,
   "metadata": {},
   "outputs": [],
   "source": [
    "# Para otimizar a geometria do peptídeo (ALA)6\n",
    "!$AMBERHOME/bin/sander -O -i min_implicit.inp -p peptide.top -c peptide_ini.crd -r min_implicit.rst7"
   ]
  },
  {
   "cell_type": "code",
   "execution_count": null,
   "metadata": {},
   "outputs": [],
   "source": [
    "# Importar a PyTraj\n",
    "import pytraj as pt\n",
    "print('Versão do PyTraj --> ', pt.__version__)"
   ]
  },
  {
   "cell_type": "code",
   "execution_count": null,
   "metadata": {},
   "outputs": [],
   "source": [
    "# Carrega a estrutura otimizada com a PyTraj\n",
    "ref_implicit_min = pt.load('min_implicit.rst7', top='peptide.top')\n",
    "\n",
    "# Visualizar a estrutura \n",
    "view_min_implicit = nv.show_pytraj(ref_implicit_min)\n",
    "view_min_implicit.add_ball_and_stick()\n",
    "view_min_implicit.add_cartoon()\n",
    "view_min_implicit.parameters = dict(camera_type='perpective', background_color='black',fog_near=60, clip_dist=0)\n",
    "view_min_implicit"
   ]
  },
  {
   "cell_type": "code",
   "execution_count": null,
   "metadata": {},
   "outputs": [],
   "source": [
    "view_min_implicit.render_image()"
   ]
  },
  {
   "cell_type": "code",
   "execution_count": null,
   "metadata": {},
   "outputs": [],
   "source": [
    "view_min_implicit._display_image()"
   ]
  },
  {
   "cell_type": "code",
   "execution_count": null,
   "metadata": {},
   "outputs": [],
   "source": [
    "view_min_implicit.parameters = dict(theme='light')\n",
    "view_min_implicit.download_image(filename='hexa_ala_min_imp.png', factor=8, trim=True)"
   ]
  },
  {
   "cell_type": "code",
   "execution_count": null,
   "metadata": {},
   "outputs": [],
   "source": [
    "# Monta input para dinâmica molecular NVT\n",
    "# OBS: Não usar comentários na caixa que escreve o arquivo \"md_implicit.in\""
   ]
  },
  {
   "cell_type": "code",
   "execution_count": null,
   "metadata": {},
   "outputs": [],
   "source": [
    "%%file md_implicit.inp\n",
    "MD NVT, 500 ps\n",
    "&cntrl\n",
    "    imin = 0, nstlim = 250000, dt = 0.002, ntf = 2, nscm = 1000, \n",
    "    ntx = 1, irest = 0, ig = -1, ntc = 2, temp0 = 300.0, gamma_ln = 1.0, \n",
    "    ntt=3, tempi = 300.0, ntwr = 500, ntpr = 500, ntb = 0, ntwx = 500, \n",
    "    ntwe = 0, cut = 999.0, igb = 8, ioutfm = 1,\n",
    "&end"
   ]
  },
  {
   "cell_type": "code",
   "execution_count": null,
   "metadata": {},
   "outputs": [],
   "source": [
    "# Para executar a dinâmica moleculare NVT para o peptídeo (ALA)6\n",
    "!$AMBERHOME/bin/sander -O -i md_implicit.inp -o md_implicit.out -p peptide.top -c min_implicit.rst7 -r md_implicit.rst -x md_implicit.nc"
   ]
  },
  {
   "cell_type": "code",
   "execution_count": null,
   "metadata": {},
   "outputs": [],
   "source": [
    "# Observar a execução da dinâmica molecular\n",
    "!tail -n 20 md_implicit.out"
   ]
  },
  {
   "cell_type": "code",
   "execution_count": null,
   "metadata": {},
   "outputs": [],
   "source": [
    "# Carregar a trajetória no objeto \"traj_implicit\"\n",
    "traj_implicit = pt.load('md_implicit.nc', top='peptide.top')\n",
    "traj_implicit"
   ]
  },
  {
   "cell_type": "markdown",
   "metadata": {},
   "source": [
    "# Analisando a trajetória simulada"
   ]
  },
  {
   "cell_type": "markdown",
   "metadata": {},
   "source": [
    "### Alinhamento dos frames da trajetória simulada"
   ]
  },
  {
   "cell_type": "code",
   "execution_count": null,
   "metadata": {},
   "outputs": [],
   "source": [
    "# Comandos para alinhar a trajetória pelo frame de referência\n",
    "traj_implicit_aligned = pt.align(traj_implicit, ref=0)\n",
    "\n",
    "# Comandos para gerar uma visualização da trajetória de dinâmica molecular\n",
    "view_traj_implicit = nv.show_pytraj(traj_implicit_aligned)\n",
    "\n",
    "# Comandos para gerar uma representação para a trajetória carregada\n",
    "view_traj_implicit.add_ball_and_stick()\n",
    "view_traj_implicit.add_cartoon()\n",
    "view_traj_implicit.parameters = dict(camera_type='perpective', background_color='black',fog_near=60, clip_dist=0)\n",
    "\n",
    "# Mostra a animaçãona tela\n",
    "view_traj_implicit"
   ]
  },
  {
   "cell_type": "markdown",
   "metadata": {},
   "source": [
    "## Cálculo de RMSD"
   ]
  },
  {
   "cell_type": "code",
   "execution_count": null,
   "metadata": {},
   "outputs": [],
   "source": [
    "# Importar a biblioteca Matplotlib\n",
    "%matplotlib inline\n",
    "from matplotlib import pyplot as plt"
   ]
  },
  {
   "cell_type": "code",
   "execution_count": null,
   "metadata": {},
   "outputs": [],
   "source": [
    "# RMSD em solvente implícito\n",
    "rmsd_implicit = pt.rmsd(traj_implicit, ref=0)\n",
    "\n",
    "# Montagem do gráfico do RMSD ao longo da dinâmica molecular\n",
    "plt.figure(figsize=(8, 6))\n",
    "plt.plot(rmsd_implicit)\n",
    "plt.title('Dinâmica Molecular da $(ALA)_6$ em solvente implícito', fontsize=16, pad = 14)\n",
    "plt.xlabel('Tempo (ps)', fontsize=14,labelpad=10)\n",
    "plt.ylabel('RMSD (Angstrom)', fontsize=14,labelpad=10)\n",
    "plt.xticks(fontsize=12)\n",
    "plt.yticks(fontsize=12)\n",
    "plt.tight_layout()\n",
    "plt.show() "
   ]
  },
  {
   "cell_type": "markdown",
   "metadata": {},
   "source": [
    "## Monitoramento de ângulos diedrais"
   ]
  },
  {
   "cell_type": "code",
   "execution_count": null,
   "metadata": {},
   "outputs": [],
   "source": [
    "# Cálculo dos ângulos diedrais ao longo da trajetória\n",
    "diedros_implicit = pt.multidihedral(traj_implicit, resrange='1-6', dihedral_types=\"phi psi\", dtype='dataframe')"
   ]
  },
  {
   "cell_type": "code",
   "execution_count": null,
   "metadata": {},
   "outputs": [],
   "source": [
    "# Ângulos phi em solvente implícito\n",
    "nrows, ncols = 3,2\n",
    "cont = 0\n",
    "plt.figure(figsize=(8, 10))\n",
    "for i in range(nrows):\n",
    "    for j in range(ncols):\n",
    "        cont += 1\n",
    "        lab = '$\\phi_' + str(cont) + '$'\n",
    "        lang = 'phi_'+ str(cont)\n",
    "        if (cont > 1):\n",
    "            plt.subplot(3, 2, cont - 1)\n",
    "            plt.plot(diedros_implicit[lang], '-bo', markersize=2, linewidth=0)\n",
    "            plt.xlabel('Tempo (em ps)', fontsize=14,labelpad=10)\n",
    "            plt.ylabel(lab, fontsize=14)\n",
    "plt.tight_layout()\n",
    "plt.show()        "
   ]
  },
  {
   "cell_type": "code",
   "execution_count": null,
   "metadata": {},
   "outputs": [],
   "source": [
    "# Ângulos psi em solvente implícito\n",
    "nrows, ncols = 3,2\n",
    "cont = 0\n",
    "plt.figure(figsize=(8, 10))\n",
    "for i in range(nrows):\n",
    "    for j in range(ncols):\n",
    "        cont += 1\n",
    "        lab = '$\\psi_' + str(cont) + '$'\n",
    "        lang = 'psi_'+ str(cont)\n",
    "        if (cont < 6):\n",
    "            plt.subplot(3, 2, cont)\n",
    "            plt.plot(diedros_implicit[lang], '-mo', markersize=2, linewidth=0)\n",
    "            plt.xlabel('Tempo (em ps)', fontsize=14,labelpad=10)\n",
    "            plt.ylabel(lab, fontsize=14)\n",
    "plt.tight_layout()\n",
    "plt.show()        "
   ]
  },
  {
   "cell_type": "markdown",
   "metadata": {},
   "source": [
    "## Fração de Contatos Nativos"
   ]
  },
  {
   "cell_type": "code",
   "execution_count": null,
   "metadata": {},
   "outputs": [],
   "source": [
    "# # Lendo o template e visualizando a estrutura\n",
    "tpl = pt.load('ALA6helix.pdb')\n",
    "v_tpl = nv.show_pytraj(tpl)\n",
    "v_tpl.add_ball_and_stick()\n",
    "v_tpl.add_cartoon()\n",
    "v_tpl.parameters = dict(camera_type='perpective', background_color='black',fog_near=60, clip_dist=0)\n",
    "v_tpl"
   ]
  },
  {
   "cell_type": "code",
   "execution_count": null,
   "metadata": {},
   "outputs": [],
   "source": [
    "# Importar a biblioteca Pandas\n",
    "import pandas as pd\n",
    "print('Versão do Pandas', pd.__version__)"
   ]
  },
  {
   "cell_type": "code",
   "execution_count": null,
   "metadata": {},
   "outputs": [],
   "source": [
    "# Calculando o número de contatos nativos da estrutra de referência, o template\n",
    "n_cont_template = pt.native_contacts(tpl, ref=tpl, top='peptide.top', dtype='dataframe')\n",
    "nc_max = n_cont_template.max()\n",
    "print(nc_max)"
   ]
  },
  {
   "cell_type": "code",
   "execution_count": null,
   "metadata": {},
   "outputs": [],
   "source": [
    "# Para calcular o número de contatos nativos durante a trajetória\n",
    "n_cont = pt.native_contacts(traj_implicit, ref=tpl, top='peptide.top', dtype='dataframe')\n",
    "n_cont.rename(columns={'Contacts_00001[native]': 'Native Contacts',                        'Contacts_00001[nonnative]': 'Non-Native Contacts'}, inplace=True)\n",
    "fraction_native = n_cont['Native Contacts']/nc_max[0]\n",
    "fraction_native\n",
    "# OBS: os valores podem não coincidir pois se trata de trajetórias com pequeno grau de aleatoriedade."
   ]
  },
  {
   "cell_type": "code",
   "execution_count": null,
   "metadata": {},
   "outputs": [],
   "source": [
    "# Gráfico das frações de contatos nativos ao longo da trajetória\n",
    "plt.figure(figsize=(10, 8))\n",
    "plt.plot(fraction_native)\n",
    "plt.title('Dinâmica Molecular da $(ALA)_6$ em solvente implícito', fontsize=16, pad = 14)\n",
    "plt.xlabel('Tempo (ps)', fontsize=14,labelpad=10)\n",
    "plt.ylabel('Fração de Contatos Nativos (%)', fontsize=14, labelpad=10)\n",
    "plt.xticks(fontsize=12)\n",
    "plt.yticks(fontsize=12)\n",
    "plt.tight_layout()\n",
    "plt.show()"
   ]
  },
  {
   "cell_type": "markdown",
   "metadata": {},
   "source": [
    "## Considerando moléculas de solvente explicitamente"
   ]
  },
  {
   "cell_type": "code",
   "execution_count": null,
   "metadata": {},
   "outputs": [],
   "source": [
    "# Montando a topologia para o sistema solvatado\n",
    "# OBS: Não usar comentários na caixa que escreve o arquivo \"leap_in_water.in\""
   ]
  },
  {
   "cell_type": "code",
   "execution_count": null,
   "metadata": {},
   "outputs": [],
   "source": [
    "%%file leap_in_water.inp\n",
    "source leaprc.protein.ff14SB\n",
    "source leaprc.water.tip3p\n",
    "set default PBRadii mbondi2\n",
    "seq = sequence{NALA ALA ALA ALA ALA CALA}\n",
    "charge seq\n",
    "solvateBox seq TIP3PBOX 10.0\n",
    "saveamberparm seq peptide_solv.top peptide_solv_ini.crd\n",
    "savepdb seq peptide_solv_ini.pdb \n",
    "quit"
   ]
  },
  {
   "cell_type": "code",
   "execution_count": null,
   "metadata": {},
   "outputs": [],
   "source": [
    "# Montando a topologia do sistema solvatado\n",
    "!$AMBERHOME/bin/tleap -f leap_in_water.inp > leap_in_water.log"
   ]
  },
  {
   "cell_type": "code",
   "execution_count": null,
   "metadata": {},
   "outputs": [],
   "source": [
    "# Escrevendo o input para otimizar a geometria do sistema solvatado\n",
    "# OBS: Não usar comentários na caixa que escreve o arquivo \"min_in_water.inp\""
   ]
  },
  {
   "cell_type": "code",
   "execution_count": null,
   "metadata": {},
   "outputs": [],
   "source": [
    "%%file min_in_water.inp\n",
    "Otm Geo\n",
    "&cntrl\n",
    "   imin=1, maxcyc=5000, ntpr=500, ntmin=1, ncyc=500, ntf=1, ntb=1, cut=12.0, igb=0,\n",
    "&end"
   ]
  },
  {
   "cell_type": "code",
   "execution_count": null,
   "metadata": {},
   "outputs": [],
   "source": [
    "# Comando para otimizar a geometria do sistema solvatado\n",
    "!$AMBERHOME/bin/sander -O -i min_in_water.inp -p peptide_solv.top -c peptide_solv_ini.crd -r min_solv.rst7"
   ]
  },
  {
   "cell_type": "code",
   "execution_count": null,
   "metadata": {},
   "outputs": [],
   "source": [
    "# Montando uma representação da estrutura otimizada do sistema peptídeo solvatado\n",
    "ref_solv_min = pt.load('min_solv.rst7', top='peptide_solv.top')\n",
    "view_min_solv = nv.show_pytraj(ref_solv_min)\n",
    "view_min_solv.clear_representations()"
   ]
  },
  {
   "cell_type": "code",
   "execution_count": null,
   "metadata": {},
   "outputs": [],
   "source": [
    "# Adicionando representações ao objeto view_min_solv e mostrando em tela\n",
    "view_min_solv.add_ball_and_stick(selection='protein')\n",
    "view_min_solv.add_ball_and_stick(selection='water', opacity=0.2)\n",
    "view_min_solv.add_cartoon()\n",
    "view_min_solv.parameters = dict(camera_type='perpective', background_color='black',fog_near=60, clip_dist=0)\n",
    "view_min_solv"
   ]
  },
  {
   "cell_type": "code",
   "execution_count": null,
   "metadata": {},
   "outputs": [],
   "source": [
    "# Escrevendo o input para dinâmica molecular do sistema solvatado\n",
    "# OBS: Não usar comentários na caixa que escreve o arquivo \"min_in_water.in\""
   ]
  },
  {
   "cell_type": "code",
   "execution_count": null,
   "metadata": {},
   "outputs": [],
   "source": [
    "%%file md_in_water_NVT.inp\n",
    "MD NVT em água\n",
    "&cntrl\n",
    "    nstlim=250000, dt=0.002, ntx=1, irest=0, ntpr=500, ntwr=500, ntwx=500, \n",
    "    ntt=3, tempi =250.0, temp0=300.0, tautp=2.0, ig=209858, gamma_ln=2.0, \n",
    "    cut=12.0, ntb=1, ntp=0, ntc=2, ntf=2, nrespa=2,\n",
    "&end"
   ]
  },
  {
   "cell_type": "code",
   "execution_count": null,
   "metadata": {},
   "outputs": [],
   "source": [
    "# Comando para executar a dinâmica molecular NVT no sistema solvatado\n",
    "!$AMBERHOME/bin/sander -O -i md_in_water_NVT.inp -o md_in_water_NVT.out -p peptide_solv.top -c min_solv.rst7 -r md_in_water_NVT.rst -x md_in_water_NVT.nc"
   ]
  },
  {
   "cell_type": "code",
   "execution_count": null,
   "metadata": {},
   "outputs": [],
   "source": [
    "# Carregando a trajetória do sistema solvatado\n",
    "traj_in_water = pt.load('md_in_water_NVT.nc', top='peptide_solv.top')\n",
    "traj_in_water"
   ]
  }
 ],
 "metadata": {
  "kernelspec": {
   "display_name": "Python 3",
   "language": "python",
   "name": "python3"
  },
  "language_info": {
   "codemirror_mode": {
    "name": "ipython",
    "version": 3
   },
   "file_extension": ".py",
   "mimetype": "text/x-python",
   "name": "python",
   "nbconvert_exporter": "python",
   "pygments_lexer": "ipython3",
   "version": "3.7.6"
  }
 },
 "nbformat": 4,
 "nbformat_minor": 5
}

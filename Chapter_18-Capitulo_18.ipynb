{
 "cells": [
  {
   "cell_type": "markdown",
   "id": "49445dcb",
   "metadata": {},
   "source": [
    "# Capítulo 12: Manipulando átomos e moléculas com a biblioteca ASE\n",
    "\n",
    "Esse Jupyter Notebook contém todos os códigos aplicados no capítulo 12 - Manipulando átomos e moléculas com a biblioteca ASE.\n",
    "\n",
    "Autores: Gerd Bruno da Rocha e Rodrigo Queiroz de Albuquerque\n",
    "\n",
    "e-mail: gbr@academico.ufpb.br\n",
    "\n",
    "Laboratório de Química Quântica Computacional\n",
    "\n",
    "Departamento de Química \n",
    "\n",
    "Universidade Federal da Paraíba\n",
    "\n",
    "www.quantum-chem.pro.br\n",
    "\n",
    "Fontes de consulta:\n",
    "\n",
    "1. Aprendendo Química com Python, Rodrigo Queiroz e Gerd Rocha, 2021, Amazon Book. \n",
    "2. Físico Química, Atkins, P., vol.1, 10a ed., LTC, 2010.\n",
    "3. xxxxxxxxxxxxxx\n"
   ]
  },
  {
   "cell_type": "markdown",
   "id": "3dd09802",
   "metadata": {},
   "source": [
    "## Versão do Python usada"
   ]
  },
  {
   "cell_type": "code",
   "execution_count": 1,
   "id": "03709e44",
   "metadata": {},
   "outputs": [
    {
     "name": "stdout",
     "output_type": "stream",
     "text": [
      "3.7.10 | packaged by conda-forge | (default, Feb 19 2021, 16:07:37) \n",
      "[GCC 9.3.0]\n"
     ]
    }
   ],
   "source": [
    "import sys\n",
    "print(sys.version)"
   ]
  },
  {
   "cell_type": "markdown",
   "id": "2cf284cb",
   "metadata": {},
   "source": [
    "## Leis de velocidade integradas"
   ]
  },
  {
   "cell_type": "markdown",
   "id": "3d7886cf",
   "metadata": {},
   "source": [
    "### Caixa de sessão interativa 55: Leis integradas de velocidade com SymPy"
   ]
  },
  {
   "cell_type": "code",
   "execution_count": 2,
   "id": "4a0d8954",
   "metadata": {},
   "outputs": [
    {
     "name": "stdout",
     "output_type": "stream",
     "text": [
      "log([A])\n"
     ]
    }
   ],
   "source": [
    "from sympy import *\n",
    "A = Symbol('[A]')         # concentração (final) da espécie A\n",
    "order = 1  # ordem da reação\n",
    "integral = integrate(1/(A**order), A) # ordem 1\n",
    "print(integral) # Abaixo \"log()\" (abaixo) é na verdade \"ln()\""
   ]
  },
  {
   "cell_type": "code",
   "execution_count": 3,
   "id": "0e93cfa9",
   "metadata": {},
   "outputs": [
    {
     "name": "stdout",
     "output_type": "stream",
     "text": [
      "-0.693147180559945\n"
     ]
    }
   ],
   "source": [
    "integral = integrate(1/(A**order), (A, 0.8, 0.4))\n",
    "print(integral)"
   ]
  },
  {
   "cell_type": "code",
   "execution_count": 4,
   "id": "83221826",
   "metadata": {},
   "outputs": [
    {
     "name": "stdout",
     "output_type": "stream",
     "text": [
      "log([A]) - log([A]0)\n"
     ]
    }
   ],
   "source": [
    "A0 = Symbol('[A]0')       # concentração inicial da espécie A\n",
    "integral = integrate(1/(A**order), (A, A0, A))\n",
    "print(integral)"
   ]
  },
  {
   "cell_type": "code",
   "execution_count": 5,
   "id": "dd7e9bba",
   "metadata": {},
   "outputs": [
    {
     "name": "stdout",
     "output_type": "stream",
     "text": [
      "Lei integrada (ordem 0): [A] - [A]0 = -kt\n",
      "Lei integrada (ordem 0.5): 2.0*[A]**0.5 - 2.0*[A]0**0.5 = -kt\n",
      "Lei integrada (ordem 1): log([A]) - log([A]0) = -kt\n",
      "Lei integrada (ordem 2): 1/[A]0 - 1/[A] = -kt\n"
     ]
    }
   ],
   "source": [
    "orders = [0, 0.5, 1, 2]\n",
    "for order in orders:\n",
    "    integral = integrate(1/(A**order), (A, A0, A))\n",
    "    print(f'Lei integrada (ordem {order}): {integral} = -kt')"
   ]
  },
  {
   "cell_type": "markdown",
   "id": "4c0b28a0",
   "metadata": {},
   "source": [
    "### Caixa de código 44: Determinando ordens de reação graﬁcamente"
   ]
  },
  {
   "cell_type": "code",
   "execution_count": 6,
   "id": "9d940437",
   "metadata": {},
   "outputs": [
    {
     "data": {
      "image/png": "[encoded data removed]",
      "text/plain": [
       "<Figure size 720x216 with 3 Axes>"
      ]
     },
     "metadata": {
      "needs_background": "light"
     },
     "output_type": "display_data"
    }
   ],
   "source": [
    "import numpy as np\n",
    "import matplotlib.pyplot as plt\n",
    "A = np.array([2.7, 2.41, 2.33, 1.96, 1.91, 1.72, 1.47, 1.4, 1.24, 1.1, 1])\n",
    "t = np.arange(0, 1.1, 0.1)   # t = [0, 0.1, 0.2, ..., 1.0]\n",
    "y = ['A', 'np.log(A)', '1/A']\n",
    "plt.figure(figsize = (10,3))\n",
    "for i, expr in enumerate(y):\n",
    "    Y = eval(expr)\n",
    "    plt.subplot(1, 3, i+1)\n",
    "    plt.plot(t, Y, 'bo')      # pontos azuis\n",
    "    delta_t, delta_Y = [t[0],t[-1]] , [Y[0],Y[-1]]\n",
    "    plt.plot(delta_t, delta_Y, '-r')  # reta vermelha\n",
    "    plt.xlabel('t', fontsize = 16, labelpad = 12)\n",
    "    plt.ylabel(expr, fontsize = 16, labelpad = 12)\n",
    "    plt.xticks(fontsize = 14)\n",
    "    plt.yticks(fontsize = 14)\n",
    "    plt.title(f'Ordem {i}', fontsize = 18)\n",
    "plt.tight_layout()\n",
    "plt.savefig('cinetica2.png', dpi = 400)"
   ]
  },
  {
   "cell_type": "markdown",
   "id": "3b7db53c",
   "metadata": {},
   "source": [
    "### Caixa de sessão interativa 56: Determinando ordens de reação e parâmetros cinéticos"
   ]
  },
  {
   "cell_type": "code",
   "execution_count": 8,
   "id": "57b156a7",
   "metadata": {},
   "outputs": [
    {
     "name": "stdout",
     "output_type": "stream",
     "text": [
      "Ordem 0: R2 = 0.982, EMA = 0.055, CL = 2.59, CA = -1.69\n",
      "Ordem 1: R2 = 0.993, EMA = 0.025, CL = 1.01, CA = -0.99\n",
      "Ordem 2: R2 = 0.967, EMA = 0.032, CL = 0.32, CA = 0.62\n"
     ]
    }
   ],
   "source": [
    "from sklearn.linear_model import LinearRegression\n",
    "from sklearn.metrics import mean_absolute_error, r2_score\n",
    "import numpy as np\n",
    "A = np.array([2.7, 2.41, 2.33, 1.96, 1.91, 1.72, 1.47, 1.4, 1.24, 1.1, 1])\n",
    "y = ['A', 'np.log(A)', '1/A']\n",
    "t = np.arange(0, 1.1, 0.1).reshape(-1,1)\n",
    "for i, expr in enumerate(y):\n",
    "    Y = eval(expr)\n",
    "    model_ls = LinearRegression()      # objeto para regressão\n",
    "    model_ls.fit(t, Y)                      # regressão linear\n",
    "    pred = model_ls.predict(t)                 # previsão de Y\n",
    "    r2 = round(r2_score(Y, pred), 3)          # R2 da previsão\n",
    "    ema = round(mean_absolute_error(Y, pred), 3)        # erro \n",
    "    ca = round(model_ls.coef_[0], 2)     # coeficiente angular\n",
    "    cl = round(model_ls.intercept_, 2)    # coeficiente linear\n",
    "    print(f'Ordem {i}: R2 = {r2}, EMA = {ema}, CL = {cl}, CA = {ca}')"
   ]
  },
  {
   "cell_type": "markdown",
   "id": "f718163b",
   "metadata": {},
   "source": [
    "## Curvas de decaimento e tempos de meia vida"
   ]
  },
  {
   "cell_type": "markdown",
   "id": "52b0fe33",
   "metadata": {},
   "source": [
    "### Caixa de sessão interativa 57: Determinando curvas de decaimento"
   ]
  },
  {
   "cell_type": "code",
   "execution_count": 12,
   "id": "ebf02e7d",
   "metadata": {},
   "outputs": [],
   "source": [
    "from sympy import *\n",
    "A, A0, k, t = symbols('[A] [A]0 k t')"
   ]
  },
  {
   "cell_type": "code",
   "execution_count": 13,
   "id": "3c3b6d76",
   "metadata": {},
   "outputs": [
    {
     "name": "stdout",
     "output_type": "stream",
     "text": [
      "[[A]0*exp(-k*t)]\n"
     ]
    }
   ],
   "source": [
    "print(solve(log(A) - log(A0) + k*t, A)) # lei integr. ordem 1"
   ]
  },
  {
   "cell_type": "code",
   "execution_count": 14,
   "id": "44e55cb9",
   "metadata": {},
   "outputs": [
    {
     "name": "stdout",
     "output_type": "stream",
     "text": [
      "[[A]0/([A]0*k*t + 1)]\n"
     ]
    }
   ],
   "source": [
    "print(solve(1/A0 - 1/A + k*t, A))    # lei integrada, ordem 2"
   ]
  },
  {
   "cell_type": "markdown",
   "id": "475ba7fb",
   "metadata": {},
   "source": [
    "### Caixa de código 45: Plotando curvas de decaimento"
   ]
  },
  {
   "cell_type": "code",
   "execution_count": 15,
   "id": "e0515ae5",
   "metadata": {},
   "outputs": [
    {
     "data": {
      "image/png": "[encoded data removed]",
      "text/plain": [
       "<Figure size 360x288 with 1 Axes>"
      ]
     },
     "metadata": {
      "needs_background": "light"
     },
     "output_type": "display_data"
    }
   ],
   "source": [
    "import numpy as np\n",
    "import matplotlib.pyplot as plt\n",
    "t = np.arange(0, 1.05, 0.05)    # t = [0, 0.05, 0.1, ... , 1]\n",
    "A0, k = 1, 1\n",
    "A_ord0 = A0 - k*t\n",
    "A_ord1 = A0*np.exp(-k*t)\n",
    "A_ord2 = A0 / (A0*k*t + 1)\n",
    "plt.figure(figsize = (5, 4))\n",
    "plt.plot(t, A_ord0, '-ro', label = 'Ordem 0')\n",
    "plt.plot(t, A_ord1, '-go', label = 'Ordem 1')\n",
    "plt.plot(t, A_ord2, '-bo', label = 'Ordem 2')\n",
    "plt.xlabel('t / s', fontsize = 18)\n",
    "plt.ylabel('[A] / s', fontsize = 18)\n",
    "plt.legend(frameon = False, fontsize = 14)\n",
    "plt.xticks(fontsize = 12)\n",
    "plt.yticks(fontsize = 12)\n",
    "plt.tight_layout()\n",
    "plt.savefig('cinetica5.png', dpi = 400)"
   ]
  },
  {
   "cell_type": "markdown",
   "id": "5fe4f441",
   "metadata": {},
   "source": [
    "### Caixa de sessão interativa 58: Derivando tempos de meia vida"
   ]
  },
  {
   "cell_type": "code",
   "execution_count": 16,
   "id": "38b01e23",
   "metadata": {},
   "outputs": [],
   "source": [
    "from sympy import *\n",
    "A, A0, k, t = symbols('[A] [A]0 k t')"
   ]
  },
  {
   "cell_type": "code",
   "execution_count": 17,
   "id": "4c181f2c",
   "metadata": {},
   "outputs": [
    {
     "name": "stdout",
     "output_type": "stream",
     "text": [
      "[[A]0/(2*k)]\n"
     ]
    }
   ],
   "source": [
    "print(solve(A0/2 - A0 + k*t, t)) # ordem 0"
   ]
  },
  {
   "cell_type": "code",
   "execution_count": 18,
   "id": "2596c115",
   "metadata": {},
   "outputs": [
    {
     "name": "stdout",
     "output_type": "stream",
     "text": [
      "[log(2)/k]\n"
     ]
    }
   ],
   "source": [
    "print(solve(A0/2 - A0*exp(-k*t), t)) # ordem 1"
   ]
  },
  {
   "cell_type": "code",
   "execution_count": 19,
   "id": "cd5594e6",
   "metadata": {},
   "outputs": [
    {
     "name": "stdout",
     "output_type": "stream",
     "text": [
      "[1/([A]0*k)]\n"
     ]
    }
   ],
   "source": [
    "print(solve(A0/2 - A0 / (A0*k*t + 1), t)) # ordem 2"
   ]
  },
  {
   "cell_type": "markdown",
   "id": "23b40674",
   "metadata": {},
   "source": [
    "### Caixa de código 46: Visualizando tendências dos tempos de meia vida"
   ]
  },
  {
   "cell_type": "code",
   "execution_count": 20,
   "id": "d5f60f6c",
   "metadata": {},
   "outputs": [
    {
     "data": {
      "image/png": "[encoded data removed]",
      "text/plain": [
       "<Figure size 864x288 with 3 Axes>"
      ]
     },
     "metadata": {
      "needs_background": "light"
     },
     "output_type": "display_data"
    }
   ],
   "source": [
    "import numpy as np\n",
    "import matplotlib.pyplot as plt\n",
    "A0, k, delta = 4, 1, 0.1               # [A]0, k, intervalos de t\n",
    "t = np.arange(0, 3.5 + delta, delta)               # valores de t\n",
    "A_ord0 = A0 - k * t                     # decaimento para ordem 0\n",
    "A_ord1 = A0 * np.exp(- k * t)           # decaimento para ordem 1\n",
    "A_ord2 = A0 / (A0 * k * t + 1)          # decaimento para ordem 2\n",
    "concs = [A_ord0, A_ord1, A_ord2]  # [A] previsto\n",
    "t12_0 = [A_ord0[0]/2, A_ord0[0]/4, A_ord0[0]/8]  # t1/2 (ordem 0)\n",
    "t12_1 = [np.log(2), np.log(2), np.log(2)]        # t1/2 (ordem 1)\n",
    "t12_2 = [1/A_ord2[0], 1/(A_ord2[0]/2), 1/(A_ord2[0]/4)] # t1/2(2)\n",
    "t12 = [t12_0, t12_1, t12_2]        # todos os tempos de meia vida\n",
    "plt.figure(figsize = (12, 4))\n",
    "for i, conc in enumerate(concs):\n",
    "    plt.subplot(1, 3, i+1)           # inicie o sub-gráfico \"i+1\"\n",
    "    plt.plot(t, conc, '--k', lw = 2.5)  # plote a linha tracejada\n",
    "    plt.title(f'Ordem {i}', fontsize = 19)\n",
    "    x1, w1 = t12[i][0]/2, t12[i][0] # posição, largura da barra 1\n",
    "    x2, w2 = t12[i][0] + t12[i][1]/2, t12[i][1] # barra 2\n",
    "    x3, w3 = t12[i][0] + t12[i][1] + t12[i][2]/2, t12[i][2] # b 3\n",
    "    plt.bar(x1, A0, width = w1)\n",
    "    plt.bar(x2, A0, width = w2)\n",
    "    plt.bar(x3, A0, width = w3)\n",
    "    plt.xlabel('t / s', fontsize = 22)\n",
    "    plt.ylabel('[A] / M', fontsize = 22)    \n",
    "    plt.xticks([0,1,2,3], fontsize = 15)\n",
    "    plt.yticks([0,1,2,3,4], fontsize = 15)\n",
    "plt.tight_layout()\n",
    "plt.savefig('cinetica7.png', dpi = 400)"
   ]
  },
  {
   "cell_type": "markdown",
   "id": "f4692de9",
   "metadata": {},
   "source": [
    "# Fim"
   ]
  }
 ],
 "metadata": {
  "kernelspec": {
   "display_name": "Python 3",
   "language": "python",
   "name": "python3"
  },
  "language_info": {
   "codemirror_mode": {
    "name": "ipython",
    "version": 3
   },
   "file_extension": ".py",
   "mimetype": "text/x-python",
   "name": "python",
   "nbconvert_exporter": "python",
   "pygments_lexer": "ipython3",
   "version": "3.7.10"
  }
 },
 "nbformat": 4,
 "nbformat_minor": 5
}
